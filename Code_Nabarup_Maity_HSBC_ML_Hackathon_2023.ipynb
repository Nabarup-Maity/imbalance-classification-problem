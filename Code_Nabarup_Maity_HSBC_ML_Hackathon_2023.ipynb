{
 "cells": [
  {
   "cell_type": "markdown",
   "id": "6d4760c6",
   "metadata": {},
   "source": [
    "# Hack the Hackers - HSBC ML Hackathon 2023\n",
    "## Machine-Learning - Payment- Transfer Problem\n",
    "\n",
    "https://www.hackerearth.com/challenges/competitive/hack-the-hackers-hsbc-ml-hackathon-2023/machine-learning/payment-transfer-8-4ea2d65c/"
   ]
  },
  {
   "cell_type": "markdown",
   "id": "7e510794",
   "metadata": {},
   "source": [
    "__Problem Description:__ You are working as a data scientist with the Payments team of the bank. The team is continually responding to\n",
    "the emerging threats by building up cutting-edge machine learning driven models and strategies, working with the\n",
    "best-in-class service providers specialized in counter-fraud solutions. In recent years, there has been an increased\n",
    "scrutiny of the digital payments to check for its genuineness.\n",
    "\n",
    "To aid the team to deal with this problem, you are provided with the payments data to predict whether the\n",
    "customer themselves have made the transfer or not.The payments data contains the attributes which gets\n",
    "captures when a payment is initiated by a banking customer."
   ]
  },
  {
   "cell_type": "markdown",
   "id": "70a286d3",
   "metadata": {},
   "source": [
    "__Task:__\n",
    "You are required to build a machine learning model that can predict whether the customer themselves have\n",
    "made the transfer or not."
   ]
  },
  {
   "cell_type": "markdown",
   "id": "c15080c8",
   "metadata": {},
   "source": [
    "__Dataset description:__\n",
    "\n",
    "The dataset folder contains the following files:\n",
    "\n",
    "* train.csv: 233633 x 14\n",
    "\n",
    "* train_helper.csv: 1231200 x 10\n",
    "\n",
    "* test.csv: 215852 x 13\n",
    "\n",
    "* test_helper.csv: 1160950 x 10\n",
    "\n",
    "* sample submission.csv: 215852 x 3"
   ]
  },
  {
   "cell_type": "markdown",
   "id": "f130766d",
   "metadata": {},
   "source": [
    "Based on the given data below are the assumptions.\n",
    "\n",
    "V1 - CUID: This column represents the customer unique identifier, which is a unique identifier assigned to each customer of the bank.\n",
    "\n",
    "V2 - TID: This column represents the transaction identifier, which is a unique identifier assigned to each payment transaction initiated by the customer.\n",
    "\n",
    "V3 - EID: This column represents the event identifier, which is a unique identifier assigned to each event that is related to the payment transaction. An event can be any action related to the transaction, such as a change in its status.\n",
    "\n",
    "V4 - Amount: This column represents the amount of money transferred in the payment transaction.\n",
    "\n",
    "V5 - Timestamp: This column represents the date and time when the payment transaction was initiated by the customer.\n",
    "\n",
    "V6 - Unknown\n",
    "\n",
    "V7 - Unknown\n",
    "\n",
    "V8 - Unknown\n",
    "\n",
    "V9 - Unknown\n",
    "\n",
    "V10 -Unknown\n",
    "\n",
    "V11 - Unknown\n",
    "\n",
    "V12 - Unknown\n",
    "\n",
    "Target - Fraudulent: This column represents the target variable, which indicates whether the payment transaction is fraudulent or not. A value of 1 indicates a fraudulent transaction, and a value of 0 indicates a genuine transaction.\n",
    "\n",
    "V13 - Unknown Date."
   ]
  },
  {
   "cell_type": "markdown",
   "id": "9e0f06ec",
   "metadata": {},
   "source": [
    "# Exploratory data analysis"
   ]
  },
  {
   "cell_type": "code",
   "execution_count": 1,
   "id": "dcf6b36b",
   "metadata": {},
   "outputs": [],
   "source": [
    "# import python modules\n",
    "import pandas as pd\n",
    "import numpy as np\n",
    "from datetime import datetime, timedelta\n",
    "import matplotlib.pyplot as plt\n",
    "import seaborn as sns\n",
    "from scipy import stats\n",
    "import pandas_profiling as pp\n",
    "from sklearn.model_selection import train_test_split\n",
    "from sklearn.ensemble import RandomForestClassifier\n",
    "from sklearn.metrics import accuracy_score\n",
    "from imblearn.over_sampling import ADASYN\n",
    "from feature_engine.selection import DropDuplicateFeatures, DropConstantFeatures, DropCorrelatedFeatures, RecursiveFeatureElimination\n",
    "from sklearn.linear_model import LogisticRegression\n",
    "from sklearn import metrics\n",
    "from sklearn.metrics import classification_report\n",
    "from sklearn.metrics import roc_auc_score, roc_curve\n",
    "from sklearn.feature_selection import SelectKBest\n",
    "from sklearn.feature_selection import chi2\n",
    "from sklearn import svm\n",
    "from sklearn.model_selection import KFold\n",
    "from sklearn.model_selection import GridSearchCV, StratifiedKFold\n",
    "from sklearn.model_selection import cross_val_score\n",
    "from sklearn.ensemble import GradientBoostingClassifier\n",
    "from sklearn.naive_bayes import BernoulliNB\n",
    "import xgboost as xgb\n",
    "from sklearn.utils import class_weight\n",
    "from sklearn.linear_model import LogisticRegression\n",
    "from sklearn.discriminant_analysis import QuadraticDiscriminantAnalysis\n",
    "from sklearn.metrics import recall_score\n",
    "sns.set(font_scale=1.6)\n",
    "    \n",
    "plt.style.use('seaborn-darkgrid')\n",
    "plt.rcParams['figure.figsize'] = [25, 12]\n",
    "plt.rcParams['font.size'] = 16\n",
    "    \n",
    "import warnings\n",
    "warnings.filterwarnings('ignore')"
   ]
  },
  {
   "cell_type": "code",
   "execution_count": 2,
   "id": "bff89e65",
   "metadata": {},
   "outputs": [
    {
     "name": "stdout",
     "output_type": "stream",
     "text": [
      "G:\\Final_laptop_backup\\HSBC_challenge\\Notebook\n"
     ]
    }
   ],
   "source": [
    "import os\n",
    "print(os.getcwd())"
   ]
  },
  {
   "cell_type": "code",
   "execution_count": 3,
   "id": "e96fe750",
   "metadata": {},
   "outputs": [],
   "source": [
    "# Load the payments data into a Pandas DataFrame\n",
    "train_data = pd.read_csv(\"G:/Final_laptop_backup/HSBC_challenge/dataset/train.csv\")"
   ]
  },
  {
   "cell_type": "code",
   "execution_count": 4,
   "id": "2f547568",
   "metadata": {},
   "outputs": [
    {
     "name": "stdout",
     "output_type": "stream",
     "text": [
      "Train Data shape:  (233633, 14)\n"
     ]
    }
   ],
   "source": [
    "print('Train Data shape: ',train_data.shape)"
   ]
  },
  {
   "cell_type": "code",
   "execution_count": 5,
   "id": "28ed1238",
   "metadata": {},
   "outputs": [
    {
     "data": {
      "text/html": [
       "<div>\n",
       "<style scoped>\n",
       "    .dataframe tbody tr th:only-of-type {\n",
       "        vertical-align: middle;\n",
       "    }\n",
       "\n",
       "    .dataframe tbody tr th {\n",
       "        vertical-align: top;\n",
       "    }\n",
       "\n",
       "    .dataframe thead th {\n",
       "        text-align: right;\n",
       "    }\n",
       "</style>\n",
       "<table border=\"1\" class=\"dataframe\">\n",
       "  <thead>\n",
       "    <tr style=\"text-align: right;\">\n",
       "      <th></th>\n",
       "      <th>V1</th>\n",
       "      <th>V2</th>\n",
       "      <th>V3</th>\n",
       "      <th>V4</th>\n",
       "      <th>V5</th>\n",
       "      <th>V6</th>\n",
       "      <th>V7</th>\n",
       "      <th>V8</th>\n",
       "      <th>V9</th>\n",
       "      <th>V10</th>\n",
       "      <th>V11</th>\n",
       "      <th>V12</th>\n",
       "      <th>Target</th>\n",
       "      <th>V13</th>\n",
       "    </tr>\n",
       "  </thead>\n",
       "  <tbody>\n",
       "    <tr>\n",
       "      <th>0</th>\n",
       "      <td>CUID1872</td>\n",
       "      <td>TID229526</td>\n",
       "      <td>EID2062082</td>\n",
       "      <td>485.69445</td>\n",
       "      <td>2020-03-20 22:51:30</td>\n",
       "      <td>376474</td>\n",
       "      <td>A</td>\n",
       "      <td>BA1</td>\n",
       "      <td>BB425559</td>\n",
       "      <td>PD44707</td>\n",
       "      <td>CC1</td>\n",
       "      <td>CP0</td>\n",
       "      <td>0</td>\n",
       "      <td>2020-03-21 00:00:00</td>\n",
       "    </tr>\n",
       "    <tr>\n",
       "      <th>1</th>\n",
       "      <td>CUID5533</td>\n",
       "      <td>TID244499</td>\n",
       "      <td>EID1459012</td>\n",
       "      <td>393.45200</td>\n",
       "      <td>2020-04-28 07:17:12</td>\n",
       "      <td>33227</td>\n",
       "      <td>A</td>\n",
       "      <td>BA4793</td>\n",
       "      <td>BB248012</td>\n",
       "      <td>PD39453</td>\n",
       "      <td>CC1</td>\n",
       "      <td>CP0</td>\n",
       "      <td>0</td>\n",
       "      <td>2020-04-28 00:00:00</td>\n",
       "    </tr>\n",
       "    <tr>\n",
       "      <th>2</th>\n",
       "      <td>CUID5278</td>\n",
       "      <td>TID311877</td>\n",
       "      <td>EID0</td>\n",
       "      <td>375.75000</td>\n",
       "      <td>2020-08-15 04:11:43</td>\n",
       "      <td>0</td>\n",
       "      <td>F</td>\n",
       "      <td>BA5631</td>\n",
       "      <td>BB166256</td>\n",
       "      <td>PD237664</td>\n",
       "      <td>CC1</td>\n",
       "      <td>CP0</td>\n",
       "      <td>0</td>\n",
       "      <td>NaN</td>\n",
       "    </tr>\n",
       "  </tbody>\n",
       "</table>\n",
       "</div>"
      ],
      "text/plain": [
       "         V1         V2          V3         V4                   V5      V6 V7  \\\n",
       "0  CUID1872  TID229526  EID2062082  485.69445  2020-03-20 22:51:30  376474  A   \n",
       "1  CUID5533  TID244499  EID1459012  393.45200  2020-04-28 07:17:12   33227  A   \n",
       "2  CUID5278  TID311877        EID0  375.75000  2020-08-15 04:11:43       0  F   \n",
       "\n",
       "       V8        V9       V10  V11  V12  Target                  V13  \n",
       "0     BA1  BB425559   PD44707  CC1  CP0       0  2020-03-21 00:00:00  \n",
       "1  BA4793  BB248012   PD39453  CC1  CP0       0  2020-04-28 00:00:00  \n",
       "2  BA5631  BB166256  PD237664  CC1  CP0       0                  NaN  "
      ]
     },
     "execution_count": 5,
     "metadata": {},
     "output_type": "execute_result"
    }
   ],
   "source": [
    "#lets check how data looks like\n",
    "train_data.head(3)"
   ]
  },
  {
   "cell_type": "code",
   "execution_count": 6,
   "id": "f1a2ee5c",
   "metadata": {},
   "outputs": [
    {
     "name": "stdout",
     "output_type": "stream",
     "text": [
      "<class 'pandas.core.frame.DataFrame'>\n",
      "RangeIndex: 233633 entries, 0 to 233632\n",
      "Data columns (total 14 columns):\n",
      " #   Column  Non-Null Count   Dtype  \n",
      "---  ------  --------------   -----  \n",
      " 0   V1      233633 non-null  object \n",
      " 1   V2      233633 non-null  object \n",
      " 2   V3      233633 non-null  object \n",
      " 3   V4      233633 non-null  float64\n",
      " 4   V5      233633 non-null  object \n",
      " 5   V6      233633 non-null  int64  \n",
      " 6   V7      233633 non-null  object \n",
      " 7   V8      233633 non-null  object \n",
      " 8   V9      233633 non-null  object \n",
      " 9   V10     233633 non-null  object \n",
      " 10  V11     233633 non-null  object \n",
      " 11  V12     233633 non-null  object \n",
      " 12  Target  233633 non-null  int64  \n",
      " 13  V13     231762 non-null  object \n",
      "dtypes: float64(1), int64(2), object(11)\n",
      "memory usage: 25.0+ MB\n"
     ]
    }
   ],
   "source": [
    "#lets check the data types of the columns\n",
    "train_data.info()"
   ]
  },
  {
   "cell_type": "code",
   "execution_count": 7,
   "id": "e66fc794",
   "metadata": {},
   "outputs": [
    {
     "data": {
      "text/html": [
       "<div>\n",
       "<style scoped>\n",
       "    .dataframe tbody tr th:only-of-type {\n",
       "        vertical-align: middle;\n",
       "    }\n",
       "\n",
       "    .dataframe tbody tr th {\n",
       "        vertical-align: top;\n",
       "    }\n",
       "\n",
       "    .dataframe thead th {\n",
       "        text-align: right;\n",
       "    }\n",
       "</style>\n",
       "<table border=\"1\" class=\"dataframe\">\n",
       "  <thead>\n",
       "    <tr style=\"text-align: right;\">\n",
       "      <th></th>\n",
       "      <th>V4</th>\n",
       "      <th>V6</th>\n",
       "      <th>Target</th>\n",
       "    </tr>\n",
       "  </thead>\n",
       "  <tbody>\n",
       "    <tr>\n",
       "      <th>count</th>\n",
       "      <td>233633.000000</td>\n",
       "      <td>233633.000000</td>\n",
       "      <td>233633.000000</td>\n",
       "    </tr>\n",
       "    <tr>\n",
       "      <th>mean</th>\n",
       "      <td>266.360390</td>\n",
       "      <td>103071.463312</td>\n",
       "      <td>0.005521</td>\n",
       "    </tr>\n",
       "    <tr>\n",
       "      <th>std</th>\n",
       "      <td>1338.657212</td>\n",
       "      <td>143360.598172</td>\n",
       "      <td>0.074101</td>\n",
       "    </tr>\n",
       "    <tr>\n",
       "      <th>min</th>\n",
       "      <td>0.008350</td>\n",
       "      <td>0.000000</td>\n",
       "      <td>0.000000</td>\n",
       "    </tr>\n",
       "    <tr>\n",
       "      <th>25%</th>\n",
       "      <td>12.525000</td>\n",
       "      <td>33227.000000</td>\n",
       "      <td>0.000000</td>\n",
       "    </tr>\n",
       "    <tr>\n",
       "      <th>50%</th>\n",
       "      <td>33.400000</td>\n",
       "      <td>33227.000000</td>\n",
       "      <td>0.000000</td>\n",
       "    </tr>\n",
       "    <tr>\n",
       "      <th>75%</th>\n",
       "      <td>115.230000</td>\n",
       "      <td>33227.000000</td>\n",
       "      <td>0.000000</td>\n",
       "    </tr>\n",
       "    <tr>\n",
       "      <th>max</th>\n",
       "      <td>41750.000000</td>\n",
       "      <td>447246.000000</td>\n",
       "      <td>1.000000</td>\n",
       "    </tr>\n",
       "  </tbody>\n",
       "</table>\n",
       "</div>"
      ],
      "text/plain": [
       "                  V4             V6         Target\n",
       "count  233633.000000  233633.000000  233633.000000\n",
       "mean      266.360390  103071.463312       0.005521\n",
       "std      1338.657212  143360.598172       0.074101\n",
       "min         0.008350       0.000000       0.000000\n",
       "25%        12.525000   33227.000000       0.000000\n",
       "50%        33.400000   33227.000000       0.000000\n",
       "75%       115.230000   33227.000000       0.000000\n",
       "max     41750.000000  447246.000000       1.000000"
      ]
     },
     "execution_count": 7,
     "metadata": {},
     "output_type": "execute_result"
    }
   ],
   "source": [
    "#describe numerical column\n",
    "train_data.describe()"
   ]
  },
  {
   "cell_type": "code",
   "execution_count": 8,
   "id": "312c000f",
   "metadata": {},
   "outputs": [
    {
     "data": {
      "text/html": [
       "<div>\n",
       "<style scoped>\n",
       "    .dataframe tbody tr th:only-of-type {\n",
       "        vertical-align: middle;\n",
       "    }\n",
       "\n",
       "    .dataframe tbody tr th {\n",
       "        vertical-align: top;\n",
       "    }\n",
       "\n",
       "    .dataframe thead th {\n",
       "        text-align: right;\n",
       "    }\n",
       "</style>\n",
       "<table border=\"1\" class=\"dataframe\">\n",
       "  <thead>\n",
       "    <tr style=\"text-align: right;\">\n",
       "      <th></th>\n",
       "      <th>V1</th>\n",
       "      <th>V2</th>\n",
       "      <th>V3</th>\n",
       "      <th>V5</th>\n",
       "      <th>V7</th>\n",
       "      <th>V8</th>\n",
       "      <th>V9</th>\n",
       "      <th>V10</th>\n",
       "      <th>V11</th>\n",
       "      <th>V12</th>\n",
       "      <th>V13</th>\n",
       "    </tr>\n",
       "  </thead>\n",
       "  <tbody>\n",
       "    <tr>\n",
       "      <th>count</th>\n",
       "      <td>233633</td>\n",
       "      <td>233633</td>\n",
       "      <td>233633</td>\n",
       "      <td>233633</td>\n",
       "      <td>233633</td>\n",
       "      <td>233633</td>\n",
       "      <td>233633</td>\n",
       "      <td>233633</td>\n",
       "      <td>233633</td>\n",
       "      <td>233633</td>\n",
       "      <td>231762</td>\n",
       "    </tr>\n",
       "    <tr>\n",
       "      <th>unique</th>\n",
       "      <td>3684</td>\n",
       "      <td>233633</td>\n",
       "      <td>206627</td>\n",
       "      <td>231004</td>\n",
       "      <td>6</td>\n",
       "      <td>35508</td>\n",
       "      <td>5765</td>\n",
       "      <td>40909</td>\n",
       "      <td>1</td>\n",
       "      <td>4075</td>\n",
       "      <td>2922</td>\n",
       "    </tr>\n",
       "    <tr>\n",
       "      <th>top</th>\n",
       "      <td>CUID914</td>\n",
       "      <td>TID229526</td>\n",
       "      <td>EID0</td>\n",
       "      <td>2020-09-15 08:11:46</td>\n",
       "      <td>A</td>\n",
       "      <td>BA58575</td>\n",
       "      <td>BB3336</td>\n",
       "      <td>PD254442</td>\n",
       "      <td>CC1</td>\n",
       "      <td>CP176843</td>\n",
       "      <td>2020-03-18 00:00:00</td>\n",
       "    </tr>\n",
       "    <tr>\n",
       "      <th>freq</th>\n",
       "      <td>3467</td>\n",
       "      <td>1</td>\n",
       "      <td>1330</td>\n",
       "      <td>5</td>\n",
       "      <td>228596</td>\n",
       "      <td>7100</td>\n",
       "      <td>26028</td>\n",
       "      <td>3547</td>\n",
       "      <td>233633</td>\n",
       "      <td>3467</td>\n",
       "      <td>1376</td>\n",
       "    </tr>\n",
       "  </tbody>\n",
       "</table>\n",
       "</div>"
      ],
      "text/plain": [
       "             V1         V2      V3                   V5      V7       V8  \\\n",
       "count    233633     233633  233633               233633  233633   233633   \n",
       "unique     3684     233633  206627               231004       6    35508   \n",
       "top     CUID914  TID229526    EID0  2020-09-15 08:11:46       A  BA58575   \n",
       "freq       3467          1    1330                    5  228596     7100   \n",
       "\n",
       "            V9       V10     V11       V12                  V13  \n",
       "count   233633    233633  233633    233633               231762  \n",
       "unique    5765     40909       1      4075                 2922  \n",
       "top     BB3336  PD254442     CC1  CP176843  2020-03-18 00:00:00  \n",
       "freq     26028      3547  233633      3467                 1376  "
      ]
     },
     "execution_count": 8,
     "metadata": {},
     "output_type": "execute_result"
    }
   ],
   "source": [
    "#describe categorical column\n",
    "train_data.describe(include = ['O'])"
   ]
  },
  {
   "cell_type": "code",
   "execution_count": 9,
   "id": "7f20dd89",
   "metadata": {},
   "outputs": [
    {
     "data": {
      "text/plain": [
       "0    232343\n",
       "1      1290\n",
       "Name: Target, dtype: int64"
      ]
     },
     "execution_count": 9,
     "metadata": {},
     "output_type": "execute_result"
    }
   ],
   "source": [
    "# check target distribution before marging\n",
    "train_data['Target'].value_counts()"
   ]
  },
  {
   "cell_type": "code",
   "execution_count": 10,
   "id": "1318686a",
   "metadata": {},
   "outputs": [
    {
     "data": {
      "text/plain": [
       "V1          3684\n",
       "V2        233633\n",
       "V3        206627\n",
       "V4         16207\n",
       "V5        231004\n",
       "V6           307\n",
       "V7             6\n",
       "V8         35508\n",
       "V9          5765\n",
       "V10        40909\n",
       "V11            1\n",
       "V12         4075\n",
       "Target         2\n",
       "V13         2922\n",
       "dtype: int64"
      ]
     },
     "execution_count": 10,
     "metadata": {},
     "output_type": "execute_result"
    }
   ],
   "source": [
    "# Check unique value for each attribute\n",
    "train_data.nunique()"
   ]
  },
  {
   "cell_type": "markdown",
   "id": "ce38acd2",
   "metadata": {},
   "source": [
    "#### Possibly there are variables that are numerical but represents categorical values or vice versa. Lets check."
   ]
  },
  {
   "cell_type": "code",
   "execution_count": 11,
   "id": "85f78b38",
   "metadata": {},
   "outputs": [
    {
     "data": {
      "text/html": [
       "<div>\n",
       "<style scoped>\n",
       "    .dataframe tbody tr th:only-of-type {\n",
       "        vertical-align: middle;\n",
       "    }\n",
       "\n",
       "    .dataframe tbody tr th {\n",
       "        vertical-align: top;\n",
       "    }\n",
       "\n",
       "    .dataframe thead th {\n",
       "        text-align: right;\n",
       "    }\n",
       "</style>\n",
       "<table border=\"1\" class=\"dataframe\">\n",
       "  <thead>\n",
       "    <tr style=\"text-align: right;\">\n",
       "      <th></th>\n",
       "      <th>V4</th>\n",
       "      <th>V6</th>\n",
       "      <th>Target</th>\n",
       "    </tr>\n",
       "  </thead>\n",
       "  <tbody>\n",
       "    <tr>\n",
       "      <th>0</th>\n",
       "      <td>485.69445</td>\n",
       "      <td>376474</td>\n",
       "      <td>0</td>\n",
       "    </tr>\n",
       "    <tr>\n",
       "      <th>1</th>\n",
       "      <td>393.45200</td>\n",
       "      <td>33227</td>\n",
       "      <td>0</td>\n",
       "    </tr>\n",
       "    <tr>\n",
       "      <th>2</th>\n",
       "      <td>375.75000</td>\n",
       "      <td>0</td>\n",
       "      <td>0</td>\n",
       "    </tr>\n",
       "    <tr>\n",
       "      <th>3</th>\n",
       "      <td>6.97225</td>\n",
       "      <td>0</td>\n",
       "      <td>0</td>\n",
       "    </tr>\n",
       "    <tr>\n",
       "      <th>4</th>\n",
       "      <td>16.70000</td>\n",
       "      <td>0</td>\n",
       "      <td>0</td>\n",
       "    </tr>\n",
       "    <tr>\n",
       "      <th>...</th>\n",
       "      <td>...</td>\n",
       "      <td>...</td>\n",
       "      <td>...</td>\n",
       "    </tr>\n",
       "    <tr>\n",
       "      <th>233628</th>\n",
       "      <td>41.75000</td>\n",
       "      <td>391083</td>\n",
       "      <td>0</td>\n",
       "    </tr>\n",
       "    <tr>\n",
       "      <th>233629</th>\n",
       "      <td>83.50000</td>\n",
       "      <td>391083</td>\n",
       "      <td>0</td>\n",
       "    </tr>\n",
       "    <tr>\n",
       "      <th>233630</th>\n",
       "      <td>41.75000</td>\n",
       "      <td>391083</td>\n",
       "      <td>0</td>\n",
       "    </tr>\n",
       "    <tr>\n",
       "      <th>233631</th>\n",
       "      <td>167.00000</td>\n",
       "      <td>53</td>\n",
       "      <td>0</td>\n",
       "    </tr>\n",
       "    <tr>\n",
       "      <th>233632</th>\n",
       "      <td>167.00000</td>\n",
       "      <td>53</td>\n",
       "      <td>0</td>\n",
       "    </tr>\n",
       "  </tbody>\n",
       "</table>\n",
       "<p>233633 rows × 3 columns</p>\n",
       "</div>"
      ],
      "text/plain": [
       "               V4      V6  Target\n",
       "0       485.69445  376474       0\n",
       "1       393.45200   33227       0\n",
       "2       375.75000       0       0\n",
       "3         6.97225       0       0\n",
       "4        16.70000       0       0\n",
       "...           ...     ...     ...\n",
       "233628   41.75000  391083       0\n",
       "233629   83.50000  391083       0\n",
       "233630   41.75000  391083       0\n",
       "233631  167.00000      53       0\n",
       "233632  167.00000      53       0\n",
       "\n",
       "[233633 rows x 3 columns]"
      ]
     },
     "execution_count": 11,
     "metadata": {},
     "output_type": "execute_result"
    }
   ],
   "source": [
    "train_data.select_dtypes(np.number)"
   ]
  },
  {
   "cell_type": "markdown",
   "id": "03e9519a",
   "metadata": {},
   "source": [
    "### Observation:\n",
    "V6 it seems categorical. Lets make it categorical."
   ]
  },
  {
   "cell_type": "code",
   "execution_count": 12,
   "id": "3f9f1053",
   "metadata": {},
   "outputs": [],
   "source": [
    "#convert V6 to categorical\n",
    "train_data['V6'] = train_data['V6'].astype(str)"
   ]
  },
  {
   "cell_type": "code",
   "execution_count": 13,
   "id": "fa9d304d",
   "metadata": {},
   "outputs": [
    {
     "name": "stdout",
     "output_type": "stream",
     "text": [
      "quantitative::  ['V4', 'Target']\n",
      "qualitative::  ['V1', 'V2', 'V3', 'V5', 'V6', 'V7', 'V8', 'V9', 'V10', 'V11', 'V12', 'V13']\n"
     ]
    }
   ],
   "source": [
    "quantitative = []\n",
    "qualitative = []\n",
    "for i in train_data.columns:\n",
    "    if train_data.dtypes[i] != 'object':\n",
    "        quantitative.append(i)\n",
    "    else:\n",
    "        qualitative.append(i)\n",
    "print('quantitative:: ',quantitative)\n",
    "print('qualitative:: ',qualitative)"
   ]
  },
  {
   "cell_type": "markdown",
   "id": "0a5ad89d",
   "metadata": {},
   "source": [
    "# Analyzing numerical variable"
   ]
  },
  {
   "cell_type": "code",
   "execution_count": 14,
   "id": "5df89937",
   "metadata": {},
   "outputs": [
    {
     "data": {
      "image/png": "[encoded data removed]",
      "text/plain": [
       "<Figure size 1296x720 with 2 Axes>"
      ]
     },
     "metadata": {
      "needs_background": "light"
     },
     "output_type": "display_data"
    }
   ],
   "source": [
    "#Analyzing nuumerical variable\n",
    "train_data[quantitative].hist(bins=12, figsize=(18, 10));"
   ]
  },
  {
   "cell_type": "code",
   "execution_count": 15,
   "id": "66e65b44",
   "metadata": {},
   "outputs": [
    {
     "data": {
      "image/png": "[encoded data removed]",
      "text/plain": [
       "<Figure size 2160x1440 with 2 Axes>"
      ]
     },
     "metadata": {
      "needs_background": "light"
     },
     "output_type": "display_data"
    }
   ],
   "source": [
    "num_attributes = train_data.select_dtypes(exclude='object')\n",
    "columns = num_attributes.columns.tolist()\n",
    "j = 1\n",
    "plt.rcParams['figure.figsize'] = [30, 20]\n",
    "plt.rcParams['font.size'] = 15\n",
    "for column in columns:\n",
    "    plt.subplot(3, 4, j)\n",
    "    sns.distplot(num_attributes[column]);\n",
    "    \n",
    "    j += 1"
   ]
  },
  {
   "cell_type": "code",
   "execution_count": 16,
   "id": "bd2ee17e",
   "metadata": {},
   "outputs": [],
   "source": [
    "#Analyzing categorical variable\n",
    "# fig, ax = plt.subplots(2, 4, figsize=(22, 12))\n",
    "# for variable, subplot in zip(qualitative, ax.flatten()):\n",
    "#     if variable not in ['V1','V2','V3','V5','V6','V9','V10','V12','V13']:\n",
    "#         sns.countplot(train_data[variable], ax=subplot)\n",
    "#         for label in subplot.get_xticklabels():\n",
    "#             label.set_rotation(90)"
   ]
  },
  {
   "cell_type": "code",
   "execution_count": 17,
   "id": "a278ebe3",
   "metadata": {},
   "outputs": [
    {
     "data": {
      "text/html": [
       "<div>\n",
       "<style scoped>\n",
       "    .dataframe tbody tr th:only-of-type {\n",
       "        vertical-align: middle;\n",
       "    }\n",
       "\n",
       "    .dataframe tbody tr th {\n",
       "        vertical-align: top;\n",
       "    }\n",
       "\n",
       "    .dataframe thead th {\n",
       "        text-align: right;\n",
       "    }\n",
       "</style>\n",
       "<table border=\"1\" class=\"dataframe\">\n",
       "  <thead>\n",
       "    <tr style=\"text-align: right;\">\n",
       "      <th></th>\n",
       "      <th>V4</th>\n",
       "      <th>Target</th>\n",
       "    </tr>\n",
       "  </thead>\n",
       "  <tbody>\n",
       "    <tr>\n",
       "      <th>0</th>\n",
       "      <td>485.69445</td>\n",
       "      <td>0</td>\n",
       "    </tr>\n",
       "    <tr>\n",
       "      <th>1</th>\n",
       "      <td>393.45200</td>\n",
       "      <td>0</td>\n",
       "    </tr>\n",
       "    <tr>\n",
       "      <th>2</th>\n",
       "      <td>375.75000</td>\n",
       "      <td>0</td>\n",
       "    </tr>\n",
       "    <tr>\n",
       "      <th>3</th>\n",
       "      <td>6.97225</td>\n",
       "      <td>0</td>\n",
       "    </tr>\n",
       "    <tr>\n",
       "      <th>4</th>\n",
       "      <td>16.70000</td>\n",
       "      <td>0</td>\n",
       "    </tr>\n",
       "    <tr>\n",
       "      <th>...</th>\n",
       "      <td>...</td>\n",
       "      <td>...</td>\n",
       "    </tr>\n",
       "    <tr>\n",
       "      <th>233628</th>\n",
       "      <td>41.75000</td>\n",
       "      <td>0</td>\n",
       "    </tr>\n",
       "    <tr>\n",
       "      <th>233629</th>\n",
       "      <td>83.50000</td>\n",
       "      <td>0</td>\n",
       "    </tr>\n",
       "    <tr>\n",
       "      <th>233630</th>\n",
       "      <td>41.75000</td>\n",
       "      <td>0</td>\n",
       "    </tr>\n",
       "    <tr>\n",
       "      <th>233631</th>\n",
       "      <td>167.00000</td>\n",
       "      <td>0</td>\n",
       "    </tr>\n",
       "    <tr>\n",
       "      <th>233632</th>\n",
       "      <td>167.00000</td>\n",
       "      <td>0</td>\n",
       "    </tr>\n",
       "  </tbody>\n",
       "</table>\n",
       "<p>233633 rows × 2 columns</p>\n",
       "</div>"
      ],
      "text/plain": [
       "               V4  Target\n",
       "0       485.69445       0\n",
       "1       393.45200       0\n",
       "2       375.75000       0\n",
       "3         6.97225       0\n",
       "4        16.70000       0\n",
       "...           ...     ...\n",
       "233628   41.75000       0\n",
       "233629   83.50000       0\n",
       "233630   41.75000       0\n",
       "233631  167.00000       0\n",
       "233632  167.00000       0\n",
       "\n",
       "[233633 rows x 2 columns]"
      ]
     },
     "execution_count": 17,
     "metadata": {},
     "output_type": "execute_result"
    }
   ],
   "source": [
    "#Possibly there are variables that are numerical but represents categorical values or vice versa. Lets check.\n",
    "train_data.select_dtypes(np.number)"
   ]
  },
  {
   "cell_type": "code",
   "execution_count": 18,
   "id": "33680cb5",
   "metadata": {},
   "outputs": [
    {
     "data": {
      "application/vnd.jupyter.widget-view+json": {
       "model_id": "2f9e8a6509f74c6cbfd5c5d26c7a3eeb",
       "version_major": 2,
       "version_minor": 0
      },
      "text/plain": [
       "Summarize dataset:   0%|          | 0/5 [00:00<?, ?it/s]"
      ]
     },
     "metadata": {},
     "output_type": "display_data"
    },
    {
     "data": {
      "application/vnd.jupyter.widget-view+json": {
       "model_id": "5609304fdfa54d508da8ac368429eedf",
       "version_major": 2,
       "version_minor": 0
      },
      "text/plain": [
       "Generate report structure:   0%|          | 0/1 [00:00<?, ?it/s]"
      ]
     },
     "metadata": {},
     "output_type": "display_data"
    },
    {
     "data": {
      "application/vnd.jupyter.widget-view+json": {
       "model_id": "6601107f34304de3ace311cb29909dcc",
       "version_major": 2,
       "version_minor": 0
      },
      "text/plain": [
       "Render HTML:   0%|          | 0/1 [00:00<?, ?it/s]"
      ]
     },
     "metadata": {},
     "output_type": "display_data"
    },
    {
     "data": {
      "application/vnd.jupyter.widget-view+json": {
       "model_id": "4c81fd8cf902430f857a0040f2d36865",
       "version_major": 2,
       "version_minor": 0
      },
      "text/plain": [
       "Export report to file:   0%|          | 0/1 [00:00<?, ?it/s]"
      ]
     },
     "metadata": {},
     "output_type": "display_data"
    }
   ],
   "source": [
    "#Pandas profiling\n",
    "profile = pp.ProfileReport(train_data)\n",
    "profile.to_file(\"EDA_profile.html\")"
   ]
  },
  {
   "cell_type": "markdown",
   "id": "6fb7d0ba",
   "metadata": {},
   "source": [
    "# Handle Missing Value"
   ]
  },
  {
   "cell_type": "code",
   "execution_count": 19,
   "id": "ab6a31f8",
   "metadata": {},
   "outputs": [
    {
     "data": {
      "text/plain": [
       "V1           0\n",
       "V2           0\n",
       "V3           0\n",
       "V4           0\n",
       "V5           0\n",
       "V6           0\n",
       "V7           0\n",
       "V8           0\n",
       "V9           0\n",
       "V10          0\n",
       "V11          0\n",
       "V12          0\n",
       "Target       0\n",
       "V13       1871\n",
       "dtype: int64"
      ]
     },
     "execution_count": 19,
     "metadata": {},
     "output_type": "execute_result"
    }
   ],
   "source": [
    "#Check for missing value\n",
    "train_data.isnull().sum()"
   ]
  },
  {
   "cell_type": "code",
   "execution_count": 20,
   "id": "01ec4fd0",
   "metadata": {},
   "outputs": [
    {
     "data": {
      "text/plain": [
       "V13    0.800829\n",
       "dtype: float64"
      ]
     },
     "execution_count": 20,
     "metadata": {},
     "output_type": "execute_result"
    }
   ],
   "source": [
    "#Check missing data percentage\n",
    "missing = (train_data.isnull().sum() / train_data.shape[0] * 100).sort_values(ascending=False)\n",
    "missing = missing[missing > 0]\n",
    "missing"
   ]
  },
  {
   "cell_type": "markdown",
   "id": "8368a2c3",
   "metadata": {},
   "source": [
    "We are extracting features using V13 column later in feature engineering section. There we have mentioned the imputation logic."
   ]
  },
  {
   "cell_type": "markdown",
   "id": "dfd326f4",
   "metadata": {},
   "source": [
    "# Target distribution check for all features"
   ]
  },
  {
   "cell_type": "code",
   "execution_count": null,
   "id": "4373e4e7",
   "metadata": {},
   "outputs": [],
   "source": [
    "sns.displot(train_data, x='V4', hue='Target', multiple=\"stack\")"
   ]
  },
  {
   "cell_type": "code",
   "execution_count": null,
   "id": "73d81134",
   "metadata": {},
   "outputs": [],
   "source": [
    "train_data.plot.scatter(x = 'V4', y = 'Target', s = 10);"
   ]
  },
  {
   "cell_type": "code",
   "execution_count": null,
   "id": "e9188239",
   "metadata": {},
   "outputs": [],
   "source": [
    "sns.displot(train_data, x='V15', hue='Target', multiple=\"stack\")"
   ]
  },
  {
   "cell_type": "code",
   "execution_count": null,
   "id": "d240c774",
   "metadata": {},
   "outputs": [],
   "source": []
  },
  {
   "cell_type": "markdown",
   "id": "26dfd0d1",
   "metadata": {},
   "source": [
    "# Feature Engineering"
   ]
  },
  {
   "cell_type": "markdown",
   "id": "9fa59fee",
   "metadata": {},
   "source": [
    "lets add some more feature which we may or may not going to use in the model"
   ]
  },
  {
   "cell_type": "markdown",
   "id": "22af7cdf",
   "metadata": {},
   "source": [
    "# V1, V2, V3"
   ]
  },
  {
   "cell_type": "markdown",
   "id": "7712250e",
   "metadata": {},
   "source": [
    "We can use number of unique transactions for a given customer ID."
   ]
  },
  {
   "cell_type": "code",
   "execution_count": 21,
   "id": "103b3601",
   "metadata": {},
   "outputs": [],
   "source": [
    "# Group the DataFrame by CUID and count the unique transactions for each V1\n",
    "unique_transactions = train_data.groupby('V1')['V2'].nunique()"
   ]
  },
  {
   "cell_type": "code",
   "execution_count": 22,
   "id": "db55b9d4",
   "metadata": {},
   "outputs": [],
   "source": [
    "# Create a new DataFrame with the unique transactions for each V1\n",
    "df_unique_transactions = pd.DataFrame({'V1': unique_transactions.index, 'unique_transactions': unique_transactions.values})\n"
   ]
  },
  {
   "cell_type": "code",
   "execution_count": 23,
   "id": "51d6fa36",
   "metadata": {},
   "outputs": [
    {
     "data": {
      "text/html": [
       "<div>\n",
       "<style scoped>\n",
       "    .dataframe tbody tr th:only-of-type {\n",
       "        vertical-align: middle;\n",
       "    }\n",
       "\n",
       "    .dataframe tbody tr th {\n",
       "        vertical-align: top;\n",
       "    }\n",
       "\n",
       "    .dataframe thead th {\n",
       "        text-align: right;\n",
       "    }\n",
       "</style>\n",
       "<table border=\"1\" class=\"dataframe\">\n",
       "  <thead>\n",
       "    <tr style=\"text-align: right;\">\n",
       "      <th></th>\n",
       "      <th>V1</th>\n",
       "      <th>unique_transactions</th>\n",
       "    </tr>\n",
       "  </thead>\n",
       "  <tbody>\n",
       "    <tr>\n",
       "      <th>0</th>\n",
       "      <td>CUID1</td>\n",
       "      <td>42</td>\n",
       "    </tr>\n",
       "    <tr>\n",
       "      <th>1</th>\n",
       "      <td>CUID10</td>\n",
       "      <td>31</td>\n",
       "    </tr>\n",
       "    <tr>\n",
       "      <th>2</th>\n",
       "      <td>CUID100</td>\n",
       "      <td>14</td>\n",
       "    </tr>\n",
       "  </tbody>\n",
       "</table>\n",
       "</div>"
      ],
      "text/plain": [
       "        V1  unique_transactions\n",
       "0    CUID1                   42\n",
       "1   CUID10                   31\n",
       "2  CUID100                   14"
      ]
     },
     "execution_count": 23,
     "metadata": {},
     "output_type": "execute_result"
    }
   ],
   "source": [
    "df_unique_transactions.head(3)"
   ]
  },
  {
   "cell_type": "code",
   "execution_count": 24,
   "id": "b0880d57",
   "metadata": {},
   "outputs": [],
   "source": [
    "# Merge the original DataFrame with the new DataFrame on V1\n",
    "train_data = pd.merge(train_data, df_unique_transactions, on='V1')"
   ]
  },
  {
   "cell_type": "markdown",
   "id": "eb77f0bf",
   "metadata": {},
   "source": [
    " "
   ]
  },
  {
   "cell_type": "markdown",
   "id": "cadb3f00",
   "metadata": {},
   "source": [
    "# V4\n",
    "it looks like amount of transaction. now with this information what feature could be extracted.<br>\n",
    "if a transaction amount is significantly larger than the average transaction or anomalous for a given account it may be fraud."
   ]
  },
  {
   "cell_type": "code",
   "execution_count": 25,
   "id": "34505e02",
   "metadata": {},
   "outputs": [],
   "source": [
    "# Calculate the 95% quantile transaction amount for each customer V1\n",
    "quantile_amounts = train_data.groupby('V1')['V4'].quantile(.95)"
   ]
  },
  {
   "cell_type": "code",
   "execution_count": 26,
   "id": "ee7f3c81",
   "metadata": {},
   "outputs": [],
   "source": [
    "# Define a function to check if a transaction amount is significantly larger than the average\n",
    "def is_significantly_larger_quantile(row):\n",
    "    quantile_amount = quantile_amounts[row['V1']]\n",
    "    if row['V4'] > quantile_amount:\n",
    "        return 1\n",
    "    else:\n",
    "        return 0\n",
    "\n",
    "# Add a new column to the dataframe indicating if the transaction amount is significantly larger than the average\n",
    "train_data['is_large_amount_quantile'] = train_data.apply(is_significantly_larger_quantile, axis=1)"
   ]
  },
  {
   "cell_type": "code",
   "execution_count": 27,
   "id": "58dbcc17",
   "metadata": {},
   "outputs": [],
   "source": [
    "# Calculate the average transaction amount for each customer V1\n",
    "avg_amounts = train_data.groupby('V1')['V4'].mean()"
   ]
  },
  {
   "cell_type": "code",
   "execution_count": 28,
   "id": "5929bc7c",
   "metadata": {},
   "outputs": [],
   "source": [
    "# Define a function to check if a transaction amount is significantly larger than the average\n",
    "def is_significantly_larger(row):\n",
    "    avg_amount = avg_amounts[row['V1']]\n",
    "    if row['V4'] > avg_amount * 1.5:\n",
    "        return 1\n",
    "    else:\n",
    "        return 0\n",
    "\n",
    "# Add a new column to the dataframe indicating if the transaction amount is significantly larger than the average\n",
    "train_data['is_large_amount_average'] = train_data.apply(is_significantly_larger, axis=1)\n"
   ]
  },
  {
   "cell_type": "markdown",
   "id": "adc4354e",
   "metadata": {},
   "source": [
    "### similar amount\n",
    "For a given customer id(V1) if we order it by transaction time(V5) older to newest and if the current amount(V4) is same as previous transaction.\n",
    "\n",
    "\n",
    "### multiple transaction: \n",
    "column indicating whether there have been multiple transactions within a short period of time\n",
    "\n",
    "\n",
    "### potential_fraud:\n",
    "Based on excel observation if we group any transaction based on customer id(column V1) and sort it based on transaction time(column V5) in historical order then if the value of column V8 and V9 are exactly same to their previous value then it is most likely a fraud."
   ]
  },
  {
   "cell_type": "markdown",
   "id": "98176e4e",
   "metadata": {},
   "source": [
    "    "
   ]
  },
  {
   "cell_type": "markdown",
   "id": "3a92502a",
   "metadata": {},
   "source": [
    "# V5, V13"
   ]
  },
  {
   "cell_type": "code",
   "execution_count": 29,
   "id": "15d22d44",
   "metadata": {},
   "outputs": [],
   "source": [
    "train_data['V5'] = pd.to_datetime(train_data['V5'])\n",
    "train_data['V13'] = pd.to_datetime(train_data['V13'])"
   ]
  },
  {
   "cell_type": "code",
   "execution_count": 30,
   "id": "92a478aa",
   "metadata": {},
   "outputs": [
    {
     "name": "stdout",
     "output_type": "stream",
     "text": [
      "CPU times: total: 6min 42s\n",
      "Wall time: 6min 48s\n"
     ]
    }
   ],
   "source": [
    "%%time\n",
    "# define the time window for multiple transactions\n",
    "time_window = timedelta(minutes=60)\n",
    "\n",
    "# create a new column for multiple transactions\n",
    "train_data['multiple_transactions'] = 0\n",
    "\n",
    "# add a new column 'similar_transaction' with default value 0\n",
    "train_data['similar_transaction'] = 0\n",
    "\n",
    "train_data['potential_fraud'] = 0\n",
    "\n",
    "# loop through each unique customer ID\n",
    "for customer_id in train_data['V1'].unique():\n",
    "    # subset the dataframe for the current customer ID\n",
    "    customer_df = train_data[train_data['V1'] == customer_id]\n",
    "    # sort the dataframe by transaction date\n",
    "    customer_df = customer_df.sort_values(by='V5')\n",
    "    # loop through each row in the dataframe\n",
    "    for i in range(1, len(customer_df)):\n",
    "        # calculate the time difference between the current and previous transactions\n",
    "        time_diff = customer_df.iloc[i]['V5'] - customer_df.iloc[i-1]['V5']\n",
    "        # check if the time difference is within the time window\n",
    "        if time_diff <= time_window:\n",
    "            # set the multiple_transactions flag to True for the current and previous transactions\n",
    "            train_data.at[customer_df.index[i], 'multiple_transactions'] = 1\n",
    "            train_data.at[customer_df.index[i-1], 'multiple_transactions'] = 1\n",
    "        \n",
    "        if customer_df.iloc[i]['V4'] == customer_df.iloc[i-1]['V4'] :\n",
    "            train_data.at[customer_df.index[i], 'similar_transaction'] = 1\n",
    "            train_data.at[customer_df.index[i-1], 'similar_transaction'] = 1\n",
    "        \n",
    "        if customer_df.iloc[i]['V8'] == customer_df.iloc[i-1]['V8'] and customer_df.iloc[i]['V9'] == customer_df.iloc[i-1]['V9']:\n",
    "            train_data.at[customer_df.index[i], 'potential_fraud'] = 1\n",
    "            train_data.at[customer_df.index[i-1], 'potential_fraud'] = 1  \n"
   ]
  },
  {
   "cell_type": "code",
   "execution_count": 31,
   "id": "8d462e08",
   "metadata": {},
   "outputs": [],
   "source": [
    "train_data['day'] = [i.day for i in train_data.V5]\n",
    "#train_data['day_name'] = [i.day_name() for i in train_data.V5]\n",
    "train_data['day_of_year'] = [i.dayofyear for i in train_data.V5]\n",
    "train_data['week_of_year'] = [i.weekofyear for i in train_data.V5]\n",
    "train_data['month'] = [i.month for i in train_data.V5]\n",
    "train_data['hour'] = [i.hour for i in train_data.V5]\n",
    "train_data['is_weekday'] = [i.isoweekday() for i in train_data.V5]\n",
    "# check if each date is a weekend day (Saturday or Sunday)\n",
    "train_data['is_weekend'] = train_data.V5.dt.dayofweek.isin([5,6])\n",
    "train_data['is_weekend'] = train_data['is_weekend'].replace({True: 1, False: 0})\n",
    "\n",
    "train_data['day_V13'] = [i.day for i in train_data.V13]\n",
    "#train_data['day_name'] = [i.day_name() for i in train_data.V5]\n",
    "train_data['day_of_year13'] = [i.dayofyear for i in train_data.V13]\n",
    "train_data['week_of_year13'] = [i.weekofyear for i in train_data.V13]\n",
    "train_data['month13'] = [i.month for i in train_data.V13]\n",
    "train_data['hour13'] = [i.hour for i in train_data.V13]\n",
    "train_data['is_weekday13'] = [i.isoweekday() for i in train_data.V13]\n",
    "train_data['is_weekend13'] = train_data.V13.dt.dayofweek.isin([5,6])\n",
    "train_data['is_weekend13'] = train_data['is_weekend13'].replace({True: 1, False: 0})"
   ]
  },
  {
   "cell_type": "code",
   "execution_count": 32,
   "id": "f9f0854d",
   "metadata": {},
   "outputs": [],
   "source": [
    "train_data['V13_V5_diff'] = (train_data['V5'] - train_data['V13']).dt.total_seconds().div(3600)"
   ]
  },
  {
   "cell_type": "code",
   "execution_count": 33,
   "id": "0e808789",
   "metadata": {},
   "outputs": [
    {
     "data": {
      "text/plain": [
       "count    231762.000000\n",
       "mean      16435.598695\n",
       "std       20631.653343\n",
       "min         -11.083056\n",
       "25%        2739.988194\n",
       "50%        9580.447083\n",
       "75%       21884.131181\n",
       "max      151104.187222\n",
       "Name: V13_V5_diff, dtype: float64"
      ]
     },
     "execution_count": 33,
     "metadata": {},
     "output_type": "execute_result"
    }
   ],
   "source": [
    "train_data.V13_V5_diff.describe()"
   ]
  },
  {
   "cell_type": "code",
   "execution_count": 34,
   "id": "ec0c66a8",
   "metadata": {},
   "outputs": [
    {
     "data": {
      "text/plain": [
       "<AxesSubplot:ylabel='Frequency'>"
      ]
     },
     "execution_count": 34,
     "metadata": {},
     "output_type": "execute_result"
    },
    {
     "data": {
      "image/png": "[encoded data removed]",
      "text/plain": [
       "<Figure size 2160x1440 with 1 Axes>"
      ]
     },
     "metadata": {
      "needs_background": "light"
     },
     "output_type": "display_data"
    }
   ],
   "source": [
    "train_data.V13_V5_diff.plot(kind = 'hist')"
   ]
  },
  {
   "cell_type": "code",
   "execution_count": 35,
   "id": "31219923",
   "metadata": {},
   "outputs": [],
   "source": [
    "# Calculate the difference in minutes between the 'V6' and 'V5' columns\n",
    "train_data['V13_V5_diff'] = train_data['V13_V5_diff'].fillna(train_data['V13_V5_diff'].median())\n",
    "train_data['day_V13'] = train_data['day_V13'].fillna(train_data['day_V13'].median())\n",
    "train_data['day_of_year13'] = train_data['day_of_year13'].fillna(train_data['day_of_year13'].median())\n",
    "train_data['week_of_year13'] = train_data['week_of_year13'].fillna(train_data['week_of_year13'].median())\n",
    "train_data['month13'] = train_data['month13'].fillna(train_data['month13'].median())\n",
    "train_data['hour13'] = train_data['hour13'].fillna(train_data['hour13'].median())\n",
    "train_data['is_weekday13'] = train_data['is_weekday13'].fillna(train_data['is_weekday13'].median())\n",
    "train_data['is_weekend13'] = train_data['is_weekend13'].fillna(train_data['is_weekend13'].median())\n"
   ]
  },
  {
   "cell_type": "code",
   "execution_count": 36,
   "id": "6fb98f30",
   "metadata": {},
   "outputs": [
    {
     "data": {
      "text/plain": [
       "V1                             0\n",
       "V2                             0\n",
       "V3                             0\n",
       "V4                             0\n",
       "V5                             0\n",
       "V6                             0\n",
       "V7                             0\n",
       "V8                             0\n",
       "V9                             0\n",
       "V10                            0\n",
       "V11                            0\n",
       "V12                            0\n",
       "Target                         0\n",
       "V13                         1871\n",
       "unique_transactions            0\n",
       "is_large_amount_quantile       0\n",
       "is_large_amount_average        0\n",
       "multiple_transactions          0\n",
       "similar_transaction            0\n",
       "potential_fraud                0\n",
       "day                            0\n",
       "day_of_year                    0\n",
       "week_of_year                   0\n",
       "month                          0\n",
       "hour                           0\n",
       "is_weekday                     0\n",
       "is_weekend                     0\n",
       "day_V13                        0\n",
       "day_of_year13                  0\n",
       "week_of_year13                 0\n",
       "month13                        0\n",
       "hour13                         0\n",
       "is_weekday13                   0\n",
       "is_weekend13                   0\n",
       "V13_V5_diff                    0\n",
       "dtype: int64"
      ]
     },
     "execution_count": 36,
     "metadata": {},
     "output_type": "execute_result"
    }
   ],
   "source": [
    "#Check for missing value\n",
    "train_data.isnull().sum()"
   ]
  },
  {
   "cell_type": "markdown",
   "id": "0b80695c",
   "metadata": {},
   "source": [
    "# V11 \n",
    "contains only one constant value. Ltes remove this column"
   ]
  },
  {
   "cell_type": "code",
   "execution_count": 37,
   "id": "6df58a13",
   "metadata": {},
   "outputs": [],
   "source": [
    "train_data.drop(['V11'], axis = 1, inplace = True)"
   ]
  },
  {
   "cell_type": "markdown",
   "id": "8fe6634b",
   "metadata": {},
   "source": [
    " "
   ]
  },
  {
   "cell_type": "code",
   "execution_count": 38,
   "id": "6e205dee",
   "metadata": {},
   "outputs": [],
   "source": [
    "train_data = train_data.sort_values(['V1', 'V5'])"
   ]
  },
  {
   "cell_type": "code",
   "execution_count": 39,
   "id": "62cfa0d3",
   "metadata": {},
   "outputs": [
    {
     "data": {
      "text/html": [
       "<div>\n",
       "<style scoped>\n",
       "    .dataframe tbody tr th:only-of-type {\n",
       "        vertical-align: middle;\n",
       "    }\n",
       "\n",
       "    .dataframe tbody tr th {\n",
       "        vertical-align: top;\n",
       "    }\n",
       "\n",
       "    .dataframe thead th {\n",
       "        text-align: right;\n",
       "    }\n",
       "</style>\n",
       "<table border=\"1\" class=\"dataframe\">\n",
       "  <thead>\n",
       "    <tr style=\"text-align: right;\">\n",
       "      <th></th>\n",
       "      <th>V1</th>\n",
       "      <th>V2</th>\n",
       "      <th>V3</th>\n",
       "      <th>V4</th>\n",
       "      <th>V5</th>\n",
       "      <th>V6</th>\n",
       "      <th>V7</th>\n",
       "      <th>V8</th>\n",
       "      <th>V9</th>\n",
       "      <th>V10</th>\n",
       "      <th>...</th>\n",
       "      <th>is_weekday</th>\n",
       "      <th>is_weekend</th>\n",
       "      <th>day_V13</th>\n",
       "      <th>day_of_year13</th>\n",
       "      <th>week_of_year13</th>\n",
       "      <th>month13</th>\n",
       "      <th>hour13</th>\n",
       "      <th>is_weekday13</th>\n",
       "      <th>is_weekend13</th>\n",
       "      <th>V13_V5_diff</th>\n",
       "    </tr>\n",
       "  </thead>\n",
       "  <tbody>\n",
       "    <tr>\n",
       "      <th>163778</th>\n",
       "      <td>CUID1</td>\n",
       "      <td>TID229024</td>\n",
       "      <td>EID493934</td>\n",
       "      <td>4.175</td>\n",
       "      <td>2020-03-19 00:59:23</td>\n",
       "      <td>33227</td>\n",
       "      <td>A</td>\n",
       "      <td>BA387251</td>\n",
       "      <td>BB407516</td>\n",
       "      <td>PD173604</td>\n",
       "      <td>...</td>\n",
       "      <td>4</td>\n",
       "      <td>0</td>\n",
       "      <td>19.0</td>\n",
       "      <td>79.0</td>\n",
       "      <td>12.0</td>\n",
       "      <td>3.0</td>\n",
       "      <td>0.0</td>\n",
       "      <td>4.0</td>\n",
       "      <td>0</td>\n",
       "      <td>0.989722</td>\n",
       "    </tr>\n",
       "    <tr>\n",
       "      <th>163773</th>\n",
       "      <td>CUID1</td>\n",
       "      <td>TID115165</td>\n",
       "      <td>EID493934</td>\n",
       "      <td>334.835</td>\n",
       "      <td>2020-03-19 01:00:37</td>\n",
       "      <td>33227</td>\n",
       "      <td>A</td>\n",
       "      <td>BA287136</td>\n",
       "      <td>BB407516</td>\n",
       "      <td>PD344141</td>\n",
       "      <td>...</td>\n",
       "      <td>4</td>\n",
       "      <td>0</td>\n",
       "      <td>14.0</td>\n",
       "      <td>74.0</td>\n",
       "      <td>11.0</td>\n",
       "      <td>3.0</td>\n",
       "      <td>0.0</td>\n",
       "      <td>6.0</td>\n",
       "      <td>1</td>\n",
       "      <td>121.010278</td>\n",
       "    </tr>\n",
       "    <tr>\n",
       "      <th>163776</th>\n",
       "      <td>CUID1</td>\n",
       "      <td>TID737</td>\n",
       "      <td>EID493934</td>\n",
       "      <td>2505.000</td>\n",
       "      <td>2020-03-19 01:02:15</td>\n",
       "      <td>33227</td>\n",
       "      <td>A</td>\n",
       "      <td>BA287136</td>\n",
       "      <td>BB407516</td>\n",
       "      <td>PD344141</td>\n",
       "      <td>...</td>\n",
       "      <td>4</td>\n",
       "      <td>0</td>\n",
       "      <td>14.0</td>\n",
       "      <td>74.0</td>\n",
       "      <td>11.0</td>\n",
       "      <td>3.0</td>\n",
       "      <td>0.0</td>\n",
       "      <td>6.0</td>\n",
       "      <td>1</td>\n",
       "      <td>121.037500</td>\n",
       "    </tr>\n",
       "    <tr>\n",
       "      <th>163775</th>\n",
       "      <td>CUID1</td>\n",
       "      <td>TID229025</td>\n",
       "      <td>EID493934</td>\n",
       "      <td>208.750</td>\n",
       "      <td>2020-03-19 01:02:52</td>\n",
       "      <td>33227</td>\n",
       "      <td>A</td>\n",
       "      <td>BA287136</td>\n",
       "      <td>BB407516</td>\n",
       "      <td>PD344141</td>\n",
       "      <td>...</td>\n",
       "      <td>4</td>\n",
       "      <td>0</td>\n",
       "      <td>14.0</td>\n",
       "      <td>74.0</td>\n",
       "      <td>11.0</td>\n",
       "      <td>3.0</td>\n",
       "      <td>0.0</td>\n",
       "      <td>6.0</td>\n",
       "      <td>1</td>\n",
       "      <td>121.047778</td>\n",
       "    </tr>\n",
       "    <tr>\n",
       "      <th>163772</th>\n",
       "      <td>CUID1</td>\n",
       "      <td>TID342460</td>\n",
       "      <td>EID1041695</td>\n",
       "      <td>492.650</td>\n",
       "      <td>2020-03-20 21:50:18</td>\n",
       "      <td>33227</td>\n",
       "      <td>A</td>\n",
       "      <td>BA287136</td>\n",
       "      <td>BB407516</td>\n",
       "      <td>PD344141</td>\n",
       "      <td>...</td>\n",
       "      <td>5</td>\n",
       "      <td>0</td>\n",
       "      <td>14.0</td>\n",
       "      <td>74.0</td>\n",
       "      <td>11.0</td>\n",
       "      <td>3.0</td>\n",
       "      <td>0.0</td>\n",
       "      <td>6.0</td>\n",
       "      <td>1</td>\n",
       "      <td>165.838333</td>\n",
       "    </tr>\n",
       "  </tbody>\n",
       "</table>\n",
       "<p>5 rows × 34 columns</p>\n",
       "</div>"
      ],
      "text/plain": [
       "           V1         V2          V3        V4                  V5     V6 V7  \\\n",
       "163778  CUID1  TID229024   EID493934     4.175 2020-03-19 00:59:23  33227  A   \n",
       "163773  CUID1  TID115165   EID493934   334.835 2020-03-19 01:00:37  33227  A   \n",
       "163776  CUID1     TID737   EID493934  2505.000 2020-03-19 01:02:15  33227  A   \n",
       "163775  CUID1  TID229025   EID493934   208.750 2020-03-19 01:02:52  33227  A   \n",
       "163772  CUID1  TID342460  EID1041695   492.650 2020-03-20 21:50:18  33227  A   \n",
       "\n",
       "              V8        V9       V10  ... is_weekday  is_weekend day_V13  \\\n",
       "163778  BA387251  BB407516  PD173604  ...          4           0    19.0   \n",
       "163773  BA287136  BB407516  PD344141  ...          4           0    14.0   \n",
       "163776  BA287136  BB407516  PD344141  ...          4           0    14.0   \n",
       "163775  BA287136  BB407516  PD344141  ...          4           0    14.0   \n",
       "163772  BA287136  BB407516  PD344141  ...          5           0    14.0   \n",
       "\n",
       "        day_of_year13  week_of_year13  month13  hour13  is_weekday13  \\\n",
       "163778           79.0            12.0      3.0     0.0           4.0   \n",
       "163773           74.0            11.0      3.0     0.0           6.0   \n",
       "163776           74.0            11.0      3.0     0.0           6.0   \n",
       "163775           74.0            11.0      3.0     0.0           6.0   \n",
       "163772           74.0            11.0      3.0     0.0           6.0   \n",
       "\n",
       "        is_weekend13  V13_V5_diff  \n",
       "163778             0     0.989722  \n",
       "163773             1   121.010278  \n",
       "163776             1   121.037500  \n",
       "163775             1   121.047778  \n",
       "163772             1   165.838333  \n",
       "\n",
       "[5 rows x 34 columns]"
      ]
     },
     "execution_count": 39,
     "metadata": {},
     "output_type": "execute_result"
    }
   ],
   "source": [
    "train_data.head(5)"
   ]
  },
  {
   "cell_type": "code",
   "execution_count": 40,
   "id": "4fcb74f2",
   "metadata": {},
   "outputs": [],
   "source": [
    "# create a new column that indicates the time difference between each transaction and the previous transaction for each customer\n",
    "train_data['time_diff'] = train_data.groupby('V1')['V5'].diff().fillna(pd.Timedelta(seconds=0))\n"
   ]
  },
  {
   "cell_type": "code",
   "execution_count": 41,
   "id": "77716248",
   "metadata": {},
   "outputs": [],
   "source": [
    "# group by customer ID and calculate the time difference between consecutive transactions\n",
    "train_data['time_diff_grouped'] = train_data.groupby('V1')['time_diff'].shift(-1).fillna(pd.Timedelta(seconds=0))\n"
   ]
  },
  {
   "cell_type": "code",
   "execution_count": 42,
   "id": "e98a6660",
   "metadata": {},
   "outputs": [],
   "source": [
    "# convert time difference to minutes\n",
    "train_data['time_diff'] = train_data['time_diff'].dt.total_seconds().div(60).astype(int)\n",
    "# convert grouped time difference to minutes\n",
    "train_data['time_diff_grouped'] = train_data['time_diff_grouped'].dt.total_seconds().div(60).astype(int)\n"
   ]
  },
  {
   "cell_type": "code",
   "execution_count": 43,
   "id": "2870743a",
   "metadata": {},
   "outputs": [
    {
     "data": {
      "text/html": [
       "<div>\n",
       "<style scoped>\n",
       "    .dataframe tbody tr th:only-of-type {\n",
       "        vertical-align: middle;\n",
       "    }\n",
       "\n",
       "    .dataframe tbody tr th {\n",
       "        vertical-align: top;\n",
       "    }\n",
       "\n",
       "    .dataframe thead th {\n",
       "        text-align: right;\n",
       "    }\n",
       "</style>\n",
       "<table border=\"1\" class=\"dataframe\">\n",
       "  <thead>\n",
       "    <tr style=\"text-align: right;\">\n",
       "      <th></th>\n",
       "      <th>V1</th>\n",
       "      <th>V2</th>\n",
       "      <th>V3</th>\n",
       "      <th>V4</th>\n",
       "      <th>V5</th>\n",
       "      <th>V6</th>\n",
       "      <th>V7</th>\n",
       "      <th>V8</th>\n",
       "      <th>V9</th>\n",
       "      <th>V10</th>\n",
       "      <th>...</th>\n",
       "      <th>day_V13</th>\n",
       "      <th>day_of_year13</th>\n",
       "      <th>week_of_year13</th>\n",
       "      <th>month13</th>\n",
       "      <th>hour13</th>\n",
       "      <th>is_weekday13</th>\n",
       "      <th>is_weekend13</th>\n",
       "      <th>V13_V5_diff</th>\n",
       "      <th>time_diff</th>\n",
       "      <th>time_diff_grouped</th>\n",
       "    </tr>\n",
       "  </thead>\n",
       "  <tbody>\n",
       "    <tr>\n",
       "      <th>163778</th>\n",
       "      <td>CUID1</td>\n",
       "      <td>TID229024</td>\n",
       "      <td>EID493934</td>\n",
       "      <td>4.175</td>\n",
       "      <td>2020-03-19 00:59:23</td>\n",
       "      <td>33227</td>\n",
       "      <td>A</td>\n",
       "      <td>BA387251</td>\n",
       "      <td>BB407516</td>\n",
       "      <td>PD173604</td>\n",
       "      <td>...</td>\n",
       "      <td>19.0</td>\n",
       "      <td>79.0</td>\n",
       "      <td>12.0</td>\n",
       "      <td>3.0</td>\n",
       "      <td>0.0</td>\n",
       "      <td>4.0</td>\n",
       "      <td>0</td>\n",
       "      <td>0.989722</td>\n",
       "      <td>0</td>\n",
       "      <td>1</td>\n",
       "    </tr>\n",
       "    <tr>\n",
       "      <th>163773</th>\n",
       "      <td>CUID1</td>\n",
       "      <td>TID115165</td>\n",
       "      <td>EID493934</td>\n",
       "      <td>334.835</td>\n",
       "      <td>2020-03-19 01:00:37</td>\n",
       "      <td>33227</td>\n",
       "      <td>A</td>\n",
       "      <td>BA287136</td>\n",
       "      <td>BB407516</td>\n",
       "      <td>PD344141</td>\n",
       "      <td>...</td>\n",
       "      <td>14.0</td>\n",
       "      <td>74.0</td>\n",
       "      <td>11.0</td>\n",
       "      <td>3.0</td>\n",
       "      <td>0.0</td>\n",
       "      <td>6.0</td>\n",
       "      <td>1</td>\n",
       "      <td>121.010278</td>\n",
       "      <td>1</td>\n",
       "      <td>1</td>\n",
       "    </tr>\n",
       "  </tbody>\n",
       "</table>\n",
       "<p>2 rows × 36 columns</p>\n",
       "</div>"
      ],
      "text/plain": [
       "           V1         V2         V3       V4                  V5     V6 V7  \\\n",
       "163778  CUID1  TID229024  EID493934    4.175 2020-03-19 00:59:23  33227  A   \n",
       "163773  CUID1  TID115165  EID493934  334.835 2020-03-19 01:00:37  33227  A   \n",
       "\n",
       "              V8        V9       V10  ... day_V13  day_of_year13  \\\n",
       "163778  BA387251  BB407516  PD173604  ...    19.0           79.0   \n",
       "163773  BA287136  BB407516  PD344141  ...    14.0           74.0   \n",
       "\n",
       "       week_of_year13  month13  hour13  is_weekday13  is_weekend13  \\\n",
       "163778           12.0      3.0     0.0           4.0             0   \n",
       "163773           11.0      3.0     0.0           6.0             1   \n",
       "\n",
       "        V13_V5_diff  time_diff  time_diff_grouped  \n",
       "163778     0.989722          0                  1  \n",
       "163773   121.010278          1                  1  \n",
       "\n",
       "[2 rows x 36 columns]"
      ]
     },
     "execution_count": 43,
     "metadata": {},
     "output_type": "execute_result"
    }
   ],
   "source": [
    "train_data.head(2)"
   ]
  },
  {
   "cell_type": "code",
   "execution_count": 44,
   "id": "aa14a09a",
   "metadata": {},
   "outputs": [
    {
     "name": "stdout",
     "output_type": "stream",
     "text": [
      "quantitative::  ['V4', 'V5', 'Target', 'V13', 'unique_transactions', 'is_large_amount_quantile', 'is_large_amount_average', 'multiple_transactions', 'similar_transaction', 'potential_fraud', 'day', 'day_of_year', 'week_of_year', 'month', 'hour', 'is_weekday', 'is_weekend', 'day_V13', 'day_of_year13', 'week_of_year13', 'month13', 'hour13', 'is_weekday13', 'is_weekend13', 'V13_V5_diff', 'time_diff', 'time_diff_grouped']\n",
      "qualitative::  ['V1', 'V2', 'V3', 'V6', 'V7', 'V8', 'V9', 'V10', 'V12']\n"
     ]
    }
   ],
   "source": [
    "quantitative = []\n",
    "qualitative = []\n",
    "for i in train_data.columns:\n",
    "    if train_data.dtypes[i] != 'object':\n",
    "        quantitative.append(i)\n",
    "    else:\n",
    "        qualitative.append(i)\n",
    "print('quantitative:: ',quantitative)\n",
    "print('qualitative:: ',qualitative)"
   ]
  },
  {
   "cell_type": "code",
   "execution_count": 45,
   "id": "8c443500",
   "metadata": {},
   "outputs": [
    {
     "data": {
      "text/plain": [
       "V1                            3684\n",
       "V2                          233633\n",
       "V3                          206627\n",
       "V4                           16207\n",
       "V5                          231004\n",
       "V6                             307\n",
       "V7                               6\n",
       "V8                           35508\n",
       "V9                            5765\n",
       "V10                          40909\n",
       "V12                           4075\n",
       "Target                           2\n",
       "V13                           2922\n",
       "unique_transactions            306\n",
       "is_large_amount_quantile         2\n",
       "is_large_amount_average          2\n",
       "multiple_transactions            2\n",
       "similar_transaction              2\n",
       "potential_fraud                  2\n",
       "day                             31\n",
       "day_of_year                    184\n",
       "week_of_year                    27\n",
       "month                            7\n",
       "hour                            24\n",
       "is_weekday                       7\n",
       "is_weekend                       2\n",
       "day_V13                         31\n",
       "day_of_year13                  364\n",
       "week_of_year13                  53\n",
       "month13                         12\n",
       "hour13                           1\n",
       "is_weekday13                     7\n",
       "is_weekend13                     2\n",
       "V13_V5_diff                 228526\n",
       "time_diff                    23758\n",
       "time_diff_grouped            23758\n",
       "dtype: int64"
      ]
     },
     "execution_count": 45,
     "metadata": {},
     "output_type": "execute_result"
    }
   ],
   "source": [
    "train_data.nunique()"
   ]
  },
  {
   "cell_type": "code",
   "execution_count": 46,
   "id": "a466e21f",
   "metadata": {},
   "outputs": [],
   "source": [
    "train_data.drop(['V1','V2','V3','V5', 'V6', 'V8','V9','V10','V12','V13'], axis = 1, inplace = True)"
   ]
  },
  {
   "cell_type": "code",
   "execution_count": 47,
   "id": "50336fec",
   "metadata": {},
   "outputs": [
    {
     "data": {
      "text/html": [
       "<div>\n",
       "<style scoped>\n",
       "    .dataframe tbody tr th:only-of-type {\n",
       "        vertical-align: middle;\n",
       "    }\n",
       "\n",
       "    .dataframe tbody tr th {\n",
       "        vertical-align: top;\n",
       "    }\n",
       "\n",
       "    .dataframe thead th {\n",
       "        text-align: right;\n",
       "    }\n",
       "</style>\n",
       "<table border=\"1\" class=\"dataframe\">\n",
       "  <thead>\n",
       "    <tr style=\"text-align: right;\">\n",
       "      <th></th>\n",
       "      <th>V4</th>\n",
       "      <th>Target</th>\n",
       "      <th>unique_transactions</th>\n",
       "      <th>is_large_amount_quantile</th>\n",
       "      <th>is_large_amount_average</th>\n",
       "      <th>multiple_transactions</th>\n",
       "      <th>similar_transaction</th>\n",
       "      <th>potential_fraud</th>\n",
       "      <th>day</th>\n",
       "      <th>day_of_year</th>\n",
       "      <th>...</th>\n",
       "      <th>is_weekend13</th>\n",
       "      <th>V13_V5_diff</th>\n",
       "      <th>time_diff</th>\n",
       "      <th>time_diff_grouped</th>\n",
       "      <th>V7_A</th>\n",
       "      <th>V7_B</th>\n",
       "      <th>V7_C</th>\n",
       "      <th>V7_D</th>\n",
       "      <th>V7_E</th>\n",
       "      <th>V7_F</th>\n",
       "    </tr>\n",
       "  </thead>\n",
       "  <tbody>\n",
       "    <tr>\n",
       "      <th>163778</th>\n",
       "      <td>4.175</td>\n",
       "      <td>0</td>\n",
       "      <td>42</td>\n",
       "      <td>0</td>\n",
       "      <td>0</td>\n",
       "      <td>1</td>\n",
       "      <td>0</td>\n",
       "      <td>0</td>\n",
       "      <td>19</td>\n",
       "      <td>79</td>\n",
       "      <td>...</td>\n",
       "      <td>0</td>\n",
       "      <td>0.989722</td>\n",
       "      <td>0</td>\n",
       "      <td>1</td>\n",
       "      <td>1</td>\n",
       "      <td>0</td>\n",
       "      <td>0</td>\n",
       "      <td>0</td>\n",
       "      <td>0</td>\n",
       "      <td>0</td>\n",
       "    </tr>\n",
       "    <tr>\n",
       "      <th>163773</th>\n",
       "      <td>334.835</td>\n",
       "      <td>0</td>\n",
       "      <td>42</td>\n",
       "      <td>0</td>\n",
       "      <td>0</td>\n",
       "      <td>1</td>\n",
       "      <td>0</td>\n",
       "      <td>1</td>\n",
       "      <td>19</td>\n",
       "      <td>79</td>\n",
       "      <td>...</td>\n",
       "      <td>1</td>\n",
       "      <td>121.010278</td>\n",
       "      <td>1</td>\n",
       "      <td>1</td>\n",
       "      <td>1</td>\n",
       "      <td>0</td>\n",
       "      <td>0</td>\n",
       "      <td>0</td>\n",
       "      <td>0</td>\n",
       "      <td>0</td>\n",
       "    </tr>\n",
       "    <tr>\n",
       "      <th>163776</th>\n",
       "      <td>2505.000</td>\n",
       "      <td>0</td>\n",
       "      <td>42</td>\n",
       "      <td>1</td>\n",
       "      <td>1</td>\n",
       "      <td>1</td>\n",
       "      <td>0</td>\n",
       "      <td>1</td>\n",
       "      <td>19</td>\n",
       "      <td>79</td>\n",
       "      <td>...</td>\n",
       "      <td>1</td>\n",
       "      <td>121.037500</td>\n",
       "      <td>1</td>\n",
       "      <td>0</td>\n",
       "      <td>1</td>\n",
       "      <td>0</td>\n",
       "      <td>0</td>\n",
       "      <td>0</td>\n",
       "      <td>0</td>\n",
       "      <td>0</td>\n",
       "    </tr>\n",
       "    <tr>\n",
       "      <th>163775</th>\n",
       "      <td>208.750</td>\n",
       "      <td>0</td>\n",
       "      <td>42</td>\n",
       "      <td>0</td>\n",
       "      <td>0</td>\n",
       "      <td>1</td>\n",
       "      <td>0</td>\n",
       "      <td>1</td>\n",
       "      <td>19</td>\n",
       "      <td>79</td>\n",
       "      <td>...</td>\n",
       "      <td>1</td>\n",
       "      <td>121.047778</td>\n",
       "      <td>0</td>\n",
       "      <td>2687</td>\n",
       "      <td>1</td>\n",
       "      <td>0</td>\n",
       "      <td>0</td>\n",
       "      <td>0</td>\n",
       "      <td>0</td>\n",
       "      <td>0</td>\n",
       "    </tr>\n",
       "    <tr>\n",
       "      <th>163772</th>\n",
       "      <td>492.650</td>\n",
       "      <td>0</td>\n",
       "      <td>42</td>\n",
       "      <td>0</td>\n",
       "      <td>1</td>\n",
       "      <td>0</td>\n",
       "      <td>0</td>\n",
       "      <td>1</td>\n",
       "      <td>20</td>\n",
       "      <td>80</td>\n",
       "      <td>...</td>\n",
       "      <td>1</td>\n",
       "      <td>165.838333</td>\n",
       "      <td>2687</td>\n",
       "      <td>4841</td>\n",
       "      <td>1</td>\n",
       "      <td>0</td>\n",
       "      <td>0</td>\n",
       "      <td>0</td>\n",
       "      <td>0</td>\n",
       "      <td>0</td>\n",
       "    </tr>\n",
       "  </tbody>\n",
       "</table>\n",
       "<p>5 rows × 31 columns</p>\n",
       "</div>"
      ],
      "text/plain": [
       "              V4  Target  unique_transactions  is_large_amount_quantile  \\\n",
       "163778     4.175       0                   42                         0   \n",
       "163773   334.835       0                   42                         0   \n",
       "163776  2505.000       0                   42                         1   \n",
       "163775   208.750       0                   42                         0   \n",
       "163772   492.650       0                   42                         0   \n",
       "\n",
       "        is_large_amount_average  multiple_transactions  similar_transaction  \\\n",
       "163778                        0                      1                    0   \n",
       "163773                        0                      1                    0   \n",
       "163776                        1                      1                    0   \n",
       "163775                        0                      1                    0   \n",
       "163772                        1                      0                    0   \n",
       "\n",
       "        potential_fraud  day  day_of_year  ...  is_weekend13  V13_V5_diff  \\\n",
       "163778                0   19           79  ...             0     0.989722   \n",
       "163773                1   19           79  ...             1   121.010278   \n",
       "163776                1   19           79  ...             1   121.037500   \n",
       "163775                1   19           79  ...             1   121.047778   \n",
       "163772                1   20           80  ...             1   165.838333   \n",
       "\n",
       "        time_diff  time_diff_grouped  V7_A  V7_B  V7_C  V7_D  V7_E  V7_F  \n",
       "163778          0                  1     1     0     0     0     0     0  \n",
       "163773          1                  1     1     0     0     0     0     0  \n",
       "163776          1                  0     1     0     0     0     0     0  \n",
       "163775          0               2687     1     0     0     0     0     0  \n",
       "163772       2687               4841     1     0     0     0     0     0  \n",
       "\n",
       "[5 rows x 31 columns]"
      ]
     },
     "execution_count": 47,
     "metadata": {},
     "output_type": "execute_result"
    }
   ],
   "source": [
    "one_hot_encoded_data = pd.get_dummies(train_data, columns = ['V7'])\n",
    "one_hot_encoded_data.head()"
   ]
  },
  {
   "cell_type": "markdown",
   "id": "86bd1912",
   "metadata": {},
   "source": [
    "# Feature selection"
   ]
  },
  {
   "cell_type": "markdown",
   "id": "081c5d38",
   "metadata": {},
   "source": [
    "#### Searching for Duplicated or Quasi-constant features"
   ]
  },
  {
   "cell_type": "code",
   "execution_count": 48,
   "id": "ea3e1fa3",
   "metadata": {},
   "outputs": [
    {
     "name": "stdout",
     "output_type": "stream",
     "text": [
      "['Target', 'hour13', 'V7_C', 'V7_D', 'V7_E', 'V7_F']\n"
     ]
    }
   ],
   "source": [
    "#Searching for Duplicated or Quasi-constant features\n",
    "sel = DropConstantFeatures(tol=0.99, variables=None)\n",
    "\n",
    "sel.fit(one_hot_encoded_data)\n",
    "\n",
    "features_to_drop = list(sel.features_to_drop_)\n",
    "print(features_to_drop)"
   ]
  },
  {
   "cell_type": "markdown",
   "id": "2a153360",
   "metadata": {},
   "source": [
    "#### Looking for Correlated Features"
   ]
  },
  {
   "cell_type": "code",
   "execution_count": 49,
   "id": "bad4a943",
   "metadata": {},
   "outputs": [
    {
     "name": "stdout",
     "output_type": "stream",
     "text": [
      "Features to drop {'week_of_year', 'month13', 'month', 'week_of_year13'}\n",
      "\n",
      "Correlated Feature Sets [{'week_of_year', 'day_of_year', 'month'}, {'month13', 'day_of_year13', 'week_of_year13'}]\n"
     ]
    }
   ],
   "source": [
    "#Looking for Correlated Features\n",
    "sel = DropCorrelatedFeatures(threshold=0.80,    # more than 80% = remove\n",
    "                             method='pearson') # you can use other methods like kendall or spearman\n",
    "\n",
    "sel.fit(one_hot_encoded_data)\n",
    "\n",
    "features_to_drop = features_to_drop + list(sel.features_to_drop_)\n",
    "features_to_drop = list(set(features_to_drop))\n",
    "print('Features to drop', sel.features_to_drop_)\n",
    "print()\n",
    "print('Correlated Feature Sets', sel.correlated_feature_sets_)"
   ]
  },
  {
   "cell_type": "code",
   "execution_count": 50,
   "id": "5db218c1",
   "metadata": {},
   "outputs": [],
   "source": [
    "features_to_drop.remove('Target')"
   ]
  },
  {
   "cell_type": "code",
   "execution_count": 51,
   "id": "ed1e0a75",
   "metadata": {},
   "outputs": [
    {
     "data": {
      "image/png": "[encoded data removed]",
      "text/plain": [
       "<Figure size 2160x1440 with 2 Axes>"
      ]
     },
     "metadata": {
      "needs_background": "light"
     },
     "output_type": "display_data"
    }
   ],
   "source": [
    "# calculate the correlation matrix\n",
    "corr_matrix = one_hot_encoded_data.corr()\n",
    "\n",
    "# plot the correlation matrix as a heatmap\n",
    "sns.heatmap(corr_matrix, cmap='coolwarm', annot=True, fmt='.2f')\n",
    "plt.show()"
   ]
  },
  {
   "cell_type": "code",
   "execution_count": 52,
   "id": "3ab034d2",
   "metadata": {},
   "outputs": [],
   "source": [
    "one_hot_encoded_data.drop(features_to_drop, axis=1, inplace=True)"
   ]
  },
  {
   "cell_type": "code",
   "execution_count": 53,
   "id": "ad3ea9c4",
   "metadata": {},
   "outputs": [
    {
     "data": {
      "text/html": [
       "<div>\n",
       "<style scoped>\n",
       "    .dataframe tbody tr th:only-of-type {\n",
       "        vertical-align: middle;\n",
       "    }\n",
       "\n",
       "    .dataframe tbody tr th {\n",
       "        vertical-align: top;\n",
       "    }\n",
       "\n",
       "    .dataframe thead th {\n",
       "        text-align: right;\n",
       "    }\n",
       "</style>\n",
       "<table border=\"1\" class=\"dataframe\">\n",
       "  <thead>\n",
       "    <tr style=\"text-align: right;\">\n",
       "      <th></th>\n",
       "      <th>V4</th>\n",
       "      <th>Target</th>\n",
       "      <th>unique_transactions</th>\n",
       "      <th>is_large_amount_quantile</th>\n",
       "      <th>is_large_amount_average</th>\n",
       "      <th>multiple_transactions</th>\n",
       "      <th>similar_transaction</th>\n",
       "      <th>potential_fraud</th>\n",
       "      <th>day</th>\n",
       "      <th>day_of_year</th>\n",
       "      <th>...</th>\n",
       "      <th>is_weekend</th>\n",
       "      <th>day_V13</th>\n",
       "      <th>day_of_year13</th>\n",
       "      <th>is_weekday13</th>\n",
       "      <th>is_weekend13</th>\n",
       "      <th>V13_V5_diff</th>\n",
       "      <th>time_diff</th>\n",
       "      <th>time_diff_grouped</th>\n",
       "      <th>V7_A</th>\n",
       "      <th>V7_B</th>\n",
       "    </tr>\n",
       "  </thead>\n",
       "  <tbody>\n",
       "    <tr>\n",
       "      <th>163778</th>\n",
       "      <td>4.175</td>\n",
       "      <td>0</td>\n",
       "      <td>42</td>\n",
       "      <td>0</td>\n",
       "      <td>0</td>\n",
       "      <td>1</td>\n",
       "      <td>0</td>\n",
       "      <td>0</td>\n",
       "      <td>19</td>\n",
       "      <td>79</td>\n",
       "      <td>...</td>\n",
       "      <td>0</td>\n",
       "      <td>19.0</td>\n",
       "      <td>79.0</td>\n",
       "      <td>4.0</td>\n",
       "      <td>0</td>\n",
       "      <td>0.989722</td>\n",
       "      <td>0</td>\n",
       "      <td>1</td>\n",
       "      <td>1</td>\n",
       "      <td>0</td>\n",
       "    </tr>\n",
       "    <tr>\n",
       "      <th>163773</th>\n",
       "      <td>334.835</td>\n",
       "      <td>0</td>\n",
       "      <td>42</td>\n",
       "      <td>0</td>\n",
       "      <td>0</td>\n",
       "      <td>1</td>\n",
       "      <td>0</td>\n",
       "      <td>1</td>\n",
       "      <td>19</td>\n",
       "      <td>79</td>\n",
       "      <td>...</td>\n",
       "      <td>0</td>\n",
       "      <td>14.0</td>\n",
       "      <td>74.0</td>\n",
       "      <td>6.0</td>\n",
       "      <td>1</td>\n",
       "      <td>121.010278</td>\n",
       "      <td>1</td>\n",
       "      <td>1</td>\n",
       "      <td>1</td>\n",
       "      <td>0</td>\n",
       "    </tr>\n",
       "    <tr>\n",
       "      <th>163776</th>\n",
       "      <td>2505.000</td>\n",
       "      <td>0</td>\n",
       "      <td>42</td>\n",
       "      <td>1</td>\n",
       "      <td>1</td>\n",
       "      <td>1</td>\n",
       "      <td>0</td>\n",
       "      <td>1</td>\n",
       "      <td>19</td>\n",
       "      <td>79</td>\n",
       "      <td>...</td>\n",
       "      <td>0</td>\n",
       "      <td>14.0</td>\n",
       "      <td>74.0</td>\n",
       "      <td>6.0</td>\n",
       "      <td>1</td>\n",
       "      <td>121.037500</td>\n",
       "      <td>1</td>\n",
       "      <td>0</td>\n",
       "      <td>1</td>\n",
       "      <td>0</td>\n",
       "    </tr>\n",
       "    <tr>\n",
       "      <th>163775</th>\n",
       "      <td>208.750</td>\n",
       "      <td>0</td>\n",
       "      <td>42</td>\n",
       "      <td>0</td>\n",
       "      <td>0</td>\n",
       "      <td>1</td>\n",
       "      <td>0</td>\n",
       "      <td>1</td>\n",
       "      <td>19</td>\n",
       "      <td>79</td>\n",
       "      <td>...</td>\n",
       "      <td>0</td>\n",
       "      <td>14.0</td>\n",
       "      <td>74.0</td>\n",
       "      <td>6.0</td>\n",
       "      <td>1</td>\n",
       "      <td>121.047778</td>\n",
       "      <td>0</td>\n",
       "      <td>2687</td>\n",
       "      <td>1</td>\n",
       "      <td>0</td>\n",
       "    </tr>\n",
       "    <tr>\n",
       "      <th>163772</th>\n",
       "      <td>492.650</td>\n",
       "      <td>0</td>\n",
       "      <td>42</td>\n",
       "      <td>0</td>\n",
       "      <td>1</td>\n",
       "      <td>0</td>\n",
       "      <td>0</td>\n",
       "      <td>1</td>\n",
       "      <td>20</td>\n",
       "      <td>80</td>\n",
       "      <td>...</td>\n",
       "      <td>0</td>\n",
       "      <td>14.0</td>\n",
       "      <td>74.0</td>\n",
       "      <td>6.0</td>\n",
       "      <td>1</td>\n",
       "      <td>165.838333</td>\n",
       "      <td>2687</td>\n",
       "      <td>4841</td>\n",
       "      <td>1</td>\n",
       "      <td>0</td>\n",
       "    </tr>\n",
       "  </tbody>\n",
       "</table>\n",
       "<p>5 rows × 22 columns</p>\n",
       "</div>"
      ],
      "text/plain": [
       "              V4  Target  unique_transactions  is_large_amount_quantile  \\\n",
       "163778     4.175       0                   42                         0   \n",
       "163773   334.835       0                   42                         0   \n",
       "163776  2505.000       0                   42                         1   \n",
       "163775   208.750       0                   42                         0   \n",
       "163772   492.650       0                   42                         0   \n",
       "\n",
       "        is_large_amount_average  multiple_transactions  similar_transaction  \\\n",
       "163778                        0                      1                    0   \n",
       "163773                        0                      1                    0   \n",
       "163776                        1                      1                    0   \n",
       "163775                        0                      1                    0   \n",
       "163772                        1                      0                    0   \n",
       "\n",
       "        potential_fraud  day  day_of_year  ...  is_weekend  day_V13  \\\n",
       "163778                0   19           79  ...           0     19.0   \n",
       "163773                1   19           79  ...           0     14.0   \n",
       "163776                1   19           79  ...           0     14.0   \n",
       "163775                1   19           79  ...           0     14.0   \n",
       "163772                1   20           80  ...           0     14.0   \n",
       "\n",
       "        day_of_year13  is_weekday13  is_weekend13  V13_V5_diff  time_diff  \\\n",
       "163778           79.0           4.0             0     0.989722          0   \n",
       "163773           74.0           6.0             1   121.010278          1   \n",
       "163776           74.0           6.0             1   121.037500          1   \n",
       "163775           74.0           6.0             1   121.047778          0   \n",
       "163772           74.0           6.0             1   165.838333       2687   \n",
       "\n",
       "        time_diff_grouped  V7_A  V7_B  \n",
       "163778                  1     1     0  \n",
       "163773                  1     1     0  \n",
       "163776                  0     1     0  \n",
       "163775               2687     1     0  \n",
       "163772               4841     1     0  \n",
       "\n",
       "[5 rows x 22 columns]"
      ]
     },
     "execution_count": 53,
     "metadata": {},
     "output_type": "execute_result"
    }
   ],
   "source": [
    "one_hot_encoded_data.head()"
   ]
  },
  {
   "cell_type": "code",
   "execution_count": 54,
   "id": "44485474",
   "metadata": {},
   "outputs": [
    {
     "data": {
      "text/plain": [
       "(233633, 22)"
      ]
     },
     "execution_count": 54,
     "metadata": {},
     "output_type": "execute_result"
    }
   ],
   "source": [
    "one_hot_encoded_data.shape"
   ]
  },
  {
   "cell_type": "code",
   "execution_count": 55,
   "id": "f1323ecd",
   "metadata": {},
   "outputs": [],
   "source": [
    "X = one_hot_encoded_data.drop(\"Target\", axis=1)\n",
    "y = one_hot_encoded_data[\"Target\"]"
   ]
  },
  {
   "cell_type": "code",
   "execution_count": 56,
   "id": "4e1e4fbe",
   "metadata": {},
   "outputs": [],
   "source": [
    "# %%time\n",
    "# from sklearn.ensemble import GradientBoostingRegressor\n",
    "# X = one_hot_encoded_data.copy()\n",
    "# # build initial model using all the features\n",
    "# model = GradientBoostingRegressor(n_estimators=10, max_depth=4, random_state=10)\n",
    "\n",
    "# # Setup the RFE selector\n",
    "\n",
    "# sel = RecursiveFeatureElimination(\n",
    "#     variables=None, # automatically evaluate all numerical variables\n",
    "#     estimator = model, # the ML model\n",
    "#     scoring = 'r2', # the metric we want to evalute\n",
    "#     threshold = 0.001, # the maximum performance drop allowed to remove a feature\n",
    "#     cv=10, # cross-validation\n",
    "# )\n",
    "\n",
    "# # this may take quite a while, because\n",
    "# # we are building a lot of models with cross-validation\n",
    "# #X = X.iloc[0:45593]\n",
    "# sel.fit(X, y)\n",
    "\n",
    "# # performance of model trained using all features\n",
    "\n",
    "# sel.initial_model_performance_\n",
    "\n",
    "# # importance of all features based of initial model\n",
    "# sel.feature_importances_.plot.bar(figsize=(20,6))\n",
    "# plt.xlabel('Features')\n",
    "# plt.ylabel('Importance')\n",
    "# plt.show()"
   ]
  },
  {
   "cell_type": "markdown",
   "id": "b2d3537b",
   "metadata": {},
   "source": [
    "# select top k features based on chi-squared statistical test"
   ]
  },
  {
   "cell_type": "code",
   "execution_count": 57,
   "id": "299ca08d",
   "metadata": {},
   "outputs": [
    {
     "data": {
      "text/html": [
       "<div>\n",
       "<style scoped>\n",
       "    .dataframe tbody tr th:only-of-type {\n",
       "        vertical-align: middle;\n",
       "    }\n",
       "\n",
       "    .dataframe tbody tr th {\n",
       "        vertical-align: top;\n",
       "    }\n",
       "\n",
       "    .dataframe thead th {\n",
       "        text-align: right;\n",
       "    }\n",
       "</style>\n",
       "<table border=\"1\" class=\"dataframe\">\n",
       "  <thead>\n",
       "    <tr style=\"text-align: right;\">\n",
       "      <th></th>\n",
       "      <th>V4</th>\n",
       "      <th>unique_transactions</th>\n",
       "      <th>is_large_amount_quantile</th>\n",
       "      <th>is_large_amount_average</th>\n",
       "      <th>multiple_transactions</th>\n",
       "      <th>similar_transaction</th>\n",
       "      <th>potential_fraud</th>\n",
       "      <th>day</th>\n",
       "      <th>day_of_year</th>\n",
       "      <th>hour</th>\n",
       "      <th>...</th>\n",
       "      <th>is_weekend</th>\n",
       "      <th>day_V13</th>\n",
       "      <th>day_of_year13</th>\n",
       "      <th>is_weekday13</th>\n",
       "      <th>is_weekend13</th>\n",
       "      <th>V13_V5_diff</th>\n",
       "      <th>time_diff</th>\n",
       "      <th>time_diff_grouped</th>\n",
       "      <th>V7_A</th>\n",
       "      <th>V7_B</th>\n",
       "    </tr>\n",
       "  </thead>\n",
       "  <tbody>\n",
       "    <tr>\n",
       "      <th>count</th>\n",
       "      <td>233633.000000</td>\n",
       "      <td>233633.000000</td>\n",
       "      <td>233633.000000</td>\n",
       "      <td>233633.000000</td>\n",
       "      <td>233633.000000</td>\n",
       "      <td>233633.000000</td>\n",
       "      <td>233633.000000</td>\n",
       "      <td>233633.000000</td>\n",
       "      <td>233633.000000</td>\n",
       "      <td>233633.000000</td>\n",
       "      <td>...</td>\n",
       "      <td>233633.00000</td>\n",
       "      <td>233633.000000</td>\n",
       "      <td>233633.000000</td>\n",
       "      <td>233633.000000</td>\n",
       "      <td>233633.000000</td>\n",
       "      <td>233633.000000</td>\n",
       "      <td>233633.000000</td>\n",
       "      <td>233633.000000</td>\n",
       "      <td>233633.000000</td>\n",
       "      <td>233633.000000</td>\n",
       "    </tr>\n",
       "    <tr>\n",
       "      <th>mean</th>\n",
       "      <td>266.360390</td>\n",
       "      <td>262.930053</td>\n",
       "      <td>0.048923</td>\n",
       "      <td>0.159956</td>\n",
       "      <td>0.352960</td>\n",
       "      <td>0.164947</td>\n",
       "      <td>0.499313</td>\n",
       "      <td>15.791990</td>\n",
       "      <td>169.548339</td>\n",
       "      <td>9.471988</td>\n",
       "      <td>...</td>\n",
       "      <td>0.29254</td>\n",
       "      <td>15.628721</td>\n",
       "      <td>172.278955</td>\n",
       "      <td>4.075122</td>\n",
       "      <td>0.302564</td>\n",
       "      <td>16380.700677</td>\n",
       "      <td>3737.843049</td>\n",
       "      <td>3737.843049</td>\n",
       "      <td>0.978441</td>\n",
       "      <td>0.013025</td>\n",
       "    </tr>\n",
       "    <tr>\n",
       "      <th>std</th>\n",
       "      <td>1338.657212</td>\n",
       "      <td>531.026377</td>\n",
       "      <td>0.215707</td>\n",
       "      <td>0.366566</td>\n",
       "      <td>0.477891</td>\n",
       "      <td>0.371133</td>\n",
       "      <td>0.500001</td>\n",
       "      <td>8.687133</td>\n",
       "      <td>52.567214</td>\n",
       "      <td>7.331914</td>\n",
       "      <td>...</td>\n",
       "      <td>0.45493</td>\n",
       "      <td>8.508743</td>\n",
       "      <td>99.718937</td>\n",
       "      <td>2.034402</td>\n",
       "      <td>0.459369</td>\n",
       "      <td>20557.956583</td>\n",
       "      <td>7335.528994</td>\n",
       "      <td>7335.528994</td>\n",
       "      <td>0.145240</td>\n",
       "      <td>0.113380</td>\n",
       "    </tr>\n",
       "    <tr>\n",
       "      <th>min</th>\n",
       "      <td>0.008350</td>\n",
       "      <td>1.000000</td>\n",
       "      <td>0.000000</td>\n",
       "      <td>0.000000</td>\n",
       "      <td>0.000000</td>\n",
       "      <td>0.000000</td>\n",
       "      <td>0.000000</td>\n",
       "      <td>1.000000</td>\n",
       "      <td>76.000000</td>\n",
       "      <td>0.000000</td>\n",
       "      <td>...</td>\n",
       "      <td>0.00000</td>\n",
       "      <td>1.000000</td>\n",
       "      <td>1.000000</td>\n",
       "      <td>1.000000</td>\n",
       "      <td>0.000000</td>\n",
       "      <td>-11.083056</td>\n",
       "      <td>0.000000</td>\n",
       "      <td>0.000000</td>\n",
       "      <td>0.000000</td>\n",
       "      <td>0.000000</td>\n",
       "    </tr>\n",
       "    <tr>\n",
       "      <th>25%</th>\n",
       "      <td>12.525000</td>\n",
       "      <td>49.000000</td>\n",
       "      <td>0.000000</td>\n",
       "      <td>0.000000</td>\n",
       "      <td>0.000000</td>\n",
       "      <td>0.000000</td>\n",
       "      <td>0.000000</td>\n",
       "      <td>8.000000</td>\n",
       "      <td>125.000000</td>\n",
       "      <td>4.000000</td>\n",
       "      <td>...</td>\n",
       "      <td>0.00000</td>\n",
       "      <td>9.000000</td>\n",
       "      <td>89.000000</td>\n",
       "      <td>2.000000</td>\n",
       "      <td>0.000000</td>\n",
       "      <td>2787.163889</td>\n",
       "      <td>70.000000</td>\n",
       "      <td>70.000000</td>\n",
       "      <td>1.000000</td>\n",
       "      <td>0.000000</td>\n",
       "    </tr>\n",
       "    <tr>\n",
       "      <th>50%</th>\n",
       "      <td>33.400000</td>\n",
       "      <td>91.000000</td>\n",
       "      <td>0.000000</td>\n",
       "      <td>0.000000</td>\n",
       "      <td>0.000000</td>\n",
       "      <td>0.000000</td>\n",
       "      <td>0.000000</td>\n",
       "      <td>15.000000</td>\n",
       "      <td>170.000000</td>\n",
       "      <td>8.000000</td>\n",
       "      <td>...</td>\n",
       "      <td>0.00000</td>\n",
       "      <td>15.000000</td>\n",
       "      <td>163.000000</td>\n",
       "      <td>4.000000</td>\n",
       "      <td>0.000000</td>\n",
       "      <td>9580.447083</td>\n",
       "      <td>1211.000000</td>\n",
       "      <td>1211.000000</td>\n",
       "      <td>1.000000</td>\n",
       "      <td>0.000000</td>\n",
       "    </tr>\n",
       "    <tr>\n",
       "      <th>75%</th>\n",
       "      <td>115.230000</td>\n",
       "      <td>211.000000</td>\n",
       "      <td>0.000000</td>\n",
       "      <td>0.000000</td>\n",
       "      <td>1.000000</td>\n",
       "      <td>0.000000</td>\n",
       "      <td>1.000000</td>\n",
       "      <td>23.000000</td>\n",
       "      <td>215.000000</td>\n",
       "      <td>14.000000</td>\n",
       "      <td>...</td>\n",
       "      <td>1.00000</td>\n",
       "      <td>23.000000</td>\n",
       "      <td>247.000000</td>\n",
       "      <td>6.000000</td>\n",
       "      <td>1.000000</td>\n",
       "      <td>21765.316944</td>\n",
       "      <td>4258.000000</td>\n",
       "      <td>4258.000000</td>\n",
       "      <td>1.000000</td>\n",
       "      <td>0.000000</td>\n",
       "    </tr>\n",
       "    <tr>\n",
       "      <th>max</th>\n",
       "      <td>41750.000000</td>\n",
       "      <td>3467.000000</td>\n",
       "      <td>1.000000</td>\n",
       "      <td>1.000000</td>\n",
       "      <td>1.000000</td>\n",
       "      <td>1.000000</td>\n",
       "      <td>1.000000</td>\n",
       "      <td>31.000000</td>\n",
       "      <td>259.000000</td>\n",
       "      <td>23.000000</td>\n",
       "      <td>...</td>\n",
       "      <td>1.00000</td>\n",
       "      <td>31.000000</td>\n",
       "      <td>366.000000</td>\n",
       "      <td>7.000000</td>\n",
       "      <td>1.000000</td>\n",
       "      <td>151104.187222</td>\n",
       "      <td>236982.000000</td>\n",
       "      <td>236982.000000</td>\n",
       "      <td>1.000000</td>\n",
       "      <td>1.000000</td>\n",
       "    </tr>\n",
       "  </tbody>\n",
       "</table>\n",
       "<p>8 rows × 21 columns</p>\n",
       "</div>"
      ],
      "text/plain": [
       "                  V4  unique_transactions  is_large_amount_quantile  \\\n",
       "count  233633.000000        233633.000000             233633.000000   \n",
       "mean      266.360390           262.930053                  0.048923   \n",
       "std      1338.657212           531.026377                  0.215707   \n",
       "min         0.008350             1.000000                  0.000000   \n",
       "25%        12.525000            49.000000                  0.000000   \n",
       "50%        33.400000            91.000000                  0.000000   \n",
       "75%       115.230000           211.000000                  0.000000   \n",
       "max     41750.000000          3467.000000                  1.000000   \n",
       "\n",
       "       is_large_amount_average  multiple_transactions  similar_transaction  \\\n",
       "count            233633.000000          233633.000000        233633.000000   \n",
       "mean                  0.159956               0.352960             0.164947   \n",
       "std                   0.366566               0.477891             0.371133   \n",
       "min                   0.000000               0.000000             0.000000   \n",
       "25%                   0.000000               0.000000             0.000000   \n",
       "50%                   0.000000               0.000000             0.000000   \n",
       "75%                   0.000000               1.000000             0.000000   \n",
       "max                   1.000000               1.000000             1.000000   \n",
       "\n",
       "       potential_fraud            day    day_of_year           hour  ...  \\\n",
       "count    233633.000000  233633.000000  233633.000000  233633.000000  ...   \n",
       "mean          0.499313      15.791990     169.548339       9.471988  ...   \n",
       "std           0.500001       8.687133      52.567214       7.331914  ...   \n",
       "min           0.000000       1.000000      76.000000       0.000000  ...   \n",
       "25%           0.000000       8.000000     125.000000       4.000000  ...   \n",
       "50%           0.000000      15.000000     170.000000       8.000000  ...   \n",
       "75%           1.000000      23.000000     215.000000      14.000000  ...   \n",
       "max           1.000000      31.000000     259.000000      23.000000  ...   \n",
       "\n",
       "         is_weekend        day_V13  day_of_year13   is_weekday13  \\\n",
       "count  233633.00000  233633.000000  233633.000000  233633.000000   \n",
       "mean        0.29254      15.628721     172.278955       4.075122   \n",
       "std         0.45493       8.508743      99.718937       2.034402   \n",
       "min         0.00000       1.000000       1.000000       1.000000   \n",
       "25%         0.00000       9.000000      89.000000       2.000000   \n",
       "50%         0.00000      15.000000     163.000000       4.000000   \n",
       "75%         1.00000      23.000000     247.000000       6.000000   \n",
       "max         1.00000      31.000000     366.000000       7.000000   \n",
       "\n",
       "        is_weekend13    V13_V5_diff      time_diff  time_diff_grouped  \\\n",
       "count  233633.000000  233633.000000  233633.000000      233633.000000   \n",
       "mean        0.302564   16380.700677    3737.843049        3737.843049   \n",
       "std         0.459369   20557.956583    7335.528994        7335.528994   \n",
       "min         0.000000     -11.083056       0.000000           0.000000   \n",
       "25%         0.000000    2787.163889      70.000000          70.000000   \n",
       "50%         0.000000    9580.447083    1211.000000        1211.000000   \n",
       "75%         1.000000   21765.316944    4258.000000        4258.000000   \n",
       "max         1.000000  151104.187222  236982.000000      236982.000000   \n",
       "\n",
       "                V7_A           V7_B  \n",
       "count  233633.000000  233633.000000  \n",
       "mean        0.978441       0.013025  \n",
       "std         0.145240       0.113380  \n",
       "min         0.000000       0.000000  \n",
       "25%         1.000000       0.000000  \n",
       "50%         1.000000       0.000000  \n",
       "75%         1.000000       0.000000  \n",
       "max         1.000000       1.000000  \n",
       "\n",
       "[8 rows x 21 columns]"
      ]
     },
     "execution_count": 57,
     "metadata": {},
     "output_type": "execute_result"
    }
   ],
   "source": [
    "X.describe()"
   ]
  },
  {
   "cell_type": "code",
   "execution_count": 58,
   "id": "b0a26b2c",
   "metadata": {},
   "outputs": [],
   "source": [
    "X_custom = X\n",
    "X_custom.drop(['V13_V5_diff'],axis = 1, inplace = True)"
   ]
  },
  {
   "cell_type": "code",
   "execution_count": 59,
   "id": "46862ebf",
   "metadata": {},
   "outputs": [],
   "source": [
    "# select top k features based on chi-squared statistical test\n",
    "k = 15\n",
    "selector = SelectKBest(score_func=chi2, k=k)\n",
    "X_new = selector.fit_transform(X_custom, y)\n",
    "\n",
    "# get the indices of the selected features\n",
    "selected_indices = selector.get_support(indices=True)\n",
    "\n",
    "# get the names of the selected features\n",
    "selected_feature_names = X_custom.columns[selected_indices].tolist()"
   ]
  },
  {
   "cell_type": "code",
   "execution_count": 60,
   "id": "85a20bc1",
   "metadata": {},
   "outputs": [
    {
     "name": "stdout",
     "output_type": "stream",
     "text": [
      "['V4', 'unique_transactions', 'is_large_amount_average', 'multiple_transactions', 'similar_transaction', 'potential_fraud', 'day_of_year', 'hour', 'is_weekend', 'day_of_year13', 'is_weekend13', 'time_diff', 'time_diff_grouped', 'V7_A', 'V7_B']\n"
     ]
    }
   ],
   "source": [
    "print(selected_feature_names)"
   ]
  },
  {
   "cell_type": "code",
   "execution_count": null,
   "id": "9954620a",
   "metadata": {},
   "outputs": [],
   "source": [
    "X = X[selected_feature_names]"
   ]
  },
  {
   "cell_type": "markdown",
   "id": "bebe8487",
   "metadata": {},
   "source": [
    "# Scaling"
   ]
  },
  {
   "cell_type": "code",
   "execution_count": 61,
   "id": "1c0232af",
   "metadata": {},
   "outputs": [],
   "source": [
    "#Scale the features using StandardScaler -- Training Data\n",
    "from sklearn.preprocessing import StandardScaler, MinMaxScaler, RobustScaler\n",
    "scaler = StandardScaler()\n",
    "X = pd.DataFrame(scaler.fit_transform(X), index=X.index, columns=X.columns)"
   ]
  },
  {
   "cell_type": "code",
   "execution_count": null,
   "id": "9a47ea83",
   "metadata": {},
   "outputs": [],
   "source": []
  },
  {
   "cell_type": "markdown",
   "id": "b61759e5",
   "metadata": {},
   "source": [
    "# Model building and Hyperparameter tuning"
   ]
  },
  {
   "cell_type": "code",
   "execution_count": 62,
   "id": "a1d83585",
   "metadata": {},
   "outputs": [],
   "source": [
    "X_train, X_val, y_train, y_val = train_test_split(X, y, stratify=y, test_size=0.25, random_state=42)"
   ]
  },
  {
   "cell_type": "code",
   "execution_count": 63,
   "id": "3d1ef514",
   "metadata": {},
   "outputs": [],
   "source": [
    "from imblearn.over_sampling import ADASYN, SMOTE\n",
    "# Apply ADASYN to the training data\n",
    "adasyn = ADASYN(sampling_strategy = 'minority', n_neighbors = 10, random_state=42)\n",
    "smote = SMOTE(sampling_strategy = 'minority', k_neighbors = 8, random_state=42)\n",
    "\n",
    "X_train_resampled, y_train_resampled = adasyn.fit_resample(X_train, y_train)\n"
   ]
  },
  {
   "cell_type": "code",
   "execution_count": 64,
   "id": "7492272a",
   "metadata": {},
   "outputs": [],
   "source": [
    "# Calculate the class weights\n",
    "class_weights = class_weight.compute_class_weight('balanced', classes=[0, 1], y=y_train)\n"
   ]
  },
  {
   "cell_type": "markdown",
   "id": "107b87a9",
   "metadata": {},
   "source": [
    "# LDA"
   ]
  },
  {
   "cell_type": "code",
   "execution_count": 65,
   "id": "f201536b",
   "metadata": {},
   "outputs": [
    {
     "name": "stdout",
     "output_type": "stream",
     "text": [
      "              precision    recall  f1-score   support\n",
      "\n",
      "           0       1.00      0.69      0.81     58086\n",
      "           1       0.01      0.82      0.03       323\n",
      "\n",
      "    accuracy                           0.69     58409\n",
      "   macro avg       0.51      0.76      0.42     58409\n",
      "weighted avg       0.99      0.69      0.81     58409\n",
      "\n"
     ]
    }
   ],
   "source": [
    "from sklearn.discriminant_analysis import LinearDiscriminantAnalysis\n",
    "# Create an instance of LDA\n",
    "lda = LinearDiscriminantAnalysis(solver = 'eigen')\n",
    "\n",
    "# Fit the LDA model to the training data\n",
    "lda.fit(X_train_resampled, y_train_resampled)\n",
    "\n",
    "# Make predictions on the test data\n",
    "y_pred = lda.predict(X_val)\n",
    "\n",
    "# Print the classification report\n",
    "print(classification_report(y_val, y_pred))"
   ]
  },
  {
   "cell_type": "code",
   "execution_count": 66,
   "id": "8bf399b5",
   "metadata": {},
   "outputs": [
    {
     "name": "stdout",
     "output_type": "stream",
     "text": [
      "41.39529002933139\n"
     ]
    }
   ],
   "source": [
    "precision, recall, threshold = metrics.precision_recall_curve(y_val,y_pred)\n",
    "score = max(0, 100*metrics.auc(precision,recall))\n",
    "print(score)"
   ]
  },
  {
   "cell_type": "markdown",
   "id": "0bf77128",
   "metadata": {},
   "source": [
    "# logistic regression"
   ]
  },
  {
   "cell_type": "code",
   "execution_count": 67,
   "id": "de5cf4d1",
   "metadata": {},
   "outputs": [
    {
     "name": "stdout",
     "output_type": "stream",
     "text": [
      "              precision    recall  f1-score   support\n",
      "\n",
      "           0       1.00      0.96      0.98     58086\n",
      "           1       0.06      0.43      0.10       323\n",
      "\n",
      "    accuracy                           0.96     58409\n",
      "   macro avg       0.53      0.69      0.54     58409\n",
      "weighted avg       0.99      0.96      0.97     58409\n",
      "\n"
     ]
    }
   ],
   "source": [
    "# Define the logistic regression model\n",
    "log_reg = LogisticRegression(C=0.001, class_weight = {0: 8, 1: 2}, random_state=0)\n",
    "#log_reg = LogisticRegression(class_weight={0: 7, 1: 69})\n",
    "# Fit the model to the training data\n",
    "log_reg.fit(X_train_resampled, y_train_resampled)\n",
    "\n",
    "# Make predictions on the test data\n",
    "y_pred = log_reg.predict(X_val)\n",
    "\n",
    "# Print the classification report\n",
    "print(classification_report(y_val, y_pred))"
   ]
  },
  {
   "cell_type": "code",
   "execution_count": 69,
   "id": "2289efec",
   "metadata": {},
   "outputs": [
    {
     "name": "stdout",
     "output_type": "stream",
     "text": [
      "23.85704537394192\n"
     ]
    }
   ],
   "source": [
    "precision, recall, threshold = metrics.precision_recall_curve(y_val,y_pred)\n",
    "score = max(0, 100*metrics.auc(precision,recall))\n",
    "print(score)"
   ]
  },
  {
   "cell_type": "code",
   "execution_count": 72,
   "id": "14504eac",
   "metadata": {},
   "outputs": [
    {
     "name": "stdout",
     "output_type": "stream",
     "text": [
      "Best accuracy score:  [0. 0. 0. 0. 0. 0. 0. 0. 0. 0.]\n",
      "CPU times: total: 24.4 s\n",
      "Wall time: 11.8 s\n"
     ]
    }
   ],
   "source": [
    "%%time\n",
    "\n",
    "# Define hyperparameters to search over\n",
    "param_grid = {\n",
    "    'penalty': ['l2'],\n",
    "    'C': [10],# [0.01, 0.1, 1, 10, 100, 1000]\n",
    "    'solver': ['sag']\n",
    "}\n",
    "\n",
    "# Create logistic regression model\n",
    "log_reg = LogisticRegression()\n",
    "\n",
    "# Create cross-validation object with 10 folds\n",
    "cv = StratifiedKFold(n_splits=10, shuffle=True, random_state=42)\n",
    "# Train and evaluate the model with 10-fold cross-validation\n",
    "scores = cross_val_score(log_reg, X, y, cv=cv, scoring='f1')\n",
    "\n",
    "\n",
    "print(\"Best accuracy score: \", scores)"
   ]
  },
  {
   "cell_type": "code",
   "execution_count": 70,
   "id": "e5be519a",
   "metadata": {},
   "outputs": [
    {
     "data": {
      "text/plain": [
       "array([[55836,  2250],\n",
       "       [  185,   138]], dtype=int64)"
      ]
     },
     "execution_count": 70,
     "metadata": {},
     "output_type": "execute_result"
    }
   ],
   "source": [
    "from sklearn.metrics import confusion_matrix\n",
    "confusion_matrix(y_val, y_pred)"
   ]
  },
  {
   "cell_type": "markdown",
   "id": "d096be93",
   "metadata": {},
   "source": [
    "# knn"
   ]
  },
  {
   "cell_type": "code",
   "execution_count": 73,
   "id": "42e56319",
   "metadata": {},
   "outputs": [
    {
     "name": "stdout",
     "output_type": "stream",
     "text": [
      "              precision    recall  f1-score   support\n",
      "\n",
      "           0       1.00      1.00      1.00     58086\n",
      "           1       0.69      0.21      0.32       323\n",
      "\n",
      "    accuracy                           1.00     58409\n",
      "   macro avg       0.84      0.61      0.66     58409\n",
      "weighted avg       0.99      1.00      0.99     58409\n",
      "\n",
      "CPU times: total: 2min 35s\n",
      "Wall time: 48.6 s\n"
     ]
    }
   ],
   "source": [
    "%%time\n",
    "from sklearn.neighbors import KNeighborsClassifier\n",
    "knn = KNeighborsClassifier(n_neighbors=20)\n",
    "knn.fit(X_train, y_train)\n",
    "# Make predictions on the test data\n",
    "y_pred = knn.predict(X_val)\n",
    "\n",
    "# Print the classification report\n",
    "print(classification_report(y_val, y_pred))"
   ]
  },
  {
   "cell_type": "code",
   "execution_count": 74,
   "id": "43d1de62",
   "metadata": {},
   "outputs": [
    {
     "name": "stdout",
     "output_type": "stream",
     "text": [
      "44.88548464834048\n"
     ]
    }
   ],
   "source": [
    "precision, recall, threshold = metrics.precision_recall_curve(y_val,y_pred)\n",
    "score = max(0, 100*metrics.auc(precision,recall))\n",
    "print(score)"
   ]
  },
  {
   "cell_type": "markdown",
   "id": "cbb6d1df",
   "metadata": {},
   "source": [
    "# SVM"
   ]
  },
  {
   "cell_type": "code",
   "execution_count": null,
   "id": "14753507",
   "metadata": {},
   "outputs": [],
   "source": [
    "%%time\n",
    "# Create an SVM classifier object\n",
    "svm_clf = svm.SVC(probability = True)\n",
    "\n",
    "# Train the classifier on the training data\n",
    "svm_clf.fit(X_train, y_train)"
   ]
  },
  {
   "cell_type": "code",
   "execution_count": null,
   "id": "81ecd5fd",
   "metadata": {},
   "outputs": [],
   "source": [
    "# Make predictions on the test data\n",
    "y_pred = svm_clf.predict(X_val)\n",
    "\n",
    "# Print the classification report\n",
    "print(classification_report(y_val, y_pred))"
   ]
  },
  {
   "cell_type": "code",
   "execution_count": null,
   "id": "149875df",
   "metadata": {},
   "outputs": [],
   "source": [
    "precision, recall, threshold = metrics.precision_recall_curve(y_val,y_pred)\n",
    "score = max(0, 100*metrics.auc(precision,recall))\n",
    "print(score)"
   ]
  },
  {
   "cell_type": "markdown",
   "id": "5050b9a9",
   "metadata": {},
   "source": [
    "# Xgboost"
   ]
  },
  {
   "cell_type": "code",
   "execution_count": 75,
   "id": "9c010a7a",
   "metadata": {},
   "outputs": [
    {
     "name": "stdout",
     "output_type": "stream",
     "text": [
      "              precision    recall  f1-score   support\n",
      "\n",
      "           0       1.00      1.00      1.00     58086\n",
      "           1       0.95      0.63      0.76       323\n",
      "\n",
      "    accuracy                           1.00     58409\n",
      "   macro avg       0.98      0.82      0.88     58409\n",
      "weighted avg       1.00      1.00      1.00     58409\n",
      "\n",
      "CPU times: total: 2min 27s\n",
      "Wall time: 43.6 s\n"
     ]
    }
   ],
   "source": [
    "%%time\n",
    "xgb_clf = xgb.XGBClassifier(n_estimators=200, learning_rate=0.3, random_state=123, max_depth=6)\n",
    "xgb_clf.fit(X_train, y_train)\n",
    "\n",
    "# Make predictions on the test data\n",
    "y_pred = xgb_clf.predict(X_val)\n",
    "\n",
    "# Print the classification report\n",
    "print(classification_report(y_val, y_pred))"
   ]
  },
  {
   "cell_type": "code",
   "execution_count": 82,
   "id": "e63400f5",
   "metadata": {},
   "outputs": [
    {
     "name": "stdout",
     "output_type": "stream",
     "text": [
      "56.98274007182904\n"
     ]
    }
   ],
   "source": [
    "precision, recall, threshold = metrics.precision_recall_curve(y_val,y_pred)\n",
    "score = max(0, 100*metrics.auc(precision,recall))\n",
    "print(score)"
   ]
  },
  {
   "cell_type": "markdown",
   "id": "f3f43936",
   "metadata": {},
   "source": [
    "# Neural network"
   ]
  },
  {
   "cell_type": "code",
   "execution_count": 77,
   "id": "e6b4d642",
   "metadata": {},
   "outputs": [
    {
     "name": "stdout",
     "output_type": "stream",
     "text": [
      "Epoch 1/10\n",
      "5476/5476 [==============================] - 16s 3ms/step - loss: 0.0307 - accuracy: 0.9942 - val_loss: 0.0222 - val_accuracy: 0.9949\n",
      "Epoch 2/10\n",
      "5476/5476 [==============================] - 14s 3ms/step - loss: 0.0232 - accuracy: 0.9949 - val_loss: 0.0203 - val_accuracy: 0.9953\n",
      "Epoch 3/10\n",
      "5476/5476 [==============================] - 14s 3ms/step - loss: 0.0219 - accuracy: 0.9952 - val_loss: 0.0194 - val_accuracy: 0.9954\n",
      "Epoch 4/10\n",
      "5476/5476 [==============================] - 14s 3ms/step - loss: 0.0205 - accuracy: 0.9954 - val_loss: 0.0187 - val_accuracy: 0.9955\n",
      "Epoch 5/10\n",
      "5476/5476 [==============================] - 14s 3ms/step - loss: 0.0201 - accuracy: 0.9953 - val_loss: 0.0185 - val_accuracy: 0.9955\n",
      "Epoch 6/10\n",
      "5476/5476 [==============================] - 14s 3ms/step - loss: 0.0194 - accuracy: 0.9956 - val_loss: 0.0181 - val_accuracy: 0.9954\n",
      "Epoch 7/10\n",
      "5476/5476 [==============================] - 14s 3ms/step - loss: 0.0187 - accuracy: 0.9957 - val_loss: 0.0180 - val_accuracy: 0.9956\n",
      "Epoch 8/10\n",
      "5476/5476 [==============================] - 16s 3ms/step - loss: 0.0188 - accuracy: 0.9956 - val_loss: 0.0174 - val_accuracy: 0.9956\n",
      "Epoch 9/10\n",
      "5476/5476 [==============================] - 15s 3ms/step - loss: 0.0184 - accuracy: 0.9957 - val_loss: 0.0175 - val_accuracy: 0.9957\n",
      "Epoch 10/10\n",
      "5476/5476 [==============================] - 22s 4ms/step - loss: 0.0181 - accuracy: 0.9958 - val_loss: 0.0170 - val_accuracy: 0.9957\n"
     ]
    }
   ],
   "source": [
    "from keras.models import Sequential\n",
    "from keras.layers import Dense, Dropout\n",
    "# Build the neural network model\n",
    "model = Sequential()\n",
    "model.add(Dense(64, activation='relu', input_dim=X_train.shape[1]))\n",
    "model.add(Dropout(0.2))\n",
    "model.add(Dense(32, activation='relu'))\n",
    "model.add(Dropout(0.2))\n",
    "model.add(Dense(1, activation='sigmoid'))\n",
    "\n",
    "# Compile the model\n",
    "model.compile(optimizer='adam', loss='binary_crossentropy', metrics=['accuracy'])\n",
    "\n",
    "# Train the model\n",
    "history = model.fit(X_train, y_train, epochs=10, batch_size=32, validation_data=(X_val, y_val))\n",
    "\n",
    "# Evaluate the model on the test set\n",
    "score = model.evaluate(X_val, y_val, verbose=0)"
   ]
  },
  {
   "cell_type": "code",
   "execution_count": 78,
   "id": "ee74d9de",
   "metadata": {},
   "outputs": [
    {
     "name": "stdout",
     "output_type": "stream",
     "text": [
      "1826/1826 [==============================] - 4s 2ms/step\n",
      "              precision    recall  f1-score   support\n",
      "\n",
      "           0       1.00      1.00      1.00     58086\n",
      "           1       0.90      0.25      0.39       323\n",
      "\n",
      "    accuracy                           1.00     58409\n",
      "   macro avg       0.95      0.62      0.69     58409\n",
      "weighted avg       1.00      1.00      0.99     58409\n",
      "\n"
     ]
    }
   ],
   "source": [
    "# Make predictions on the test data\n",
    "y_pred = model.predict(X_val)\n",
    "y_pred = np.where(y_pred > 0.5, 1, 0)\n",
    "# Print the classification report\n",
    "print(classification_report(y_val, y_pred))"
   ]
  },
  {
   "cell_type": "code",
   "execution_count": 81,
   "id": "e9731ba3",
   "metadata": {},
   "outputs": [
    {
     "name": "stdout",
     "output_type": "stream",
     "text": [
      "56.98274007182904\n"
     ]
    }
   ],
   "source": [
    "precision, recall, threshold = metrics.precision_recall_curve(y_val,y_pred)\n",
    "score = max(0, 100*metrics.auc(precision,recall))\n",
    "print(score)"
   ]
  },
  {
   "cell_type": "markdown",
   "id": "ac254adf",
   "metadata": {},
   "source": [
    "# Model predictions"
   ]
  },
  {
   "cell_type": "code",
   "execution_count": 84,
   "id": "dd809158",
   "metadata": {},
   "outputs": [
    {
     "name": "stdout",
     "output_type": "stream",
     "text": [
      "[[1. 0.]\n",
      " [1. 0.]\n",
      " [1. 0.]\n",
      " ...\n",
      " [1. 0.]\n",
      " [1. 0.]\n",
      " [1. 0.]]\n"
     ]
    }
   ],
   "source": [
    "print(knn.predict_proba(X_val))"
   ]
  },
  {
   "cell_type": "code",
   "execution_count": 85,
   "id": "0405e98c",
   "metadata": {},
   "outputs": [
    {
     "name": "stdout",
     "output_type": "stream",
     "text": [
      "[0 0 0 ... 0 0 0]\n"
     ]
    }
   ],
   "source": [
    "print(knn.predict(X_val))"
   ]
  },
  {
   "cell_type": "markdown",
   "id": "f2f8d45f",
   "metadata": {},
   "source": [
    "__Best MODEL we get is XGBOOST but it is failing in prediction on test data. Only logistic regression is giving permiasible result on test data__ "
   ]
  },
  {
   "cell_type": "markdown",
   "id": "37fd2547",
   "metadata": {},
   "source": [
    "# Metrics calculation and graph plotting"
   ]
  },
  {
   "cell_type": "code",
   "execution_count": 88,
   "id": "337c5766",
   "metadata": {},
   "outputs": [
    {
     "data": {
      "image/png": "[encoded data removed]",
      "text/plain": [
       "<Figure size 2160x1440 with 1 Axes>"
      ]
     },
     "metadata": {
      "needs_background": "light"
     },
     "output_type": "display_data"
    }
   ],
   "source": [
    "# Calculate AUC-ROC score and plot the curve\n",
    "auc_roc = roc_auc_score(y_val, xgb_clf.predict_proba(X_val)[:,1])\n",
    "fpr, tpr, _ = roc_curve(y_val, xgb_clf.predict_proba(X_val)[:,1])\n",
    "plt.plot(fpr, tpr, label=f\"AUC-ROC = {auc_roc:.2f}\")\n",
    "plt.xlabel(\"False Positive Rate\")\n",
    "plt.ylabel(\"True Positive Rate\")\n",
    "plt.legend()\n",
    "plt.show()"
   ]
  },
  {
   "cell_type": "markdown",
   "id": "1e5bfce9",
   "metadata": {},
   "source": [
    "# Submission"
   ]
  },
  {
   "cell_type": "code",
   "execution_count": 89,
   "id": "aaa572ec",
   "metadata": {},
   "outputs": [],
   "source": [
    "test_df = pd.read_csv(\"G:/Final_laptop_backup/HSBC_challenge/dataset/test.csv\")\n",
    "V2 = test_df['V2'].tolist()\n",
    "test_df_bkp = test_df.copy()"
   ]
  },
  {
   "cell_type": "code",
   "execution_count": 90,
   "id": "f0bb3c31",
   "metadata": {},
   "outputs": [
    {
     "data": {
      "text/html": [
       "<div>\n",
       "<style scoped>\n",
       "    .dataframe tbody tr th:only-of-type {\n",
       "        vertical-align: middle;\n",
       "    }\n",
       "\n",
       "    .dataframe tbody tr th {\n",
       "        vertical-align: top;\n",
       "    }\n",
       "\n",
       "    .dataframe thead th {\n",
       "        text-align: right;\n",
       "    }\n",
       "</style>\n",
       "<table border=\"1\" class=\"dataframe\">\n",
       "  <thead>\n",
       "    <tr style=\"text-align: right;\">\n",
       "      <th></th>\n",
       "      <th>V1</th>\n",
       "      <th>V2</th>\n",
       "      <th>V3</th>\n",
       "      <th>V4</th>\n",
       "      <th>V5</th>\n",
       "      <th>V6</th>\n",
       "      <th>V7</th>\n",
       "      <th>V8</th>\n",
       "      <th>V9</th>\n",
       "      <th>V10</th>\n",
       "      <th>V11</th>\n",
       "      <th>V12</th>\n",
       "      <th>V13</th>\n",
       "    </tr>\n",
       "  </thead>\n",
       "  <tbody>\n",
       "    <tr>\n",
       "      <th>0</th>\n",
       "      <td>CUID6660</td>\n",
       "      <td>TID198043</td>\n",
       "      <td>EID908838</td>\n",
       "      <td>4154.125</td>\n",
       "      <td>13-08-2020 08:41</td>\n",
       "      <td>33227</td>\n",
       "      <td>A</td>\n",
       "      <td>BA4811</td>\n",
       "      <td>BB68389</td>\n",
       "      <td>PD39402</td>\n",
       "      <td>CC1</td>\n",
       "      <td>CP0</td>\n",
       "      <td>11-08-2020 00:00</td>\n",
       "    </tr>\n",
       "    <tr>\n",
       "      <th>1</th>\n",
       "      <td>CUID6660</td>\n",
       "      <td>TID312736</td>\n",
       "      <td>EID502971</td>\n",
       "      <td>8350.000</td>\n",
       "      <td>17-08-2020 04:13</td>\n",
       "      <td>33227</td>\n",
       "      <td>A</td>\n",
       "      <td>BA4811</td>\n",
       "      <td>BB68389</td>\n",
       "      <td>PD39402</td>\n",
       "      <td>CC1</td>\n",
       "      <td>CP0</td>\n",
       "      <td>11-08-2020 00:00</td>\n",
       "    </tr>\n",
       "    <tr>\n",
       "      <th>2</th>\n",
       "      <td>CUID6660</td>\n",
       "      <td>TID308818</td>\n",
       "      <td>EID231193</td>\n",
       "      <td>20.875</td>\n",
       "      <td>11-08-2020 01:40</td>\n",
       "      <td>363981</td>\n",
       "      <td>A</td>\n",
       "      <td>BA4811</td>\n",
       "      <td>BB68389</td>\n",
       "      <td>PD39402</td>\n",
       "      <td>CC1</td>\n",
       "      <td>CP0</td>\n",
       "      <td>11-08-2020 00:00</td>\n",
       "    </tr>\n",
       "    <tr>\n",
       "      <th>3</th>\n",
       "      <td>CUID6660</td>\n",
       "      <td>TID321252</td>\n",
       "      <td>EID1124129</td>\n",
       "      <td>20457.500</td>\n",
       "      <td>30-08-2020 22:11</td>\n",
       "      <td>33227</td>\n",
       "      <td>A</td>\n",
       "      <td>BA4811</td>\n",
       "      <td>BB68389</td>\n",
       "      <td>PD39402</td>\n",
       "      <td>CC1</td>\n",
       "      <td>CP0</td>\n",
       "      <td>11-08-2020 00:00</td>\n",
       "    </tr>\n",
       "    <tr>\n",
       "      <th>4</th>\n",
       "      <td>CUID6660</td>\n",
       "      <td>TID420788</td>\n",
       "      <td>EID908838</td>\n",
       "      <td>4154.125</td>\n",
       "      <td>13-08-2020 08:40</td>\n",
       "      <td>33227</td>\n",
       "      <td>A</td>\n",
       "      <td>BA4811</td>\n",
       "      <td>BB68389</td>\n",
       "      <td>PD39402</td>\n",
       "      <td>CC1</td>\n",
       "      <td>CP0</td>\n",
       "      <td>11-08-2020 00:00</td>\n",
       "    </tr>\n",
       "  </tbody>\n",
       "</table>\n",
       "</div>"
      ],
      "text/plain": [
       "         V1         V2          V3         V4                V5      V6 V7  \\\n",
       "0  CUID6660  TID198043   EID908838   4154.125  13-08-2020 08:41   33227  A   \n",
       "1  CUID6660  TID312736   EID502971   8350.000  17-08-2020 04:13   33227  A   \n",
       "2  CUID6660  TID308818   EID231193     20.875  11-08-2020 01:40  363981  A   \n",
       "3  CUID6660  TID321252  EID1124129  20457.500  30-08-2020 22:11   33227  A   \n",
       "4  CUID6660  TID420788   EID908838   4154.125  13-08-2020 08:40   33227  A   \n",
       "\n",
       "       V8       V9      V10  V11  V12               V13  \n",
       "0  BA4811  BB68389  PD39402  CC1  CP0  11-08-2020 00:00  \n",
       "1  BA4811  BB68389  PD39402  CC1  CP0  11-08-2020 00:00  \n",
       "2  BA4811  BB68389  PD39402  CC1  CP0  11-08-2020 00:00  \n",
       "3  BA4811  BB68389  PD39402  CC1  CP0  11-08-2020 00:00  \n",
       "4  BA4811  BB68389  PD39402  CC1  CP0  11-08-2020 00:00  "
      ]
     },
     "execution_count": 90,
     "metadata": {},
     "output_type": "execute_result"
    }
   ],
   "source": [
    "test_df.head()"
   ]
  },
  {
   "cell_type": "code",
   "execution_count": 91,
   "id": "4f60d7ef",
   "metadata": {},
   "outputs": [],
   "source": [
    "#test_df = test_df[test_df['V1'] == 'CUID6660']"
   ]
  },
  {
   "cell_type": "code",
   "execution_count": 92,
   "id": "442c24f9",
   "metadata": {},
   "outputs": [],
   "source": [
    "test_df['V6'] = test_df['V6'].astype(str)"
   ]
  },
  {
   "cell_type": "code",
   "execution_count": 93,
   "id": "25700c7e",
   "metadata": {},
   "outputs": [],
   "source": [
    "# Group the DataFrame by CUID and count the unique transactions for each CUID\n",
    "unique_transactions = test_df.groupby('V1')['V2'].nunique()"
   ]
  },
  {
   "cell_type": "code",
   "execution_count": 94,
   "id": "cec87b15",
   "metadata": {},
   "outputs": [],
   "source": [
    "# Create a new DataFrame with the unique transactions for each CUID\n",
    "df_unique_transactions = pd.DataFrame({'V1': unique_transactions.index, 'unique_transactions': unique_transactions.values})"
   ]
  },
  {
   "cell_type": "code",
   "execution_count": 95,
   "id": "313aa890",
   "metadata": {},
   "outputs": [],
   "source": [
    "# Merge the original DataFrame with the new DataFrame on CUID\n",
    "test_df = pd.merge(test_df, df_unique_transactions, on='V1')"
   ]
  },
  {
   "cell_type": "code",
   "execution_count": 96,
   "id": "db2d1dab",
   "metadata": {},
   "outputs": [],
   "source": [
    "# Calculate the 95% quantile transaction amount for each customer V1\n",
    "quantile_amounts = test_df.groupby('V1')['V4'].quantile(.95)\n",
    "# Add a new column to the dataframe indicating if the transaction amount is significantly larger than the average\n",
    "test_df['is_large_amount_quantile'] = test_df.apply(is_significantly_larger_quantile, axis=1)"
   ]
  },
  {
   "cell_type": "code",
   "execution_count": 97,
   "id": "dfaa48db",
   "metadata": {},
   "outputs": [],
   "source": [
    "# Calculate the average transaction amount for each customer\n",
    "avg_amounts = test_df.groupby('V1')['V4'].mean()\n",
    "\n",
    "# Add a new column to the dataframe indicating if the transaction amount is significantly larger than the average\n",
    "test_df['is_large_amount_average'] = test_df.apply(is_significantly_larger, axis=1)"
   ]
  },
  {
   "cell_type": "code",
   "execution_count": 98,
   "id": "c4a953eb",
   "metadata": {},
   "outputs": [
    {
     "name": "stdout",
     "output_type": "stream",
     "text": [
      "CPU times: total: 6min 54s\n",
      "Wall time: 7min 7s\n"
     ]
    }
   ],
   "source": [
    "%%time\n",
    "test_df['V5'] = pd.to_datetime(test_df['V5'])\n",
    "test_df['V13'] = pd.to_datetime(test_df['V13'])\n",
    "# define the time window for multiple transactions\n",
    "time_window = timedelta(minutes=60)\n",
    "\n",
    "# create a new column for multiple transactions\n",
    "test_df['multiple_transactions'] = 0\n",
    "\n",
    "# add a new column 'similar_transaction' with default value 0\n",
    "test_df['similar_transaction'] = 0\n",
    "\n",
    "test_df['potential_fraud'] = 0\n",
    "\n",
    "# loop through each unique customer ID\n",
    "for customer_id in test_df['V1'].unique():\n",
    "    # subset the dataframe for the current customer ID\n",
    "    customer_df = test_df[test_df['V1'] == customer_id]\n",
    "    # sort the dataframe by transaction date\n",
    "    customer_df = customer_df.sort_values(by='V5')\n",
    "    # loop through each row in the dataframe\n",
    "    for i in range(1, len(customer_df)):\n",
    "        # calculate the time difference between the current and previous transactions\n",
    "        time_diff = customer_df.iloc[i]['V5'] - customer_df.iloc[i-1]['V5']\n",
    "        # check if the time difference is within the time window\n",
    "        if time_diff <= time_window:\n",
    "            # set the multiple_transactions flag to True for the current and previous transactions\n",
    "            test_df.at[customer_df.index[i], 'multiple_transactions'] = 1\n",
    "            test_df.at[customer_df.index[i-1], 'multiple_transactions'] = 1\n",
    "        \n",
    "        if customer_df.iloc[i]['V4'] == customer_df.iloc[i-1]['V4'] :\n",
    "            test_df.at[customer_df.index[i], 'similar_transaction'] = 1\n",
    "            test_df.at[customer_df.index[i-1], 'similar_transaction'] = 1\n",
    "        \n",
    "        if customer_df.iloc[i]['V8'] == customer_df.iloc[i-1]['V8'] and customer_df.iloc[i]['V9'] == customer_df.iloc[i-1]['V9']:\n",
    "            test_df.at[customer_df.index[i], 'potential_fraud'] = 1\n",
    "            test_df.at[customer_df.index[i-1], 'potential_fraud'] = 1  \n"
   ]
  },
  {
   "cell_type": "code",
   "execution_count": 99,
   "id": "56f21d80",
   "metadata": {},
   "outputs": [],
   "source": [
    "test_df_this = test_df.copy()"
   ]
  },
  {
   "cell_type": "code",
   "execution_count": 100,
   "id": "783e5ba7",
   "metadata": {},
   "outputs": [],
   "source": [
    "test_df['day'] = [i.day for i in test_df.V5]\n",
    "#test_df['day_name'] = [i.day_name() for i in test_df.V5]\n",
    "test_df['day_of_year'] = [i.dayofyear for i in test_df.V5]\n",
    "test_df['week_of_year'] = [i.weekofyear for i in test_df.V5]\n",
    "test_df['month'] = [i.month for i in test_df.V5]\n",
    "test_df['hour'] = [i.hour for i in test_df.V5]\n",
    "test_df['is_weekday'] = [i.isoweekday() for i in test_df.V5]\n",
    "test_df['is_weekend'] = test_df.V5.dt.dayofweek.isin([5,6])\n",
    "test_df['is_weekend'] = test_df['is_weekend'].replace({True: 1, False: 0})\n",
    "\n",
    "test_df['day_V13'] = [i.day for i in test_df.V13]\n",
    "#train_data['day_name'] = [i.day_name() for i in train_data.V5]\n",
    "test_df['day_of_year13'] = [i.dayofyear for i in test_df.V13]\n",
    "test_df['week_of_year13'] = [i.weekofyear for i in test_df.V13]\n",
    "test_df['month13'] = [i.month for i in test_df.V13]\n",
    "test_df['hour13'] = [i.hour for i in test_df.V13]\n",
    "test_df['is_weekday13'] = [i.isoweekday() for i in test_df.V13]\n",
    "test_df['is_weekend13'] = test_df.V13.dt.dayofweek.isin([5,6])\n",
    "test_df['is_weekend13'] = test_df['is_weekend13'].replace({True: 1, False: 0})"
   ]
  },
  {
   "cell_type": "code",
   "execution_count": 101,
   "id": "0451c6b5",
   "metadata": {},
   "outputs": [],
   "source": [
    "test_df['V13_V5_diff'] = (test_df['V5'] - test_df['V13']).dt.total_seconds().div(3600)\n",
    "\n",
    "test_df['V13_V5_diff'] = test_df['V13_V5_diff'].fillna(test_df['V13_V5_diff'].median())\n",
    "test_df['day_V13'] = test_df['day_V13'].fillna(test_df['day_V13'].median())\n",
    "test_df['day_of_year13'] = test_df['day_of_year13'].fillna(test_df['day_of_year13'].median())\n",
    "test_df['week_of_year13'] = test_df['week_of_year13'].fillna(test_df['week_of_year13'].median())\n",
    "test_df['month13'] = test_df['month13'].fillna(test_df['month13'].median())\n",
    "test_df['hour13'] = test_df['hour13'].fillna(test_df['hour13'].median())\n",
    "test_df['is_weekday13'] = test_df['is_weekday13'].fillna(test_df['is_weekday13'].median())\n",
    "test_df['is_weekend13'] = test_df['is_weekend13'].fillna(test_df['is_weekend13'].median())\n",
    "\n",
    "test_df.drop(['V11'], axis = 1, inplace = True)\n"
   ]
  },
  {
   "cell_type": "code",
   "execution_count": 102,
   "id": "a65b3a7b",
   "metadata": {},
   "outputs": [],
   "source": [
    "test_df = test_df.sort_values(['V1', 'V5'])\n",
    "test_df['time_diff'] = test_df.groupby('V1')['V5'].diff().fillna(pd.Timedelta(seconds=0))\n",
    "# group by customer ID and calculate the time difference between consecutive transactions\n",
    "test_df['time_diff_grouped'] = test_df.groupby('V1')['time_diff'].shift(-1).fillna(pd.Timedelta(seconds=0))\n",
    "# convert time difference to minutes\n",
    "test_df['time_diff'] = test_df['time_diff'].dt.total_seconds().div(60).astype(int)\n",
    "# convert grouped time difference to minutes\n",
    "test_df['time_diff_grouped'] = test_df['time_diff_grouped'].dt.total_seconds().div(60).astype(int)\n"
   ]
  },
  {
   "cell_type": "code",
   "execution_count": 103,
   "id": "22b623b4",
   "metadata": {},
   "outputs": [],
   "source": [
    "one_hot_encoded_data_test = pd.get_dummies(test_df, columns = ['V7'])"
   ]
  },
  {
   "cell_type": "code",
   "execution_count": 104,
   "id": "185418f8",
   "metadata": {},
   "outputs": [
    {
     "data": {
      "text/plain": [
       "Index(['V4', 'unique_transactions', 'is_large_amount_quantile',\n",
       "       'is_large_amount_average', 'multiple_transactions',\n",
       "       'similar_transaction', 'potential_fraud', 'day', 'day_of_year', 'hour',\n",
       "       'is_weekday', 'is_weekend', 'day_V13', 'day_of_year13', 'is_weekday13',\n",
       "       'is_weekend13', 'time_diff', 'time_diff_grouped', 'V7_A', 'V7_B'],\n",
       "      dtype='object')"
      ]
     },
     "execution_count": 104,
     "metadata": {},
     "output_type": "execute_result"
    }
   ],
   "source": [
    "X_train.columns"
   ]
  },
  {
   "cell_type": "code",
   "execution_count": 105,
   "id": "d4f292aa",
   "metadata": {},
   "outputs": [
    {
     "data": {
      "text/plain": [
       "Index(['V1', 'V2', 'V3', 'V4', 'V5', 'V6', 'V8', 'V9', 'V10', 'V12', 'V13',\n",
       "       'unique_transactions', 'is_large_amount_quantile',\n",
       "       'is_large_amount_average', 'multiple_transactions',\n",
       "       'similar_transaction', 'potential_fraud', 'day', 'day_of_year',\n",
       "       'week_of_year', 'month', 'hour', 'is_weekday', 'is_weekend', 'day_V13',\n",
       "       'day_of_year13', 'week_of_year13', 'month13', 'hour13', 'is_weekday13',\n",
       "       'is_weekend13', 'V13_V5_diff', 'time_diff', 'time_diff_grouped', 'V7_A',\n",
       "       'V7_B', 'V7_C', 'V7_D', 'V7_E', 'V7_F'],\n",
       "      dtype='object')"
      ]
     },
     "execution_count": 105,
     "metadata": {},
     "output_type": "execute_result"
    }
   ],
   "source": [
    "one_hot_encoded_data_test.columns"
   ]
  },
  {
   "cell_type": "code",
   "execution_count": 106,
   "id": "65035ec8",
   "metadata": {},
   "outputs": [],
   "source": [
    "one_hot_encoded_data_test = one_hot_encoded_data_test[X_train.columns.tolist()]"
   ]
  },
  {
   "cell_type": "code",
   "execution_count": 107,
   "id": "4fb77ef2",
   "metadata": {},
   "outputs": [],
   "source": [
    "#scaler = StandardScaler()\n",
    "one_hot_encoded_data_test_scaled = pd.DataFrame(scaler.fit_transform(one_hot_encoded_data_test), index=one_hot_encoded_data_test.index, columns=one_hot_encoded_data_test.columns)"
   ]
  },
  {
   "cell_type": "code",
   "execution_count": 108,
   "id": "1afc008a",
   "metadata": {},
   "outputs": [],
   "source": [
    "#one_hot_encoded_data_test_scaled = one_hot_encoded_data_test_scaled[selected_feature_names]"
   ]
  },
  {
   "cell_type": "code",
   "execution_count": 110,
   "id": "85086805",
   "metadata": {},
   "outputs": [],
   "source": [
    "#one_hot_encoded_data_test_scaled.drop(['target_predicted','target_predicted_prob'], axis =1, inplace = True)"
   ]
  },
  {
   "cell_type": "code",
   "execution_count": null,
   "id": "5e68dfd4",
   "metadata": {},
   "outputs": [],
   "source": [
    "%%time\n",
    "target_predict = log_reg.predict(one_hot_encoded_data_test_scaled)\n",
    "#target_predict = np.where(target_predict > 0.5, 1, 0)"
   ]
  },
  {
   "cell_type": "code",
   "execution_count": null,
   "id": "84412a7e",
   "metadata": {},
   "outputs": [],
   "source": [
    "set(target_predict)"
   ]
  },
  {
   "cell_type": "code",
   "execution_count": null,
   "id": "1b995ce2",
   "metadata": {},
   "outputs": [],
   "source": [
    "%%time\n",
    "pred_probability = log_reg.predict_proba(one_hot_encoded_data_test_scaled)[:,0]\n",
    "pred_probability = [round(item,2) for item in pred_probability]"
   ]
  },
  {
   "cell_type": "code",
   "execution_count": null,
   "id": "9343349a",
   "metadata": {},
   "outputs": [],
   "source": [
    "print(pred_probability[:20])"
   ]
  },
  {
   "cell_type": "code",
   "execution_count": null,
   "id": "85ba4866",
   "metadata": {},
   "outputs": [],
   "source": [
    "one_hot_encoded_data_test_scaled['target_predicted'] = target_predict\n",
    "one_hot_encoded_data_test_scaled['target_predicted_prob'] = pred_probability"
   ]
  },
  {
   "cell_type": "code",
   "execution_count": null,
   "id": "71305e5c",
   "metadata": {},
   "outputs": [],
   "source": [
    "%%time\n",
    "for i in range(0, len(one_hot_encoded_data_test_scaled)):\n",
    "    test_df_bkp.loc[one_hot_encoded_data_test_scaled.index[i], 'target_predicted'] = one_hot_encoded_data_test_scaled.target_predicted.iloc[i]\n",
    "    test_df_bkp.loc[one_hot_encoded_data_test_scaled.index[i], 'target_predicted_prob'] = one_hot_encoded_data_test_scaled.target_predicted_prob.iloc[i]"
   ]
  },
  {
   "cell_type": "code",
   "execution_count": null,
   "id": "163c3fb1",
   "metadata": {},
   "outputs": [],
   "source": [
    "target_pred_new = test_df_bkp['target_predicted'].tolist()\n",
    "target_pred_new = [int(item) for item in target_pred_new]\n",
    "pred_prob_new = test_df_bkp['target_predicted_prob'].tolist()"
   ]
  },
  {
   "cell_type": "code",
   "execution_count": null,
   "id": "5fed9d45",
   "metadata": {},
   "outputs": [],
   "source": [
    "%%time\n",
    "submission = pd.DataFrame()\n",
    "submission['V2'] = V2\n",
    "submission['Probability'] = pred_prob_new\n",
    "submission['Target'] = target_pred_new\n",
    "submission.to_csv(\"Submission_28.csv\", index = False)"
   ]
  },
  {
   "cell_type": "code",
   "execution_count": null,
   "id": "e8f483f2",
   "metadata": {},
   "outputs": [],
   "source": [
    "submission.Target.value_counts()"
   ]
  },
  {
   "cell_type": "markdown",
   "id": "e4f1f90c",
   "metadata": {},
   "source": [
    "# End"
   ]
  },
  {
   "cell_type": "code",
   "execution_count": null,
   "id": "c3c98808",
   "metadata": {},
   "outputs": [],
   "source": []
  },
  {
   "cell_type": "code",
   "execution_count": null,
   "id": "8046be7c",
   "metadata": {},
   "outputs": [],
   "source": []
  },
  {
   "cell_type": "markdown",
   "id": "802ec15a",
   "metadata": {},
   "source": [
    "# Pycaret"
   ]
  },
  {
   "cell_type": "code",
   "execution_count": 121,
   "id": "633b00f3",
   "metadata": {},
   "outputs": [
    {
     "data": {
      "text/html": [
       "<div>\n",
       "<style scoped>\n",
       "    .dataframe tbody tr th:only-of-type {\n",
       "        vertical-align: middle;\n",
       "    }\n",
       "\n",
       "    .dataframe tbody tr th {\n",
       "        vertical-align: top;\n",
       "    }\n",
       "\n",
       "    .dataframe thead th {\n",
       "        text-align: right;\n",
       "    }\n",
       "</style>\n",
       "<table border=\"1\" class=\"dataframe\">\n",
       "  <thead>\n",
       "    <tr style=\"text-align: right;\">\n",
       "      <th></th>\n",
       "      <th>V4</th>\n",
       "      <th>V7</th>\n",
       "      <th>Target</th>\n",
       "      <th>unique_transactions</th>\n",
       "      <th>is_large_amount_quantile</th>\n",
       "      <th>is_large_amount_average</th>\n",
       "      <th>multiple_transactions</th>\n",
       "      <th>similar_transaction</th>\n",
       "      <th>potential_fraud</th>\n",
       "      <th>day</th>\n",
       "      <th>...</th>\n",
       "      <th>day_V13</th>\n",
       "      <th>day_of_year13</th>\n",
       "      <th>week_of_year13</th>\n",
       "      <th>month13</th>\n",
       "      <th>hour13</th>\n",
       "      <th>is_weekday13</th>\n",
       "      <th>is_weekend13</th>\n",
       "      <th>V13_V5_diff</th>\n",
       "      <th>time_diff</th>\n",
       "      <th>time_diff_grouped</th>\n",
       "    </tr>\n",
       "  </thead>\n",
       "  <tbody>\n",
       "    <tr>\n",
       "      <th>163778</th>\n",
       "      <td>4.175</td>\n",
       "      <td>A</td>\n",
       "      <td>0</td>\n",
       "      <td>42</td>\n",
       "      <td>0</td>\n",
       "      <td>0</td>\n",
       "      <td>1</td>\n",
       "      <td>0</td>\n",
       "      <td>0</td>\n",
       "      <td>19</td>\n",
       "      <td>...</td>\n",
       "      <td>19.0</td>\n",
       "      <td>79.0</td>\n",
       "      <td>12.0</td>\n",
       "      <td>3.0</td>\n",
       "      <td>0.0</td>\n",
       "      <td>4.0</td>\n",
       "      <td>0</td>\n",
       "      <td>0.989722</td>\n",
       "      <td>0</td>\n",
       "      <td>1</td>\n",
       "    </tr>\n",
       "    <tr>\n",
       "      <th>163773</th>\n",
       "      <td>334.835</td>\n",
       "      <td>A</td>\n",
       "      <td>0</td>\n",
       "      <td>42</td>\n",
       "      <td>0</td>\n",
       "      <td>0</td>\n",
       "      <td>1</td>\n",
       "      <td>0</td>\n",
       "      <td>1</td>\n",
       "      <td>19</td>\n",
       "      <td>...</td>\n",
       "      <td>14.0</td>\n",
       "      <td>74.0</td>\n",
       "      <td>11.0</td>\n",
       "      <td>3.0</td>\n",
       "      <td>0.0</td>\n",
       "      <td>6.0</td>\n",
       "      <td>1</td>\n",
       "      <td>121.010278</td>\n",
       "      <td>1</td>\n",
       "      <td>1</td>\n",
       "    </tr>\n",
       "    <tr>\n",
       "      <th>163776</th>\n",
       "      <td>2505.000</td>\n",
       "      <td>A</td>\n",
       "      <td>0</td>\n",
       "      <td>42</td>\n",
       "      <td>1</td>\n",
       "      <td>1</td>\n",
       "      <td>1</td>\n",
       "      <td>0</td>\n",
       "      <td>1</td>\n",
       "      <td>19</td>\n",
       "      <td>...</td>\n",
       "      <td>14.0</td>\n",
       "      <td>74.0</td>\n",
       "      <td>11.0</td>\n",
       "      <td>3.0</td>\n",
       "      <td>0.0</td>\n",
       "      <td>6.0</td>\n",
       "      <td>1</td>\n",
       "      <td>121.037500</td>\n",
       "      <td>1</td>\n",
       "      <td>0</td>\n",
       "    </tr>\n",
       "    <tr>\n",
       "      <th>163775</th>\n",
       "      <td>208.750</td>\n",
       "      <td>A</td>\n",
       "      <td>0</td>\n",
       "      <td>42</td>\n",
       "      <td>0</td>\n",
       "      <td>0</td>\n",
       "      <td>1</td>\n",
       "      <td>0</td>\n",
       "      <td>1</td>\n",
       "      <td>19</td>\n",
       "      <td>...</td>\n",
       "      <td>14.0</td>\n",
       "      <td>74.0</td>\n",
       "      <td>11.0</td>\n",
       "      <td>3.0</td>\n",
       "      <td>0.0</td>\n",
       "      <td>6.0</td>\n",
       "      <td>1</td>\n",
       "      <td>121.047778</td>\n",
       "      <td>0</td>\n",
       "      <td>2687</td>\n",
       "    </tr>\n",
       "    <tr>\n",
       "      <th>163772</th>\n",
       "      <td>492.650</td>\n",
       "      <td>A</td>\n",
       "      <td>0</td>\n",
       "      <td>42</td>\n",
       "      <td>0</td>\n",
       "      <td>1</td>\n",
       "      <td>0</td>\n",
       "      <td>0</td>\n",
       "      <td>1</td>\n",
       "      <td>20</td>\n",
       "      <td>...</td>\n",
       "      <td>14.0</td>\n",
       "      <td>74.0</td>\n",
       "      <td>11.0</td>\n",
       "      <td>3.0</td>\n",
       "      <td>0.0</td>\n",
       "      <td>6.0</td>\n",
       "      <td>1</td>\n",
       "      <td>165.838333</td>\n",
       "      <td>2687</td>\n",
       "      <td>4841</td>\n",
       "    </tr>\n",
       "  </tbody>\n",
       "</table>\n",
       "<p>5 rows × 26 columns</p>\n",
       "</div>"
      ],
      "text/plain": [
       "              V4 V7  Target  unique_transactions  is_large_amount_quantile  \\\n",
       "163778     4.175  A       0                   42                         0   \n",
       "163773   334.835  A       0                   42                         0   \n",
       "163776  2505.000  A       0                   42                         1   \n",
       "163775   208.750  A       0                   42                         0   \n",
       "163772   492.650  A       0                   42                         0   \n",
       "\n",
       "        is_large_amount_average  multiple_transactions  similar_transaction  \\\n",
       "163778                        0                      1                    0   \n",
       "163773                        0                      1                    0   \n",
       "163776                        1                      1                    0   \n",
       "163775                        0                      1                    0   \n",
       "163772                        1                      0                    0   \n",
       "\n",
       "        potential_fraud  day  ...  day_V13  day_of_year13  week_of_year13  \\\n",
       "163778                0   19  ...     19.0           79.0            12.0   \n",
       "163773                1   19  ...     14.0           74.0            11.0   \n",
       "163776                1   19  ...     14.0           74.0            11.0   \n",
       "163775                1   19  ...     14.0           74.0            11.0   \n",
       "163772                1   20  ...     14.0           74.0            11.0   \n",
       "\n",
       "        month13  hour13  is_weekday13  is_weekend13  V13_V5_diff  time_diff  \\\n",
       "163778      3.0     0.0           4.0             0     0.989722          0   \n",
       "163773      3.0     0.0           6.0             1   121.010278          1   \n",
       "163776      3.0     0.0           6.0             1   121.037500          1   \n",
       "163775      3.0     0.0           6.0             1   121.047778          0   \n",
       "163772      3.0     0.0           6.0             1   165.838333       2687   \n",
       "\n",
       "        time_diff_grouped  \n",
       "163778                  1  \n",
       "163773                  1  \n",
       "163776                  0  \n",
       "163775               2687  \n",
       "163772               4841  \n",
       "\n",
       "[5 rows x 26 columns]"
      ]
     },
     "execution_count": 121,
     "metadata": {},
     "output_type": "execute_result"
    }
   ],
   "source": [
    "train_data.head()"
   ]
  },
  {
   "cell_type": "code",
   "execution_count": 122,
   "id": "dff68d13",
   "metadata": {},
   "outputs": [
    {
     "data": {
      "text/html": [
       "<style type=\"text/css\">\n",
       "#T_673ff_row9_col1 {\n",
       "  background-color: lightgreen;\n",
       "}\n",
       "</style>\n",
       "<table id=\"T_673ff\">\n",
       "  <thead>\n",
       "    <tr>\n",
       "      <th class=\"blank level0\" >&nbsp;</th>\n",
       "      <th id=\"T_673ff_level0_col0\" class=\"col_heading level0 col0\" >Description</th>\n",
       "      <th id=\"T_673ff_level0_col1\" class=\"col_heading level0 col1\" >Value</th>\n",
       "    </tr>\n",
       "  </thead>\n",
       "  <tbody>\n",
       "    <tr>\n",
       "      <th id=\"T_673ff_level0_row0\" class=\"row_heading level0 row0\" >0</th>\n",
       "      <td id=\"T_673ff_row0_col0\" class=\"data row0 col0\" >Session id</td>\n",
       "      <td id=\"T_673ff_row0_col1\" class=\"data row0 col1\" >123</td>\n",
       "    </tr>\n",
       "    <tr>\n",
       "      <th id=\"T_673ff_level0_row1\" class=\"row_heading level0 row1\" >1</th>\n",
       "      <td id=\"T_673ff_row1_col0\" class=\"data row1 col0\" >Target</td>\n",
       "      <td id=\"T_673ff_row1_col1\" class=\"data row1 col1\" >Target</td>\n",
       "    </tr>\n",
       "    <tr>\n",
       "      <th id=\"T_673ff_level0_row2\" class=\"row_heading level0 row2\" >2</th>\n",
       "      <td id=\"T_673ff_row2_col0\" class=\"data row2 col0\" >Target type</td>\n",
       "      <td id=\"T_673ff_row2_col1\" class=\"data row2 col1\" >Binary</td>\n",
       "    </tr>\n",
       "    <tr>\n",
       "      <th id=\"T_673ff_level0_row3\" class=\"row_heading level0 row3\" >3</th>\n",
       "      <td id=\"T_673ff_row3_col0\" class=\"data row3 col0\" >Original data shape</td>\n",
       "      <td id=\"T_673ff_row3_col1\" class=\"data row3 col1\" >(233633, 26)</td>\n",
       "    </tr>\n",
       "    <tr>\n",
       "      <th id=\"T_673ff_level0_row4\" class=\"row_heading level0 row4\" >4</th>\n",
       "      <td id=\"T_673ff_row4_col0\" class=\"data row4 col0\" >Transformed data shape</td>\n",
       "      <td id=\"T_673ff_row4_col1\" class=\"data row4 col1\" >(233633, 31)</td>\n",
       "    </tr>\n",
       "    <tr>\n",
       "      <th id=\"T_673ff_level0_row5\" class=\"row_heading level0 row5\" >5</th>\n",
       "      <td id=\"T_673ff_row5_col0\" class=\"data row5 col0\" >Transformed train set shape</td>\n",
       "      <td id=\"T_673ff_row5_col1\" class=\"data row5 col1\" >(163543, 31)</td>\n",
       "    </tr>\n",
       "    <tr>\n",
       "      <th id=\"T_673ff_level0_row6\" class=\"row_heading level0 row6\" >6</th>\n",
       "      <td id=\"T_673ff_row6_col0\" class=\"data row6 col0\" >Transformed test set shape</td>\n",
       "      <td id=\"T_673ff_row6_col1\" class=\"data row6 col1\" >(70090, 31)</td>\n",
       "    </tr>\n",
       "    <tr>\n",
       "      <th id=\"T_673ff_level0_row7\" class=\"row_heading level0 row7\" >7</th>\n",
       "      <td id=\"T_673ff_row7_col0\" class=\"data row7 col0\" >Numeric features</td>\n",
       "      <td id=\"T_673ff_row7_col1\" class=\"data row7 col1\" >24</td>\n",
       "    </tr>\n",
       "    <tr>\n",
       "      <th id=\"T_673ff_level0_row8\" class=\"row_heading level0 row8\" >8</th>\n",
       "      <td id=\"T_673ff_row8_col0\" class=\"data row8 col0\" >Categorical features</td>\n",
       "      <td id=\"T_673ff_row8_col1\" class=\"data row8 col1\" >1</td>\n",
       "    </tr>\n",
       "    <tr>\n",
       "      <th id=\"T_673ff_level0_row9\" class=\"row_heading level0 row9\" >9</th>\n",
       "      <td id=\"T_673ff_row9_col0\" class=\"data row9 col0\" >Preprocess</td>\n",
       "      <td id=\"T_673ff_row9_col1\" class=\"data row9 col1\" >True</td>\n",
       "    </tr>\n",
       "    <tr>\n",
       "      <th id=\"T_673ff_level0_row10\" class=\"row_heading level0 row10\" >10</th>\n",
       "      <td id=\"T_673ff_row10_col0\" class=\"data row10 col0\" >Imputation type</td>\n",
       "      <td id=\"T_673ff_row10_col1\" class=\"data row10 col1\" >simple</td>\n",
       "    </tr>\n",
       "    <tr>\n",
       "      <th id=\"T_673ff_level0_row11\" class=\"row_heading level0 row11\" >11</th>\n",
       "      <td id=\"T_673ff_row11_col0\" class=\"data row11 col0\" >Numeric imputation</td>\n",
       "      <td id=\"T_673ff_row11_col1\" class=\"data row11 col1\" >mean</td>\n",
       "    </tr>\n",
       "    <tr>\n",
       "      <th id=\"T_673ff_level0_row12\" class=\"row_heading level0 row12\" >12</th>\n",
       "      <td id=\"T_673ff_row12_col0\" class=\"data row12 col0\" >Categorical imputation</td>\n",
       "      <td id=\"T_673ff_row12_col1\" class=\"data row12 col1\" >mode</td>\n",
       "    </tr>\n",
       "    <tr>\n",
       "      <th id=\"T_673ff_level0_row13\" class=\"row_heading level0 row13\" >13</th>\n",
       "      <td id=\"T_673ff_row13_col0\" class=\"data row13 col0\" >Maximum one-hot encoding</td>\n",
       "      <td id=\"T_673ff_row13_col1\" class=\"data row13 col1\" >25</td>\n",
       "    </tr>\n",
       "    <tr>\n",
       "      <th id=\"T_673ff_level0_row14\" class=\"row_heading level0 row14\" >14</th>\n",
       "      <td id=\"T_673ff_row14_col0\" class=\"data row14 col0\" >Encoding method</td>\n",
       "      <td id=\"T_673ff_row14_col1\" class=\"data row14 col1\" >None</td>\n",
       "    </tr>\n",
       "    <tr>\n",
       "      <th id=\"T_673ff_level0_row15\" class=\"row_heading level0 row15\" >15</th>\n",
       "      <td id=\"T_673ff_row15_col0\" class=\"data row15 col0\" >Fold Generator</td>\n",
       "      <td id=\"T_673ff_row15_col1\" class=\"data row15 col1\" >StratifiedKFold</td>\n",
       "    </tr>\n",
       "    <tr>\n",
       "      <th id=\"T_673ff_level0_row16\" class=\"row_heading level0 row16\" >16</th>\n",
       "      <td id=\"T_673ff_row16_col0\" class=\"data row16 col0\" >Fold Number</td>\n",
       "      <td id=\"T_673ff_row16_col1\" class=\"data row16 col1\" >10</td>\n",
       "    </tr>\n",
       "    <tr>\n",
       "      <th id=\"T_673ff_level0_row17\" class=\"row_heading level0 row17\" >17</th>\n",
       "      <td id=\"T_673ff_row17_col0\" class=\"data row17 col0\" >CPU Jobs</td>\n",
       "      <td id=\"T_673ff_row17_col1\" class=\"data row17 col1\" >-1</td>\n",
       "    </tr>\n",
       "    <tr>\n",
       "      <th id=\"T_673ff_level0_row18\" class=\"row_heading level0 row18\" >18</th>\n",
       "      <td id=\"T_673ff_row18_col0\" class=\"data row18 col0\" >Use GPU</td>\n",
       "      <td id=\"T_673ff_row18_col1\" class=\"data row18 col1\" >False</td>\n",
       "    </tr>\n",
       "    <tr>\n",
       "      <th id=\"T_673ff_level0_row19\" class=\"row_heading level0 row19\" >19</th>\n",
       "      <td id=\"T_673ff_row19_col0\" class=\"data row19 col0\" >Log Experiment</td>\n",
       "      <td id=\"T_673ff_row19_col1\" class=\"data row19 col1\" >False</td>\n",
       "    </tr>\n",
       "    <tr>\n",
       "      <th id=\"T_673ff_level0_row20\" class=\"row_heading level0 row20\" >20</th>\n",
       "      <td id=\"T_673ff_row20_col0\" class=\"data row20 col0\" >Experiment Name</td>\n",
       "      <td id=\"T_673ff_row20_col1\" class=\"data row20 col1\" >clf-default-name</td>\n",
       "    </tr>\n",
       "    <tr>\n",
       "      <th id=\"T_673ff_level0_row21\" class=\"row_heading level0 row21\" >21</th>\n",
       "      <td id=\"T_673ff_row21_col0\" class=\"data row21 col0\" >USI</td>\n",
       "      <td id=\"T_673ff_row21_col1\" class=\"data row21 col1\" >3bcd</td>\n",
       "    </tr>\n",
       "  </tbody>\n",
       "</table>\n"
      ],
      "text/plain": [
       "<pandas.io.formats.style.Styler at 0x21f4fc933a0>"
      ]
     },
     "metadata": {},
     "output_type": "display_data"
    }
   ],
   "source": [
    "from pycaret.classification import *\n",
    "s = setup(data = train_data, target = 'Target', session_id=123)"
   ]
  },
  {
   "cell_type": "code",
   "execution_count": 123,
   "id": "905d770a",
   "metadata": {},
   "outputs": [
    {
     "data": {
      "text/html": [
       "<div>\n",
       "<style scoped>\n",
       "    .dataframe tbody tr th:only-of-type {\n",
       "        vertical-align: middle;\n",
       "    }\n",
       "\n",
       "    .dataframe tbody tr th {\n",
       "        vertical-align: top;\n",
       "    }\n",
       "\n",
       "    .dataframe thead th {\n",
       "        text-align: right;\n",
       "    }\n",
       "</style>\n",
       "<table border=\"1\" class=\"dataframe\">\n",
       "  <thead>\n",
       "    <tr style=\"text-align: right;\">\n",
       "      <th></th>\n",
       "      <th></th>\n",
       "      <th></th>\n",
       "    </tr>\n",
       "    <tr>\n",
       "      <th></th>\n",
       "      <th></th>\n",
       "      <th></th>\n",
       "    </tr>\n",
       "  </thead>\n",
       "  <tbody>\n",
       "    <tr>\n",
       "      <th>Initiated</th>\n",
       "      <td>. . . . . . . . . . . . . . . . . .</td>\n",
       "      <td>04:13:04</td>\n",
       "    </tr>\n",
       "    <tr>\n",
       "      <th>Status</th>\n",
       "      <td>. . . . . . . . . . . . . . . . . .</td>\n",
       "      <td>Fitting 10 Folds</td>\n",
       "    </tr>\n",
       "    <tr>\n",
       "      <th>Estimator</th>\n",
       "      <td>. . . . . . . . . . . . . . . . . .</td>\n",
       "      <td>Logistic Regression</td>\n",
       "    </tr>\n",
       "  </tbody>\n",
       "</table>\n",
       "</div>"
      ],
      "text/plain": [
       "                                                                   \n",
       "                                                                   \n",
       "Initiated  . . . . . . . . . . . . . . . . . .             04:13:04\n",
       "Status     . . . . . . . . . . . . . . . . . .     Fitting 10 Folds\n",
       "Estimator  . . . . . . . . . . . . . . . . . .  Logistic Regression"
      ]
     },
     "metadata": {},
     "output_type": "display_data"
    },
    {
     "data": {
      "text/html": [
       "<div>\n",
       "<style scoped>\n",
       "    .dataframe tbody tr th:only-of-type {\n",
       "        vertical-align: middle;\n",
       "    }\n",
       "\n",
       "    .dataframe tbody tr th {\n",
       "        vertical-align: top;\n",
       "    }\n",
       "\n",
       "    .dataframe thead th {\n",
       "        text-align: right;\n",
       "    }\n",
       "</style>\n",
       "<table border=\"1\" class=\"dataframe\">\n",
       "  <thead>\n",
       "    <tr style=\"text-align: right;\">\n",
       "      <th></th>\n",
       "      <th>Model</th>\n",
       "      <th>Accuracy</th>\n",
       "      <th>AUC</th>\n",
       "      <th>Recall</th>\n",
       "      <th>Prec.</th>\n",
       "      <th>F1</th>\n",
       "      <th>Kappa</th>\n",
       "      <th>MCC</th>\n",
       "      <th>TT (Sec)</th>\n",
       "    </tr>\n",
       "  </thead>\n",
       "  <tbody>\n",
       "  </tbody>\n",
       "</table>\n",
       "</div>"
      ],
      "text/plain": [
       "Empty DataFrame\n",
       "Columns: [Model, Accuracy, AUC, Recall, Prec., F1, Kappa, MCC, TT (Sec)]\n",
       "Index: []"
      ]
     },
     "metadata": {},
     "output_type": "display_data"
    },
    {
     "data": {
      "application/vnd.jupyter.widget-view+json": {
       "model_id": "1dd7594e42ce4d54918038743a358660",
       "version_major": 2,
       "version_minor": 0
      },
      "text/plain": [
       "Processing:   0%|          | 0/69 [00:00<?, ?it/s]"
      ]
     },
     "metadata": {},
     "output_type": "display_data"
    },
    {
     "ename": "KeyboardInterrupt",
     "evalue": "",
     "output_type": "error",
     "traceback": [
      "\u001b[1;31m---------------------------------------------------------------------------\u001b[0m",
      "\u001b[1;31mKeyboardInterrupt\u001b[0m                         Traceback (most recent call last)",
      "Input \u001b[1;32mIn [123]\u001b[0m, in \u001b[0;36m<cell line: 1>\u001b[1;34m()\u001b[0m\n\u001b[1;32m----> 1\u001b[0m best_model \u001b[38;5;241m=\u001b[39m \u001b[43mcompare_models\u001b[49m\u001b[43m(\u001b[49m\u001b[43m)\u001b[49m\n",
      "File \u001b[1;32mC:\\Program Files\\lib\\site-packages\\pycaret\\utils\\generic.py:965\u001b[0m, in \u001b[0;36mcheck_if_global_is_not_none.<locals>.decorator.<locals>.wrapper\u001b[1;34m(*args, **kwargs)\u001b[0m\n\u001b[0;32m    963\u001b[0m     \u001b[38;5;28;01mif\u001b[39;00m globals_d[name] \u001b[38;5;129;01mis\u001b[39;00m \u001b[38;5;28;01mNone\u001b[39;00m:\n\u001b[0;32m    964\u001b[0m         \u001b[38;5;28;01mraise\u001b[39;00m \u001b[38;5;167;01mValueError\u001b[39;00m(message)\n\u001b[1;32m--> 965\u001b[0m \u001b[38;5;28;01mreturn\u001b[39;00m func(\u001b[38;5;241m*\u001b[39margs, \u001b[38;5;241m*\u001b[39m\u001b[38;5;241m*\u001b[39mkwargs)\n",
      "File \u001b[1;32mC:\\Program Files\\lib\\site-packages\\pycaret\\classification\\functional.py:824\u001b[0m, in \u001b[0;36mcompare_models\u001b[1;34m(include, exclude, fold, round, cross_validation, sort, n_select, budget_time, turbo, errors, fit_kwargs, groups, experiment_custom_tags, probability_threshold, engine, verbose, parallel)\u001b[0m\n\u001b[0;32m    681\u001b[0m \u001b[38;5;129m@check_if_global_is_not_none\u001b[39m(\u001b[38;5;28mglobals\u001b[39m(), _CURRENT_EXPERIMENT_DECORATOR_DICT)\n\u001b[0;32m    682\u001b[0m \u001b[38;5;28;01mdef\u001b[39;00m \u001b[38;5;21mcompare_models\u001b[39m(\n\u001b[0;32m    683\u001b[0m     include: Optional[List[Union[\u001b[38;5;28mstr\u001b[39m, Any]]] \u001b[38;5;241m=\u001b[39m \u001b[38;5;28;01mNone\u001b[39;00m,\n\u001b[1;32m   (...)\u001b[0m\n\u001b[0;32m    699\u001b[0m     parallel: Optional[ParallelBackend] \u001b[38;5;241m=\u001b[39m \u001b[38;5;28;01mNone\u001b[39;00m,\n\u001b[0;32m    700\u001b[0m ) \u001b[38;5;241m-\u001b[39m\u001b[38;5;241m>\u001b[39m Union[Any, List[Any]]:\n\u001b[0;32m    702\u001b[0m     \u001b[38;5;124;03m\"\"\"\u001b[39;00m\n\u001b[0;32m    703\u001b[0m \u001b[38;5;124;03m    This function trains and evaluates performance of all estimators available in the\u001b[39;00m\n\u001b[0;32m    704\u001b[0m \u001b[38;5;124;03m    model library using cross validation. The output of this function is a score grid\u001b[39;00m\n\u001b[1;32m   (...)\u001b[0m\n\u001b[0;32m    821\u001b[0m \u001b[38;5;124;03m    - No models are logged in ``MLFlow`` when ``cross_validation`` parameter is False.\u001b[39;00m\n\u001b[0;32m    822\u001b[0m \u001b[38;5;124;03m    \"\"\"\u001b[39;00m\n\u001b[1;32m--> 824\u001b[0m     \u001b[38;5;28;01mreturn\u001b[39;00m \u001b[43m_CURRENT_EXPERIMENT\u001b[49m\u001b[38;5;241;43m.\u001b[39;49m\u001b[43mcompare_models\u001b[49m\u001b[43m(\u001b[49m\n\u001b[0;32m    825\u001b[0m \u001b[43m        \u001b[49m\u001b[43minclude\u001b[49m\u001b[38;5;241;43m=\u001b[39;49m\u001b[43minclude\u001b[49m\u001b[43m,\u001b[49m\n\u001b[0;32m    826\u001b[0m \u001b[43m        \u001b[49m\u001b[43mexclude\u001b[49m\u001b[38;5;241;43m=\u001b[39;49m\u001b[43mexclude\u001b[49m\u001b[43m,\u001b[49m\n\u001b[0;32m    827\u001b[0m \u001b[43m        \u001b[49m\u001b[43mfold\u001b[49m\u001b[38;5;241;43m=\u001b[39;49m\u001b[43mfold\u001b[49m\u001b[43m,\u001b[49m\n\u001b[0;32m    828\u001b[0m \u001b[43m        \u001b[49m\u001b[38;5;28;43mround\u001b[39;49m\u001b[38;5;241;43m=\u001b[39;49m\u001b[38;5;28;43mround\u001b[39;49m\u001b[43m,\u001b[49m\n\u001b[0;32m    829\u001b[0m \u001b[43m        \u001b[49m\u001b[43mcross_validation\u001b[49m\u001b[38;5;241;43m=\u001b[39;49m\u001b[43mcross_validation\u001b[49m\u001b[43m,\u001b[49m\n\u001b[0;32m    830\u001b[0m \u001b[43m        \u001b[49m\u001b[43msort\u001b[49m\u001b[38;5;241;43m=\u001b[39;49m\u001b[43msort\u001b[49m\u001b[43m,\u001b[49m\n\u001b[0;32m    831\u001b[0m \u001b[43m        \u001b[49m\u001b[43mn_select\u001b[49m\u001b[38;5;241;43m=\u001b[39;49m\u001b[43mn_select\u001b[49m\u001b[43m,\u001b[49m\n\u001b[0;32m    832\u001b[0m \u001b[43m        \u001b[49m\u001b[43mbudget_time\u001b[49m\u001b[38;5;241;43m=\u001b[39;49m\u001b[43mbudget_time\u001b[49m\u001b[43m,\u001b[49m\n\u001b[0;32m    833\u001b[0m \u001b[43m        \u001b[49m\u001b[43mturbo\u001b[49m\u001b[38;5;241;43m=\u001b[39;49m\u001b[43mturbo\u001b[49m\u001b[43m,\u001b[49m\n\u001b[0;32m    834\u001b[0m \u001b[43m        \u001b[49m\u001b[43merrors\u001b[49m\u001b[38;5;241;43m=\u001b[39;49m\u001b[43merrors\u001b[49m\u001b[43m,\u001b[49m\n\u001b[0;32m    835\u001b[0m \u001b[43m        \u001b[49m\u001b[43mfit_kwargs\u001b[49m\u001b[38;5;241;43m=\u001b[39;49m\u001b[43mfit_kwargs\u001b[49m\u001b[43m,\u001b[49m\n\u001b[0;32m    836\u001b[0m \u001b[43m        \u001b[49m\u001b[43mgroups\u001b[49m\u001b[38;5;241;43m=\u001b[39;49m\u001b[43mgroups\u001b[49m\u001b[43m,\u001b[49m\n\u001b[0;32m    837\u001b[0m \u001b[43m        \u001b[49m\u001b[43mexperiment_custom_tags\u001b[49m\u001b[38;5;241;43m=\u001b[39;49m\u001b[43mexperiment_custom_tags\u001b[49m\u001b[43m,\u001b[49m\n\u001b[0;32m    838\u001b[0m \u001b[43m        \u001b[49m\u001b[43mprobability_threshold\u001b[49m\u001b[38;5;241;43m=\u001b[39;49m\u001b[43mprobability_threshold\u001b[49m\u001b[43m,\u001b[49m\n\u001b[0;32m    839\u001b[0m \u001b[43m        \u001b[49m\u001b[43mengine\u001b[49m\u001b[38;5;241;43m=\u001b[39;49m\u001b[43mengine\u001b[49m\u001b[43m,\u001b[49m\n\u001b[0;32m    840\u001b[0m \u001b[43m        \u001b[49m\u001b[43mverbose\u001b[49m\u001b[38;5;241;43m=\u001b[39;49m\u001b[43mverbose\u001b[49m\u001b[43m,\u001b[49m\n\u001b[0;32m    841\u001b[0m \u001b[43m        \u001b[49m\u001b[43mparallel\u001b[49m\u001b[38;5;241;43m=\u001b[39;49m\u001b[43mparallel\u001b[49m\u001b[43m,\u001b[49m\n\u001b[0;32m    842\u001b[0m \u001b[43m    \u001b[49m\u001b[43m)\u001b[49m\n",
      "File \u001b[1;32mC:\\Program Files\\lib\\site-packages\\pycaret\\classification\\oop.py:1192\u001b[0m, in \u001b[0;36mClassificationExperiment.compare_models\u001b[1;34m(self, include, exclude, fold, round, cross_validation, sort, n_select, budget_time, turbo, errors, fit_kwargs, groups, experiment_custom_tags, probability_threshold, engine, verbose, parallel)\u001b[0m\n\u001b[0;32m   1189\u001b[0m         \u001b[38;5;28mself\u001b[39m\u001b[38;5;241m.\u001b[39m_set_engine(estimator\u001b[38;5;241m=\u001b[39mestimator, engine\u001b[38;5;241m=\u001b[39meng, severity\u001b[38;5;241m=\u001b[39m\u001b[38;5;124m\"\u001b[39m\u001b[38;5;124merror\u001b[39m\u001b[38;5;124m\"\u001b[39m)\n\u001b[0;32m   1191\u001b[0m \u001b[38;5;28;01mtry\u001b[39;00m:\n\u001b[1;32m-> 1192\u001b[0m     return_values \u001b[38;5;241m=\u001b[39m \u001b[38;5;28;43msuper\u001b[39;49m\u001b[43m(\u001b[49m\u001b[43m)\u001b[49m\u001b[38;5;241;43m.\u001b[39;49m\u001b[43mcompare_models\u001b[49m\u001b[43m(\u001b[49m\n\u001b[0;32m   1193\u001b[0m \u001b[43m        \u001b[49m\u001b[43minclude\u001b[49m\u001b[38;5;241;43m=\u001b[39;49m\u001b[43minclude\u001b[49m\u001b[43m,\u001b[49m\n\u001b[0;32m   1194\u001b[0m \u001b[43m        \u001b[49m\u001b[43mexclude\u001b[49m\u001b[38;5;241;43m=\u001b[39;49m\u001b[43mexclude\u001b[49m\u001b[43m,\u001b[49m\n\u001b[0;32m   1195\u001b[0m \u001b[43m        \u001b[49m\u001b[43mfold\u001b[49m\u001b[38;5;241;43m=\u001b[39;49m\u001b[43mfold\u001b[49m\u001b[43m,\u001b[49m\n\u001b[0;32m   1196\u001b[0m \u001b[43m        \u001b[49m\u001b[38;5;28;43mround\u001b[39;49m\u001b[38;5;241;43m=\u001b[39;49m\u001b[38;5;28;43mround\u001b[39;49m\u001b[43m,\u001b[49m\n\u001b[0;32m   1197\u001b[0m \u001b[43m        \u001b[49m\u001b[43mcross_validation\u001b[49m\u001b[38;5;241;43m=\u001b[39;49m\u001b[43mcross_validation\u001b[49m\u001b[43m,\u001b[49m\n\u001b[0;32m   1198\u001b[0m \u001b[43m        \u001b[49m\u001b[43msort\u001b[49m\u001b[38;5;241;43m=\u001b[39;49m\u001b[43msort\u001b[49m\u001b[43m,\u001b[49m\n\u001b[0;32m   1199\u001b[0m \u001b[43m        \u001b[49m\u001b[43mn_select\u001b[49m\u001b[38;5;241;43m=\u001b[39;49m\u001b[43mn_select\u001b[49m\u001b[43m,\u001b[49m\n\u001b[0;32m   1200\u001b[0m \u001b[43m        \u001b[49m\u001b[43mbudget_time\u001b[49m\u001b[38;5;241;43m=\u001b[39;49m\u001b[43mbudget_time\u001b[49m\u001b[43m,\u001b[49m\n\u001b[0;32m   1201\u001b[0m \u001b[43m        \u001b[49m\u001b[43mturbo\u001b[49m\u001b[38;5;241;43m=\u001b[39;49m\u001b[43mturbo\u001b[49m\u001b[43m,\u001b[49m\n\u001b[0;32m   1202\u001b[0m \u001b[43m        \u001b[49m\u001b[43merrors\u001b[49m\u001b[38;5;241;43m=\u001b[39;49m\u001b[43merrors\u001b[49m\u001b[43m,\u001b[49m\n\u001b[0;32m   1203\u001b[0m \u001b[43m        \u001b[49m\u001b[43mfit_kwargs\u001b[49m\u001b[38;5;241;43m=\u001b[39;49m\u001b[43mfit_kwargs\u001b[49m\u001b[43m,\u001b[49m\n\u001b[0;32m   1204\u001b[0m \u001b[43m        \u001b[49m\u001b[43mgroups\u001b[49m\u001b[38;5;241;43m=\u001b[39;49m\u001b[43mgroups\u001b[49m\u001b[43m,\u001b[49m\n\u001b[0;32m   1205\u001b[0m \u001b[43m        \u001b[49m\u001b[43mexperiment_custom_tags\u001b[49m\u001b[38;5;241;43m=\u001b[39;49m\u001b[43mexperiment_custom_tags\u001b[49m\u001b[43m,\u001b[49m\n\u001b[0;32m   1206\u001b[0m \u001b[43m        \u001b[49m\u001b[43mverbose\u001b[49m\u001b[38;5;241;43m=\u001b[39;49m\u001b[43mverbose\u001b[49m\u001b[43m,\u001b[49m\n\u001b[0;32m   1207\u001b[0m \u001b[43m        \u001b[49m\u001b[43mprobability_threshold\u001b[49m\u001b[38;5;241;43m=\u001b[39;49m\u001b[43mprobability_threshold\u001b[49m\u001b[43m,\u001b[49m\n\u001b[0;32m   1208\u001b[0m \u001b[43m        \u001b[49m\u001b[43mparallel\u001b[49m\u001b[38;5;241;43m=\u001b[39;49m\u001b[43mparallel\u001b[49m\u001b[43m,\u001b[49m\n\u001b[0;32m   1209\u001b[0m \u001b[43m        \u001b[49m\u001b[43mcaller_params\u001b[49m\u001b[38;5;241;43m=\u001b[39;49m\u001b[43mcaller_params\u001b[49m\u001b[43m,\u001b[49m\n\u001b[0;32m   1210\u001b[0m \u001b[43m    \u001b[49m\u001b[43m)\u001b[49m\n\u001b[0;32m   1211\u001b[0m \u001b[38;5;28;01mfinally\u001b[39;00m:\n\u001b[0;32m   1212\u001b[0m     \u001b[38;5;28;01mif\u001b[39;00m engine \u001b[38;5;129;01mis\u001b[39;00m \u001b[38;5;129;01mnot\u001b[39;00m \u001b[38;5;28;01mNone\u001b[39;00m:\n\u001b[0;32m   1213\u001b[0m         \u001b[38;5;66;03m# Reset the models back to the default engines\u001b[39;00m\n",
      "File \u001b[1;32mC:\\Program Files\\lib\\site-packages\\pycaret\\internal\\pycaret_experiment\\supervised_experiment.py:794\u001b[0m, in \u001b[0;36m_SupervisedExperiment.compare_models\u001b[1;34m(self, include, exclude, fold, round, cross_validation, sort, n_select, budget_time, turbo, errors, fit_kwargs, groups, experiment_custom_tags, probability_threshold, verbose, parallel, caller_params)\u001b[0m\n\u001b[0;32m    792\u001b[0m \u001b[38;5;28;01melse\u001b[39;00m:\n\u001b[0;32m    793\u001b[0m     \u001b[38;5;28;01mtry\u001b[39;00m:\n\u001b[1;32m--> 794\u001b[0m         model, model_fit_time \u001b[38;5;241m=\u001b[39m \u001b[38;5;28mself\u001b[39m\u001b[38;5;241m.\u001b[39m_create_model(\u001b[38;5;241m*\u001b[39m\u001b[38;5;241m*\u001b[39mcreate_model_args)\n\u001b[0;32m    795\u001b[0m         model_results \u001b[38;5;241m=\u001b[39m \u001b[38;5;28mself\u001b[39m\u001b[38;5;241m.\u001b[39mpull(pop\u001b[38;5;241m=\u001b[39m\u001b[38;5;28;01mTrue\u001b[39;00m)\n\u001b[0;32m    796\u001b[0m         \u001b[38;5;28;01massert\u001b[39;00m (\n\u001b[0;32m    797\u001b[0m             np\u001b[38;5;241m.\u001b[39msum(\n\u001b[0;32m    798\u001b[0m                 model_results\u001b[38;5;241m.\u001b[39mdrop(\n\u001b[1;32m   (...)\u001b[0m\n\u001b[0;32m    802\u001b[0m             \u001b[38;5;241m!=\u001b[39m \u001b[38;5;241m0.0\u001b[39m\n\u001b[0;32m    803\u001b[0m         )\n",
      "File \u001b[1;32mC:\\Program Files\\lib\\site-packages\\pycaret\\internal\\pycaret_experiment\\supervised_experiment.py:1523\u001b[0m, in \u001b[0;36m_SupervisedExperiment._create_model\u001b[1;34m(self, estimator, fold, round, cross_validation, predict, fit_kwargs, groups, refit, probability_threshold, experiment_custom_tags, verbose, system, add_to_model_list, X_train_data, y_train_data, metrics, display, model_only, return_train_score, **kwargs)\u001b[0m\n\u001b[0;32m   1520\u001b[0m         \u001b[38;5;28;01mreturn\u001b[39;00m model, model_fit_time\n\u001b[0;32m   1521\u001b[0m     \u001b[38;5;28;01mreturn\u001b[39;00m model\n\u001b[1;32m-> 1523\u001b[0m model, model_fit_time, model_results, _ \u001b[38;5;241m=\u001b[39m \u001b[38;5;28;43mself\u001b[39;49m\u001b[38;5;241;43m.\u001b[39;49m\u001b[43m_create_model_with_cv\u001b[49m\u001b[43m(\u001b[49m\n\u001b[0;32m   1524\u001b[0m \u001b[43m    \u001b[49m\u001b[43mmodel\u001b[49m\u001b[43m,\u001b[49m\n\u001b[0;32m   1525\u001b[0m \u001b[43m    \u001b[49m\u001b[43mdata_X\u001b[49m\u001b[43m,\u001b[49m\n\u001b[0;32m   1526\u001b[0m \u001b[43m    \u001b[49m\u001b[43mdata_y\u001b[49m\u001b[43m,\u001b[49m\n\u001b[0;32m   1527\u001b[0m \u001b[43m    \u001b[49m\u001b[43mfit_kwargs\u001b[49m\u001b[43m,\u001b[49m\n\u001b[0;32m   1528\u001b[0m \u001b[43m    \u001b[49m\u001b[38;5;28;43mround\u001b[39;49m\u001b[43m,\u001b[49m\n\u001b[0;32m   1529\u001b[0m \u001b[43m    \u001b[49m\u001b[43mcv\u001b[49m\u001b[43m,\u001b[49m\n\u001b[0;32m   1530\u001b[0m \u001b[43m    \u001b[49m\u001b[43mgroups\u001b[49m\u001b[43m,\u001b[49m\n\u001b[0;32m   1531\u001b[0m \u001b[43m    \u001b[49m\u001b[43mmetrics\u001b[49m\u001b[43m,\u001b[49m\n\u001b[0;32m   1532\u001b[0m \u001b[43m    \u001b[49m\u001b[43mrefit\u001b[49m\u001b[43m,\u001b[49m\n\u001b[0;32m   1533\u001b[0m \u001b[43m    \u001b[49m\u001b[43msystem\u001b[49m\u001b[43m,\u001b[49m\n\u001b[0;32m   1534\u001b[0m \u001b[43m    \u001b[49m\u001b[43mdisplay\u001b[49m\u001b[43m,\u001b[49m\n\u001b[0;32m   1535\u001b[0m \u001b[43m    \u001b[49m\u001b[43mreturn_train_score\u001b[49m\u001b[38;5;241;43m=\u001b[39;49m\u001b[43mreturn_train_score\u001b[49m\u001b[43m,\u001b[49m\n\u001b[0;32m   1536\u001b[0m \u001b[43m\u001b[49m\u001b[43m)\u001b[49m\n\u001b[0;32m   1538\u001b[0m \u001b[38;5;66;03m# end runtime\u001b[39;00m\n\u001b[0;32m   1539\u001b[0m runtime_end \u001b[38;5;241m=\u001b[39m time\u001b[38;5;241m.\u001b[39mtime()\n",
      "File \u001b[1;32mC:\\Program Files\\lib\\site-packages\\pycaret\\internal\\pycaret_experiment\\supervised_experiment.py:1117\u001b[0m, in \u001b[0;36m_SupervisedExperiment._create_model_with_cv\u001b[1;34m(self, model, data_X, data_y, fit_kwargs, round, cv, groups, metrics, refit, system, display, return_train_score)\u001b[0m\n\u001b[0;32m   1115\u001b[0m model_fit_start \u001b[38;5;241m=\u001b[39m time\u001b[38;5;241m.\u001b[39mtime()\n\u001b[0;32m   1116\u001b[0m \u001b[38;5;28;01mwith\u001b[39;00m redirect_output(\u001b[38;5;28mself\u001b[39m\u001b[38;5;241m.\u001b[39mlogger):\n\u001b[1;32m-> 1117\u001b[0m     scores \u001b[38;5;241m=\u001b[39m \u001b[43mcross_validate\u001b[49m\u001b[43m(\u001b[49m\n\u001b[0;32m   1118\u001b[0m \u001b[43m        \u001b[49m\u001b[43mpipeline_with_model\u001b[49m\u001b[43m,\u001b[49m\n\u001b[0;32m   1119\u001b[0m \u001b[43m        \u001b[49m\u001b[43mdata_X\u001b[49m\u001b[43m,\u001b[49m\n\u001b[0;32m   1120\u001b[0m \u001b[43m        \u001b[49m\u001b[43mdata_y\u001b[49m\u001b[43m,\u001b[49m\n\u001b[0;32m   1121\u001b[0m \u001b[43m        \u001b[49m\u001b[43mcv\u001b[49m\u001b[38;5;241;43m=\u001b[39;49m\u001b[43mcv\u001b[49m\u001b[43m,\u001b[49m\n\u001b[0;32m   1122\u001b[0m \u001b[43m        \u001b[49m\u001b[43mgroups\u001b[49m\u001b[38;5;241;43m=\u001b[39;49m\u001b[43mgroups\u001b[49m\u001b[43m,\u001b[49m\n\u001b[0;32m   1123\u001b[0m \u001b[43m        \u001b[49m\u001b[43mscoring\u001b[49m\u001b[38;5;241;43m=\u001b[39;49m\u001b[43mmetrics_dict\u001b[49m\u001b[43m,\u001b[49m\n\u001b[0;32m   1124\u001b[0m \u001b[43m        \u001b[49m\u001b[43mfit_params\u001b[49m\u001b[38;5;241;43m=\u001b[39;49m\u001b[43mfit_kwargs\u001b[49m\u001b[43m,\u001b[49m\n\u001b[0;32m   1125\u001b[0m \u001b[43m        \u001b[49m\u001b[43mn_jobs\u001b[49m\u001b[38;5;241;43m=\u001b[39;49m\u001b[43mn_jobs\u001b[49m\u001b[43m,\u001b[49m\n\u001b[0;32m   1126\u001b[0m \u001b[43m        \u001b[49m\u001b[43mreturn_train_score\u001b[49m\u001b[38;5;241;43m=\u001b[39;49m\u001b[43mreturn_train_score\u001b[49m\u001b[43m,\u001b[49m\n\u001b[0;32m   1127\u001b[0m \u001b[43m        \u001b[49m\u001b[43merror_score\u001b[49m\u001b[38;5;241;43m=\u001b[39;49m\u001b[38;5;241;43m0\u001b[39;49m\u001b[43m,\u001b[49m\n\u001b[0;32m   1128\u001b[0m \u001b[43m    \u001b[49m\u001b[43m)\u001b[49m\n\u001b[0;32m   1129\u001b[0m model_fit_end \u001b[38;5;241m=\u001b[39m time\u001b[38;5;241m.\u001b[39mtime()\n\u001b[0;32m   1130\u001b[0m model_fit_time \u001b[38;5;241m=\u001b[39m np\u001b[38;5;241m.\u001b[39marray(model_fit_end \u001b[38;5;241m-\u001b[39m model_fit_start)\u001b[38;5;241m.\u001b[39mround(\u001b[38;5;241m2\u001b[39m)\n",
      "File \u001b[1;32m~\\AppData\\Roaming\\Python\\Python39\\site-packages\\sklearn\\model_selection\\_validation.py:266\u001b[0m, in \u001b[0;36mcross_validate\u001b[1;34m(estimator, X, y, groups, scoring, cv, n_jobs, verbose, fit_params, pre_dispatch, return_train_score, return_estimator, error_score)\u001b[0m\n\u001b[0;32m    263\u001b[0m \u001b[38;5;66;03m# We clone the estimator to make sure that all the folds are\u001b[39;00m\n\u001b[0;32m    264\u001b[0m \u001b[38;5;66;03m# independent, and that it is pickle-able.\u001b[39;00m\n\u001b[0;32m    265\u001b[0m parallel \u001b[38;5;241m=\u001b[39m Parallel(n_jobs\u001b[38;5;241m=\u001b[39mn_jobs, verbose\u001b[38;5;241m=\u001b[39mverbose, pre_dispatch\u001b[38;5;241m=\u001b[39mpre_dispatch)\n\u001b[1;32m--> 266\u001b[0m results \u001b[38;5;241m=\u001b[39m \u001b[43mparallel\u001b[49m\u001b[43m(\u001b[49m\n\u001b[0;32m    267\u001b[0m \u001b[43m    \u001b[49m\u001b[43mdelayed\u001b[49m\u001b[43m(\u001b[49m\u001b[43m_fit_and_score\u001b[49m\u001b[43m)\u001b[49m\u001b[43m(\u001b[49m\n\u001b[0;32m    268\u001b[0m \u001b[43m        \u001b[49m\u001b[43mclone\u001b[49m\u001b[43m(\u001b[49m\u001b[43mestimator\u001b[49m\u001b[43m)\u001b[49m\u001b[43m,\u001b[49m\n\u001b[0;32m    269\u001b[0m \u001b[43m        \u001b[49m\u001b[43mX\u001b[49m\u001b[43m,\u001b[49m\n\u001b[0;32m    270\u001b[0m \u001b[43m        \u001b[49m\u001b[43my\u001b[49m\u001b[43m,\u001b[49m\n\u001b[0;32m    271\u001b[0m \u001b[43m        \u001b[49m\u001b[43mscorers\u001b[49m\u001b[43m,\u001b[49m\n\u001b[0;32m    272\u001b[0m \u001b[43m        \u001b[49m\u001b[43mtrain\u001b[49m\u001b[43m,\u001b[49m\n\u001b[0;32m    273\u001b[0m \u001b[43m        \u001b[49m\u001b[43mtest\u001b[49m\u001b[43m,\u001b[49m\n\u001b[0;32m    274\u001b[0m \u001b[43m        \u001b[49m\u001b[43mverbose\u001b[49m\u001b[43m,\u001b[49m\n\u001b[0;32m    275\u001b[0m \u001b[43m        \u001b[49m\u001b[38;5;28;43;01mNone\u001b[39;49;00m\u001b[43m,\u001b[49m\n\u001b[0;32m    276\u001b[0m \u001b[43m        \u001b[49m\u001b[43mfit_params\u001b[49m\u001b[43m,\u001b[49m\n\u001b[0;32m    277\u001b[0m \u001b[43m        \u001b[49m\u001b[43mreturn_train_score\u001b[49m\u001b[38;5;241;43m=\u001b[39;49m\u001b[43mreturn_train_score\u001b[49m\u001b[43m,\u001b[49m\n\u001b[0;32m    278\u001b[0m \u001b[43m        \u001b[49m\u001b[43mreturn_times\u001b[49m\u001b[38;5;241;43m=\u001b[39;49m\u001b[38;5;28;43;01mTrue\u001b[39;49;00m\u001b[43m,\u001b[49m\n\u001b[0;32m    279\u001b[0m \u001b[43m        \u001b[49m\u001b[43mreturn_estimator\u001b[49m\u001b[38;5;241;43m=\u001b[39;49m\u001b[43mreturn_estimator\u001b[49m\u001b[43m,\u001b[49m\n\u001b[0;32m    280\u001b[0m \u001b[43m        \u001b[49m\u001b[43merror_score\u001b[49m\u001b[38;5;241;43m=\u001b[39;49m\u001b[43merror_score\u001b[49m\u001b[43m,\u001b[49m\n\u001b[0;32m    281\u001b[0m \u001b[43m    \u001b[49m\u001b[43m)\u001b[49m\n\u001b[0;32m    282\u001b[0m \u001b[43m    \u001b[49m\u001b[38;5;28;43;01mfor\u001b[39;49;00m\u001b[43m \u001b[49m\u001b[43mtrain\u001b[49m\u001b[43m,\u001b[49m\u001b[43m \u001b[49m\u001b[43mtest\u001b[49m\u001b[43m \u001b[49m\u001b[38;5;129;43;01min\u001b[39;49;00m\u001b[43m \u001b[49m\u001b[43mcv\u001b[49m\u001b[38;5;241;43m.\u001b[39;49m\u001b[43msplit\u001b[49m\u001b[43m(\u001b[49m\u001b[43mX\u001b[49m\u001b[43m,\u001b[49m\u001b[43m \u001b[49m\u001b[43my\u001b[49m\u001b[43m,\u001b[49m\u001b[43m \u001b[49m\u001b[43mgroups\u001b[49m\u001b[43m)\u001b[49m\n\u001b[0;32m    283\u001b[0m \u001b[43m\u001b[49m\u001b[43m)\u001b[49m\n\u001b[0;32m    285\u001b[0m _warn_or_raise_about_fit_failures(results, error_score)\n\u001b[0;32m    287\u001b[0m \u001b[38;5;66;03m# For callabe scoring, the return type is only know after calling. If the\u001b[39;00m\n\u001b[0;32m    288\u001b[0m \u001b[38;5;66;03m# return type is a dictionary, the error scores can now be inserted with\u001b[39;00m\n\u001b[0;32m    289\u001b[0m \u001b[38;5;66;03m# the correct key.\u001b[39;00m\n",
      "File \u001b[1;32m~\\AppData\\Roaming\\Python\\Python39\\site-packages\\joblib\\parallel.py:1098\u001b[0m, in \u001b[0;36mParallel.__call__\u001b[1;34m(self, iterable)\u001b[0m\n\u001b[0;32m   1095\u001b[0m     \u001b[38;5;28mself\u001b[39m\u001b[38;5;241m.\u001b[39m_iterating \u001b[38;5;241m=\u001b[39m \u001b[38;5;28;01mFalse\u001b[39;00m\n\u001b[0;32m   1097\u001b[0m \u001b[38;5;28;01mwith\u001b[39;00m \u001b[38;5;28mself\u001b[39m\u001b[38;5;241m.\u001b[39m_backend\u001b[38;5;241m.\u001b[39mretrieval_context():\n\u001b[1;32m-> 1098\u001b[0m     \u001b[38;5;28;43mself\u001b[39;49m\u001b[38;5;241;43m.\u001b[39;49m\u001b[43mretrieve\u001b[49m\u001b[43m(\u001b[49m\u001b[43m)\u001b[49m\n\u001b[0;32m   1099\u001b[0m \u001b[38;5;66;03m# Make sure that we get a last message telling us we are done\u001b[39;00m\n\u001b[0;32m   1100\u001b[0m elapsed_time \u001b[38;5;241m=\u001b[39m time\u001b[38;5;241m.\u001b[39mtime() \u001b[38;5;241m-\u001b[39m \u001b[38;5;28mself\u001b[39m\u001b[38;5;241m.\u001b[39m_start_time\n",
      "File \u001b[1;32m~\\AppData\\Roaming\\Python\\Python39\\site-packages\\joblib\\parallel.py:975\u001b[0m, in \u001b[0;36mParallel.retrieve\u001b[1;34m(self)\u001b[0m\n\u001b[0;32m    973\u001b[0m \u001b[38;5;28;01mtry\u001b[39;00m:\n\u001b[0;32m    974\u001b[0m     \u001b[38;5;28;01mif\u001b[39;00m \u001b[38;5;28mgetattr\u001b[39m(\u001b[38;5;28mself\u001b[39m\u001b[38;5;241m.\u001b[39m_backend, \u001b[38;5;124m'\u001b[39m\u001b[38;5;124msupports_timeout\u001b[39m\u001b[38;5;124m'\u001b[39m, \u001b[38;5;28;01mFalse\u001b[39;00m):\n\u001b[1;32m--> 975\u001b[0m         \u001b[38;5;28mself\u001b[39m\u001b[38;5;241m.\u001b[39m_output\u001b[38;5;241m.\u001b[39mextend(\u001b[43mjob\u001b[49m\u001b[38;5;241;43m.\u001b[39;49m\u001b[43mget\u001b[49m\u001b[43m(\u001b[49m\u001b[43mtimeout\u001b[49m\u001b[38;5;241;43m=\u001b[39;49m\u001b[38;5;28;43mself\u001b[39;49m\u001b[38;5;241;43m.\u001b[39;49m\u001b[43mtimeout\u001b[49m\u001b[43m)\u001b[49m)\n\u001b[0;32m    976\u001b[0m     \u001b[38;5;28;01melse\u001b[39;00m:\n\u001b[0;32m    977\u001b[0m         \u001b[38;5;28mself\u001b[39m\u001b[38;5;241m.\u001b[39m_output\u001b[38;5;241m.\u001b[39mextend(job\u001b[38;5;241m.\u001b[39mget())\n",
      "File \u001b[1;32m~\\AppData\\Roaming\\Python\\Python39\\site-packages\\joblib\\_parallel_backends.py:567\u001b[0m, in \u001b[0;36mLokyBackend.wrap_future_result\u001b[1;34m(future, timeout)\u001b[0m\n\u001b[0;32m    564\u001b[0m \u001b[38;5;124;03m\"\"\"Wrapper for Future.result to implement the same behaviour as\u001b[39;00m\n\u001b[0;32m    565\u001b[0m \u001b[38;5;124;03mAsyncResults.get from multiprocessing.\"\"\"\u001b[39;00m\n\u001b[0;32m    566\u001b[0m \u001b[38;5;28;01mtry\u001b[39;00m:\n\u001b[1;32m--> 567\u001b[0m     \u001b[38;5;28;01mreturn\u001b[39;00m \u001b[43mfuture\u001b[49m\u001b[38;5;241;43m.\u001b[39;49m\u001b[43mresult\u001b[49m\u001b[43m(\u001b[49m\u001b[43mtimeout\u001b[49m\u001b[38;5;241;43m=\u001b[39;49m\u001b[43mtimeout\u001b[49m\u001b[43m)\u001b[49m\n\u001b[0;32m    568\u001b[0m \u001b[38;5;28;01mexcept\u001b[39;00m CfTimeoutError \u001b[38;5;28;01mas\u001b[39;00m e:\n\u001b[0;32m    569\u001b[0m     \u001b[38;5;28;01mraise\u001b[39;00m \u001b[38;5;167;01mTimeoutError\u001b[39;00m \u001b[38;5;28;01mfrom\u001b[39;00m \u001b[38;5;21;01me\u001b[39;00m\n",
      "File \u001b[1;32mC:\\Program Files\\lib\\concurrent\\futures\\_base.py:441\u001b[0m, in \u001b[0;36mFuture.result\u001b[1;34m(self, timeout)\u001b[0m\n\u001b[0;32m    438\u001b[0m \u001b[38;5;28;01melif\u001b[39;00m \u001b[38;5;28mself\u001b[39m\u001b[38;5;241m.\u001b[39m_state \u001b[38;5;241m==\u001b[39m FINISHED:\n\u001b[0;32m    439\u001b[0m     \u001b[38;5;28;01mreturn\u001b[39;00m \u001b[38;5;28mself\u001b[39m\u001b[38;5;241m.\u001b[39m__get_result()\n\u001b[1;32m--> 441\u001b[0m \u001b[38;5;28;43mself\u001b[39;49m\u001b[38;5;241;43m.\u001b[39;49m\u001b[43m_condition\u001b[49m\u001b[38;5;241;43m.\u001b[39;49m\u001b[43mwait\u001b[49m\u001b[43m(\u001b[49m\u001b[43mtimeout\u001b[49m\u001b[43m)\u001b[49m\n\u001b[0;32m    443\u001b[0m \u001b[38;5;28;01mif\u001b[39;00m \u001b[38;5;28mself\u001b[39m\u001b[38;5;241m.\u001b[39m_state \u001b[38;5;129;01min\u001b[39;00m [CANCELLED, CANCELLED_AND_NOTIFIED]:\n\u001b[0;32m    444\u001b[0m     \u001b[38;5;28;01mraise\u001b[39;00m CancelledError()\n",
      "File \u001b[1;32mC:\\Program Files\\lib\\threading.py:312\u001b[0m, in \u001b[0;36mCondition.wait\u001b[1;34m(self, timeout)\u001b[0m\n\u001b[0;32m    310\u001b[0m \u001b[38;5;28;01mtry\u001b[39;00m:    \u001b[38;5;66;03m# restore state no matter what (e.g., KeyboardInterrupt)\u001b[39;00m\n\u001b[0;32m    311\u001b[0m     \u001b[38;5;28;01mif\u001b[39;00m timeout \u001b[38;5;129;01mis\u001b[39;00m \u001b[38;5;28;01mNone\u001b[39;00m:\n\u001b[1;32m--> 312\u001b[0m         \u001b[43mwaiter\u001b[49m\u001b[38;5;241;43m.\u001b[39;49m\u001b[43macquire\u001b[49m\u001b[43m(\u001b[49m\u001b[43m)\u001b[49m\n\u001b[0;32m    313\u001b[0m         gotit \u001b[38;5;241m=\u001b[39m \u001b[38;5;28;01mTrue\u001b[39;00m\n\u001b[0;32m    314\u001b[0m     \u001b[38;5;28;01melse\u001b[39;00m:\n",
      "\u001b[1;31mKeyboardInterrupt\u001b[0m: "
     ]
    }
   ],
   "source": [
    "best_model = compare_models()"
   ]
  },
  {
   "cell_type": "code",
   "execution_count": null,
   "id": "b35fd362",
   "metadata": {},
   "outputs": [],
   "source": [
    "print(best_model)"
   ]
  },
  {
   "cell_type": "code",
   "execution_count": null,
   "id": "76f80921",
   "metadata": {},
   "outputs": [],
   "source": [
    "model = create_model('xgboost')"
   ]
  },
  {
   "cell_type": "code",
   "execution_count": null,
   "id": "d460002b",
   "metadata": {},
   "outputs": [],
   "source": [
    "print(model)"
   ]
  },
  {
   "cell_type": "code",
   "execution_count": null,
   "id": "c089175f",
   "metadata": {},
   "outputs": [],
   "source": [
    "plot_model(model, plot='feature')"
   ]
  },
  {
   "cell_type": "code",
   "execution_count": null,
   "id": "96e94a2f",
   "metadata": {},
   "outputs": [],
   "source": [
    "unseen_predictions = predict_model(model, data=test_df)\n",
    "unseen_predictions.head()"
   ]
  },
  {
   "cell_type": "code",
   "execution_count": null,
   "id": "5996ba0b",
   "metadata": {},
   "outputs": [],
   "source": [
    "target_predict = unseen_predictions['prediction_label'].tolist()\n",
    "pred_probability = unseen_predictions['prediction_score'].tolist()\n"
   ]
  },
  {
   "cell_type": "code",
   "execution_count": null,
   "id": "3459dd01",
   "metadata": {},
   "outputs": [],
   "source": [
    "%%time\n",
    "pred_probability = gb_clf.predict_proba(one_hot_encoded_data_test_scaled)[:,0]\n",
    "pred_probability = [round(item,2) for item in pred_probability]"
   ]
  },
  {
   "cell_type": "code",
   "execution_count": null,
   "id": "da3888bb",
   "metadata": {},
   "outputs": [],
   "source": []
  }
 ],
 "metadata": {
  "kernelspec": {
   "display_name": "Python 3 (ipykernel)",
   "language": "python",
   "name": "python3"
  },
  "language_info": {
   "codemirror_mode": {
    "name": "ipython",
    "version": 3
   },
   "file_extension": ".py",
   "mimetype": "text/x-python",
   "name": "python",
   "nbconvert_exporter": "python",
   "pygments_lexer": "ipython3",
   "version": "3.9.13"
  }
 },
 "nbformat": 4,
 "nbformat_minor": 5
}
